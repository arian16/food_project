{
 "cells": [
  {
   "cell_type": "code",
   "execution_count": 2,
   "metadata": {},
   "outputs": [
    {
     "name": "stderr",
     "output_type": "stream",
     "text": [
      "[nltk_data] Downloading package stopwords to\n",
      "[nltk_data]     /Users/kristenboyle/nltk_data...\n",
      "[nltk_data]   Package stopwords is already up-to-date!\n"
     ]
    }
   ],
   "source": [
    "# Import necessary libraries\n",
    "import pandas as pd\n",
    "import numpy as np\n",
    "# For text analysis\n",
    "from nltk.tokenize import sent_tokenize, word_tokenize   \n",
    "import nltk\n",
    "nltk.download('stopwords')\n",
    "from nltk.corpus import stopwords\n",
    "# Word embeddings\n",
    "import gensim \n",
    "from gensim.models import Word2Vec\n",
    "# Statistics and model related\n",
    "from statistics import mode, StatisticsError\n",
    "import random \n",
    "from sklearn import preprocessing\n",
    "from sklearn.utils import resample\n",
    "# Model development\n",
    "from sklearn.model_selection import train_test_split\n",
    "from sklearn.linear_model import LogisticRegression\n",
    "from sklearn.metrics import accuracy_score\n",
    "# EDA\n",
    "import matplotlib.pyplot as plt\n",
    "import seaborn as sns\n",
    "%matplotlib inline"
   ]
  },
  {
   "cell_type": "code",
   "execution_count": 3,
   "metadata": {},
   "outputs": [
    {
     "name": "stderr",
     "output_type": "stream",
     "text": [
      "/Users/kristenboyle/anaconda3/envs/food_venv/lib/python3.7/site-packages/IPython/core/interactiveshell.py:3058: DtypeWarning: Columns (17,32,49) have mixed types. Specify dtype option on import or set low_memory=False.\n",
      "  interactivity=interactivity, compiler=compiler, result=result)\n"
     ]
    }
   ],
   "source": [
    "# Read tips dataset\n",
    "df_tip = pd.read_csv('/Users/kristenboyle/Downloads/yelp_dataset/tip.csv')\n",
    "# Load ratings, stars, etc. for businesses\n",
    "df_business = pd.read_csv('/Users/kristenboyle/Downloads/yelp_dataset/business.csv')\n",
    "# Food inspection data\n",
    "df_inspection = pd.read_csv('/Users/kristenboyle/Downloads/restaurant-inspections-1.csv')"
   ]
  },
  {
   "cell_type": "code",
   "execution_count": 27,
   "metadata": {},
   "outputs": [],
   "source": [
    "# Functions\n",
    "def pick_one(input_list):\n",
    "    x = random.choice(input_list)\n",
    "    return x\n",
    "\n",
    "# Find the length of a list in the df row\n",
    "def get_len(x):\n",
    "    y = len(x)\n",
    "    return y\n",
    "\n",
    "# The below function removes the stop words and tokenize a sentence\n",
    "def preprocess(text):\n",
    "    tokens = gensim.utils.simple_preprocess(text)\n",
    "    stop_words = stopwords.words('english')\n",
    "    return [tok for tok in tokens if tok not in stop_words]\n",
    "\n",
    "# Finds the mode in the list, if there is tie pick random\n",
    "def find_mode(input_list):\n",
    "    try: \n",
    "        x = mode(input_list)\n",
    "    except StatisticsError: # If the list is bimodal, then take a random element. Justification: add noise\n",
    "        x = random.choice(input_list)\n",
    "    return x"
   ]
  },
  {
   "cell_type": "code",
   "execution_count": 10,
   "metadata": {},
   "outputs": [
    {
     "data": {
      "text/html": [
       "<div>\n",
       "<style scoped>\n",
       "    .dataframe tbody tr th:only-of-type {\n",
       "        vertical-align: middle;\n",
       "    }\n",
       "\n",
       "    .dataframe tbody tr th {\n",
       "        vertical-align: top;\n",
       "    }\n",
       "\n",
       "    .dataframe thead th {\n",
       "        text-align: right;\n",
       "    }\n",
       "</style>\n",
       "<table border=\"1\" class=\"dataframe\">\n",
       "  <thead>\n",
       "    <tr style=\"text-align: right;\">\n",
       "      <th></th>\n",
       "      <th>compliment_count</th>\n",
       "      <th>date</th>\n",
       "      <th>user_id</th>\n",
       "      <th>text</th>\n",
       "      <th>text_all</th>\n",
       "      <th>tips_count</th>\n",
       "    </tr>\n",
       "    <tr>\n",
       "      <th>business_id</th>\n",
       "      <th></th>\n",
       "      <th></th>\n",
       "      <th></th>\n",
       "      <th></th>\n",
       "      <th></th>\n",
       "      <th></th>\n",
       "    </tr>\n",
       "  </thead>\n",
       "  <tbody>\n",
       "    <tr>\n",
       "      <td>--1UhMGODdWsrMastO9DZw</td>\n",
       "      <td>[0]</td>\n",
       "      <td>[2017-07-26 17:26:25]</td>\n",
       "      <td>[4YHZzwlxEMi7zWO6Osszdw]</td>\n",
       "      <td>[Delicious! One of the best burritos, salsa an...</td>\n",
       "      <td>Delicious! One of the best burritos, salsa and...</td>\n",
       "      <td>1</td>\n",
       "    </tr>\n",
       "    <tr>\n",
       "      <td>--6MefnULPED_I942VcFNA</td>\n",
       "      <td>[0, 0, 0, 0, 0, 0, 0, 0, 0, 0, 0, 0, 0, 0]</td>\n",
       "      <td>[2013-03-24 01:12:20, 2014-07-11 15:48:40, 201...</td>\n",
       "      <td>[EiP1OFgs-XGcKZux0OKWIA, 2oMkzQcRL7-d7URt3Xo_X...</td>\n",
       "      <td>[BBQ pork is sold out early on Saturday, $5 lu...</td>\n",
       "      <td>BBQ pork is sold out early on Saturday;$5 lunc...</td>\n",
       "      <td>14</td>\n",
       "    </tr>\n",
       "    <tr>\n",
       "      <td>--7zmmkVg-IMGaXbuVd0SQ</td>\n",
       "      <td>[0, 0, 0, 0, 0, 0, 0, 0, 0, 0, 0]</td>\n",
       "      <td>[2017-08-17 20:35:18, 2015-02-27 23:35:49, 201...</td>\n",
       "      <td>[Z7pFsGpIyLzMTZsXjTFF1A, Zqhl8pDShvMr2Vt1mIGC4...</td>\n",
       "      <td>[Good place to stop when traffic don't go., Fl...</td>\n",
       "      <td>Good place to stop when traffic don't go.;Flig...</td>\n",
       "      <td>11</td>\n",
       "    </tr>\n",
       "    <tr>\n",
       "      <td>--9QQLMTbFzLJ_oT-ON3Xw</td>\n",
       "      <td>[0, 0]</td>\n",
       "      <td>[2016-08-27 17:35:41, 2017-02-05 19:07:14]</td>\n",
       "      <td>[mfdb2wCYv7yiu0fyzFKMBg, mfdb2wCYv7yiu0fyzFKMBg]</td>\n",
       "      <td>[Tip? Don't get your hair cut here. If they're...</td>\n",
       "      <td>Tip? Don't get your hair cut here. If they're ...</td>\n",
       "      <td>2</td>\n",
       "    </tr>\n",
       "    <tr>\n",
       "      <td>--9e1ONYQuAa-CB_Rrw7Tw</td>\n",
       "      <td>[0, 0, 0, 0, 0, 0, 0, 0, 0, 0, 0, 0, 0, 0, 0, ...</td>\n",
       "      <td>[2014-06-27 01:37:27, 2016-12-19 00:29:11, 201...</td>\n",
       "      <td>[LgFDWZTLi1w9OGi5BtKORg, q-v8elVPvKz0KvK69QSj1...</td>\n",
       "      <td>[Wine pairings for my prix fixe meal.  Mmmm, *...</td>\n",
       "      <td>Wine pairings for my prix fixe meal.  Mmmm;*Cu...</td>\n",
       "      <td>160</td>\n",
       "    </tr>\n",
       "  </tbody>\n",
       "</table>\n",
       "</div>"
      ],
      "text/plain": [
       "                                                         compliment_count  \\\n",
       "business_id                                                                 \n",
       "--1UhMGODdWsrMastO9DZw                                                [0]   \n",
       "--6MefnULPED_I942VcFNA         [0, 0, 0, 0, 0, 0, 0, 0, 0, 0, 0, 0, 0, 0]   \n",
       "--7zmmkVg-IMGaXbuVd0SQ                  [0, 0, 0, 0, 0, 0, 0, 0, 0, 0, 0]   \n",
       "--9QQLMTbFzLJ_oT-ON3Xw                                             [0, 0]   \n",
       "--9e1ONYQuAa-CB_Rrw7Tw  [0, 0, 0, 0, 0, 0, 0, 0, 0, 0, 0, 0, 0, 0, 0, ...   \n",
       "\n",
       "                                                                     date  \\\n",
       "business_id                                                                 \n",
       "--1UhMGODdWsrMastO9DZw                              [2017-07-26 17:26:25]   \n",
       "--6MefnULPED_I942VcFNA  [2013-03-24 01:12:20, 2014-07-11 15:48:40, 201...   \n",
       "--7zmmkVg-IMGaXbuVd0SQ  [2017-08-17 20:35:18, 2015-02-27 23:35:49, 201...   \n",
       "--9QQLMTbFzLJ_oT-ON3Xw         [2016-08-27 17:35:41, 2017-02-05 19:07:14]   \n",
       "--9e1ONYQuAa-CB_Rrw7Tw  [2014-06-27 01:37:27, 2016-12-19 00:29:11, 201...   \n",
       "\n",
       "                                                                  user_id  \\\n",
       "business_id                                                                 \n",
       "--1UhMGODdWsrMastO9DZw                           [4YHZzwlxEMi7zWO6Osszdw]   \n",
       "--6MefnULPED_I942VcFNA  [EiP1OFgs-XGcKZux0OKWIA, 2oMkzQcRL7-d7URt3Xo_X...   \n",
       "--7zmmkVg-IMGaXbuVd0SQ  [Z7pFsGpIyLzMTZsXjTFF1A, Zqhl8pDShvMr2Vt1mIGC4...   \n",
       "--9QQLMTbFzLJ_oT-ON3Xw   [mfdb2wCYv7yiu0fyzFKMBg, mfdb2wCYv7yiu0fyzFKMBg]   \n",
       "--9e1ONYQuAa-CB_Rrw7Tw  [LgFDWZTLi1w9OGi5BtKORg, q-v8elVPvKz0KvK69QSj1...   \n",
       "\n",
       "                                                                     text  \\\n",
       "business_id                                                                 \n",
       "--1UhMGODdWsrMastO9DZw  [Delicious! One of the best burritos, salsa an...   \n",
       "--6MefnULPED_I942VcFNA  [BBQ pork is sold out early on Saturday, $5 lu...   \n",
       "--7zmmkVg-IMGaXbuVd0SQ  [Good place to stop when traffic don't go., Fl...   \n",
       "--9QQLMTbFzLJ_oT-ON3Xw  [Tip? Don't get your hair cut here. If they're...   \n",
       "--9e1ONYQuAa-CB_Rrw7Tw  [Wine pairings for my prix fixe meal.  Mmmm, *...   \n",
       "\n",
       "                                                                 text_all  \\\n",
       "business_id                                                                 \n",
       "--1UhMGODdWsrMastO9DZw  Delicious! One of the best burritos, salsa and...   \n",
       "--6MefnULPED_I942VcFNA  BBQ pork is sold out early on Saturday;$5 lunc...   \n",
       "--7zmmkVg-IMGaXbuVd0SQ  Good place to stop when traffic don't go.;Flig...   \n",
       "--9QQLMTbFzLJ_oT-ON3Xw  Tip? Don't get your hair cut here. If they're ...   \n",
       "--9e1ONYQuAa-CB_Rrw7Tw  Wine pairings for my prix fixe meal.  Mmmm;*Cu...   \n",
       "\n",
       "                        tips_count  \n",
       "business_id                         \n",
       "--1UhMGODdWsrMastO9DZw           1  \n",
       "--6MefnULPED_I942VcFNA          14  \n",
       "--7zmmkVg-IMGaXbuVd0SQ          11  \n",
       "--9QQLMTbFzLJ_oT-ON3Xw           2  \n",
       "--9e1ONYQuAa-CB_Rrw7Tw         160  "
      ]
     },
     "execution_count": 10,
     "metadata": {},
     "output_type": "execute_result"
    }
   ],
   "source": [
    "# Combine all the tips for each business\n",
    "df_tip2 = df_tip.groupby('business_id').agg(lambda x: x.tolist()) \n",
    "# Convert each row (list of tips) for \"text\" column to a single string separated by \";\"\n",
    "df_tip2['text_all'] = df_tip2['text'].str.join(';')\n",
    "# count the number of tips for each business\n",
    "df_tip2['tips_count'] = df_tip2['compliment_count'].apply(get_len)\n",
    "df_tip2.head(3)"
   ]
  },
  {
   "cell_type": "code",
   "execution_count": 13,
   "metadata": {},
   "outputs": [
    {
     "data": {
      "text/plain": [
       "business_id\n",
       "--1UhMGODdWsrMastO9DZw    [delicious, one, best, burritos, salsa, vegeta...\n",
       "--6MefnULPED_I942VcFNA    [bbq, pork, sold, early, saturday, lunch, spec...\n",
       "--7zmmkVg-IMGaXbuVd0SQ    [good, place, stop, traffic, go, flights, beer...\n",
       "Name: text_clean, dtype: object"
      ]
     },
     "execution_count": 13,
     "metadata": {},
     "output_type": "execute_result"
    }
   ],
   "source": [
    "# Clean and tokenize\n",
    "df_tip2 = df_tip2.dropna() # Remove NaNs\n",
    "desired_series = df_tip2.text_all.tolist()\n",
    "series_token = [preprocess(sentence) for sentence in desired_series] # Function: preprocess\n",
    "df_tip2['text_clean'] = series_token # Create a series with tokens\n",
    "df_tip2['text_clean'].head(3)"
   ]
  },
  {
   "cell_type": "code",
   "execution_count": 14,
   "metadata": {},
   "outputs": [],
   "source": [
    "# Not using word2vec anymore\n",
    "## Word2vec model\n",
    "#model = Word2Vec(df_tip2['text_clean'], size=50, window=5, min_count=1, workers=4)\n",
    "#model.save(\"word2vec.model\")\n",
    "## Predict the similarity between words based on the Word2vec model\n",
    "#print(\"Cosine similarity between 'roach' \" + \"and 'bug': \", \n",
    "#      model.similarity('roach', 'clean'))"
   ]
  },
  {
   "cell_type": "code",
   "execution_count": 15,
   "metadata": {},
   "outputs": [
    {
     "data": {
      "text/plain": [
       "Index(['attributes.AgesAllowed', 'hours.Thursday', 'attributes.CoatCheck',\n",
       "       'attributes.BusinessParking', 'attributes.GoodForMeal',\n",
       "       'attributes.Alcohol', 'attributes.RestaurantsTableService',\n",
       "       'attributes.RestaurantsTakeOut', 'attributes.RestaurantsDelivery',\n",
       "       'attributes.Music', 'hours.Wednesday', 'attributes.Ambience',\n",
       "       'attributes.HasTV', 'address', 'review_count',\n",
       "       'attributes.RestaurantsPriceRange2', 'attributes.HairSpecializesIn',\n",
       "       'attributes.RestaurantsCounterService', 'attributes.BestNights',\n",
       "       'business_id', 'attributes.DietaryRestrictions',\n",
       "       'attributes.RestaurantsReservations', 'categories', 'latitude',\n",
       "       'attributes.Corkage', 'attributes.BusinessAcceptsBitcoin',\n",
       "       'attributes.OutdoorSeating', 'hours.Tuesday', 'attributes.Smoking',\n",
       "       'attributes.Caters', 'attributes.BusinessAcceptsCreditCards',\n",
       "       'attributes.RestaurantsAttire', 'attributes.Open24Hours', 'name',\n",
       "       'attributes.WheelchairAccessible', 'state', 'attributes.DogsAllowed',\n",
       "       'stars', 'attributes.AcceptsInsurance', 'attributes.DriveThru', 'city',\n",
       "       'attributes.HappyHour', 'hours.Monday', 'attributes',\n",
       "       'attributes.RestaurantsGoodForGroups', 'attributes.ByAppointmentOnly',\n",
       "       'attributes.BikeParking', 'attributes.GoodForKids', 'is_open',\n",
       "       'attributes.BYOB', 'postal_code', 'hours.Friday',\n",
       "       'attributes.GoodForDancing', 'attributes.WiFi', 'hours.Sunday',\n",
       "       'attributes.NoiseLevel', 'hours.Saturday', 'longitude', 'hours',\n",
       "       'attributes.BYOBCorkage'],\n",
       "      dtype='object')"
      ]
     },
     "execution_count": 15,
     "metadata": {},
     "output_type": "execute_result"
    }
   ],
   "source": [
    "# df_business: separate businesses in Las Vegas from other cities\n",
    "df_business1 = df_business[df_business['city'] == \"Las Vegas\"]\n",
    "df_business1.columns"
   ]
  },
  {
   "cell_type": "code",
   "execution_count": 16,
   "metadata": {},
   "outputs": [
    {
     "data": {
      "text/html": [
       "<div>\n",
       "<style scoped>\n",
       "    .dataframe tbody tr th:only-of-type {\n",
       "        vertical-align: middle;\n",
       "    }\n",
       "\n",
       "    .dataframe tbody tr th {\n",
       "        vertical-align: top;\n",
       "    }\n",
       "\n",
       "    .dataframe thead th {\n",
       "        text-align: right;\n",
       "    }\n",
       "</style>\n",
       "<table border=\"1\" class=\"dataframe\">\n",
       "  <thead>\n",
       "    <tr style=\"text-align: right;\">\n",
       "      <th></th>\n",
       "      <th>business_id</th>\n",
       "      <th>name</th>\n",
       "      <th>stars</th>\n",
       "      <th>review_count</th>\n",
       "      <th>categories</th>\n",
       "      <th>attributes.RestaurantsPriceRange2</th>\n",
       "      <th>address</th>\n",
       "    </tr>\n",
       "  </thead>\n",
       "  <tbody>\n",
       "    <tr>\n",
       "      <td>7</td>\n",
       "      <td>gbQN7vr_caG_A1ugSmGhWg</td>\n",
       "      <td>Supercuts</td>\n",
       "      <td>3.5</td>\n",
       "      <td>3</td>\n",
       "      <td>Hair Salons, Hair Stylists, Barbers, Men's Hai...</td>\n",
       "      <td>3</td>\n",
       "      <td>4545 E Tropicana Rd Ste 8, Tropicana</td>\n",
       "    </tr>\n",
       "    <tr>\n",
       "      <td>17</td>\n",
       "      <td>PZ-LZzSlhSe9utkQYU8pFg</td>\n",
       "      <td>Carluccio's Tivoli Gardens</td>\n",
       "      <td>4.0</td>\n",
       "      <td>40</td>\n",
       "      <td>Restaurants, Italian</td>\n",
       "      <td>2</td>\n",
       "      <td>1775 E Tropicana Ave, Ste 29</td>\n",
       "    </tr>\n",
       "    <tr>\n",
       "      <td>22</td>\n",
       "      <td>KWywu2tTEPWmR9JnBc0WyQ</td>\n",
       "      <td>Hunk Mansion</td>\n",
       "      <td>4.0</td>\n",
       "      <td>107</td>\n",
       "      <td>Nightlife, Arts &amp; Entertainment, Bars, Strip C...</td>\n",
       "      <td>2</td>\n",
       "      <td>6007 Dean Martin Dr</td>\n",
       "    </tr>\n",
       "  </tbody>\n",
       "</table>\n",
       "</div>"
      ],
      "text/plain": [
       "               business_id                        name  stars  review_count  \\\n",
       "7   gbQN7vr_caG_A1ugSmGhWg                   Supercuts    3.5             3   \n",
       "17  PZ-LZzSlhSe9utkQYU8pFg  Carluccio's Tivoli Gardens    4.0            40   \n",
       "22  KWywu2tTEPWmR9JnBc0WyQ                Hunk Mansion    4.0           107   \n",
       "\n",
       "                                           categories  \\\n",
       "7   Hair Salons, Hair Stylists, Barbers, Men's Hai...   \n",
       "17                               Restaurants, Italian   \n",
       "22  Nightlife, Arts & Entertainment, Bars, Strip C...   \n",
       "\n",
       "   attributes.RestaurantsPriceRange2                               address  \n",
       "7                                  3  4545 E Tropicana Rd Ste 8, Tropicana  \n",
       "17                                 2          1775 E Tropicana Ave, Ste 29  \n",
       "22                                 2                   6007 Dean Martin Dr  "
      ]
     },
     "execution_count": 16,
     "metadata": {},
     "output_type": "execute_result"
    }
   ],
   "source": [
    "# Create a new df_business with only a subset of features\n",
    "df_business2 = df_business1.loc[:, ['business_id', 'name', 'stars', 'review_count', 'categories', \n",
    "                                    'attributes.RestaurantsPriceRange2', 'address'] ]\n",
    "df_business2 = df_business2.dropna() # Remove NaNs\n",
    "df_business2.head(3)"
   ]
  },
  {
   "cell_type": "code",
   "execution_count": 18,
   "metadata": {},
   "outputs": [
    {
     "name": "stderr",
     "output_type": "stream",
     "text": [
      "/Users/kristenboyle/anaconda3/envs/food_venv/lib/python3.7/site-packages/ipykernel_launcher.py:4: SettingWithCopyWarning: \n",
      "A value is trying to be set on a copy of a slice from a DataFrame.\n",
      "Try using .loc[row_indexer,col_indexer] = value instead\n",
      "\n",
      "See the caveats in the documentation: http://pandas.pydata.org/pandas-docs/stable/user_guide/indexing.html#returning-a-view-versus-a-copy\n",
      "  after removing the cwd from sys.path.\n"
     ]
    },
    {
     "data": {
      "text/html": [
       "<div>\n",
       "<style scoped>\n",
       "    .dataframe tbody tr th:only-of-type {\n",
       "        vertical-align: middle;\n",
       "    }\n",
       "\n",
       "    .dataframe tbody tr th {\n",
       "        vertical-align: top;\n",
       "    }\n",
       "\n",
       "    .dataframe thead th {\n",
       "        text-align: right;\n",
       "    }\n",
       "</style>\n",
       "<table border=\"1\" class=\"dataframe\">\n",
       "  <thead>\n",
       "    <tr style=\"text-align: right;\">\n",
       "      <th></th>\n",
       "      <th>business_id</th>\n",
       "      <th>name</th>\n",
       "      <th>stars</th>\n",
       "      <th>review_count</th>\n",
       "      <th>categories</th>\n",
       "      <th>attributes.RestaurantsPriceRange2</th>\n",
       "      <th>address</th>\n",
       "    </tr>\n",
       "  </thead>\n",
       "  <tbody>\n",
       "    <tr>\n",
       "      <td>17</td>\n",
       "      <td>PZ-LZzSlhSe9utkQYU8pFg</td>\n",
       "      <td>carluccio's tivoli gardens</td>\n",
       "      <td>4.0</td>\n",
       "      <td>40</td>\n",
       "      <td>Restaurants, Italian</td>\n",
       "      <td>2</td>\n",
       "      <td>1775 E Tropicana Ave, Ste 29</td>\n",
       "    </tr>\n",
       "    <tr>\n",
       "      <td>25</td>\n",
       "      <td>tstimHoMcYbkSC4eBA1wEg</td>\n",
       "      <td>maria's mexican restaurant &amp; bakery</td>\n",
       "      <td>4.5</td>\n",
       "      <td>184</td>\n",
       "      <td>Mexican, Restaurants, Patisserie/Cake Shop, Fo...</td>\n",
       "      <td>1</td>\n",
       "      <td>6055 E Lake Mead Blvd</td>\n",
       "    </tr>\n",
       "    <tr>\n",
       "      <td>75</td>\n",
       "      <td>kANF0dbeoW34s2vwh6Umfw</td>\n",
       "      <td>dairy queen</td>\n",
       "      <td>2.0</td>\n",
       "      <td>33</td>\n",
       "      <td>Fast Food, Food, Restaurants, Ice Cream &amp; Froz...</td>\n",
       "      <td>1</td>\n",
       "      <td>6125 Spring Mountain Rd</td>\n",
       "    </tr>\n",
       "  </tbody>\n",
       "</table>\n",
       "</div>"
      ],
      "text/plain": [
       "               business_id                                 name  stars  \\\n",
       "17  PZ-LZzSlhSe9utkQYU8pFg           carluccio's tivoli gardens    4.0   \n",
       "25  tstimHoMcYbkSC4eBA1wEg  maria's mexican restaurant & bakery    4.5   \n",
       "75  kANF0dbeoW34s2vwh6Umfw                          dairy queen    2.0   \n",
       "\n",
       "    review_count                                         categories  \\\n",
       "17            40                               Restaurants, Italian   \n",
       "25           184  Mexican, Restaurants, Patisserie/Cake Shop, Fo...   \n",
       "75            33  Fast Food, Food, Restaurants, Ice Cream & Froz...   \n",
       "\n",
       "   attributes.RestaurantsPriceRange2                       address  \n",
       "17                                 2  1775 E Tropicana Ave, Ste 29  \n",
       "25                                 1         6055 E Lake Mead Blvd  \n",
       "75                                 1       6125 Spring Mountain Rd  "
      ]
     },
     "execution_count": 18,
     "metadata": {},
     "output_type": "execute_result"
    }
   ],
   "source": [
    "# Includes businesses if \"Restaurants\" exist in the \"categoris\" column\n",
    "df_business3 = df_business2[df_business2['categories'].str.contains('Restaurants')]\n",
    "# Clean the restaurant names\n",
    "df_business3['name'] = df_business3.loc[:,'name'].str.lower()\n",
    "df_business3.head(3)"
   ]
  },
  {
   "cell_type": "code",
   "execution_count": 19,
   "metadata": {},
   "outputs": [],
   "source": [
    "# Food inspection data\n",
    "# Separate inspection grade based on year\n",
    "df_inspection_2017 = df_inspection[df_inspection['Record Updated'].str.contains('2017')]\n",
    "df_inspection_2016 = df_inspection[df_inspection['Record Updated'].str.contains('2016')]\n",
    "df_inspection_2015 = df_inspection[df_inspection['Record Updated'].str.contains('2015')]\n",
    "df_inspection_2014 = df_inspection[df_inspection['Record Updated'].str.contains('2014')]\n",
    "df_inspection_2013 = df_inspection[df_inspection['Record Updated'].str.contains('2013')]\n",
    "df_inspection_2012 = df_inspection[df_inspection['Record Updated'].str.contains('2012')]"
   ]
  },
  {
   "cell_type": "code",
   "execution_count": 25,
   "metadata": {},
   "outputs": [
    {
     "data": {
      "text/plain": [
       "(39, 23)"
      ]
     },
     "execution_count": 25,
     "metadata": {},
     "output_type": "execute_result"
    }
   ],
   "source": [
    "# Check the number of observations per year\n",
    "#df_inspection_2017.shape # (18035, 23)\n",
    "#df_inspection_2016.shape # (19880, 23)\n",
    "#df_inspection_2015.shape # (21582, 23)\n",
    "#df_inspection_2014.shape # (20061, 23)\n",
    "#df_inspection_2013.shape # (68681, 23)\n",
    "df_inspection_2012.shape # (39, 23)"
   ]
  },
  {
   "cell_type": "code",
   "execution_count": 26,
   "metadata": {},
   "outputs": [],
   "source": [
    "# Combine all the inspection throughtout the year\n",
    "df_inspection_2017vr2 = df_inspection_2017.groupby('Address').agg(lambda x: x.tolist()) \n",
    "df_inspection_2016vr2 = df_inspection_2016.groupby('Address').agg(lambda x: x.tolist()) \n",
    "df_inspection_2015vr2 = df_inspection_2015.groupby('Address').agg(lambda x: x.tolist()) \n",
    "df_inspection_2014vr2 = df_inspection_2014.groupby('Address').agg(lambda x: x.tolist()) \n",
    "df_inspection_2013vr2 = df_inspection_2013.groupby('Address').agg(lambda x: x.tolist()) "
   ]
  },
  {
   "cell_type": "code",
   "execution_count": null,
   "metadata": {},
   "outputs": [],
   "source": [
    "# Find mode for each \n",
    "df_inspection_2017vr2['mode'] = df_inspection_2017vr2['Inspection Grade'].apply(find_mode)\n",
    "df_inspection_2016vr2['mode'] = df_inspection_2016vr2['Inspection Grade'].apply(find_mode)\n",
    "df_inspection_2015vr2['mode'] = df_inspection_2015vr2['Inspection Grade'].apply(find_mode)\n",
    "df_inspection_2014vr2['mode'] = df_inspection_2014vr2['Inspection Grade'].apply(find_mode)\n",
    "df_inspection_2013vr2['mode'] = df_inspection_2013vr2['Inspection Grade'].apply(find_mode)"
   ]
  },
  {
   "cell_type": "code",
   "execution_count": null,
   "metadata": {},
   "outputs": [],
   "source": []
  },
  {
   "cell_type": "code",
   "execution_count": null,
   "metadata": {},
   "outputs": [],
   "source": []
  },
  {
   "cell_type": "code",
   "execution_count": null,
   "metadata": {},
   "outputs": [],
   "source": []
  },
  {
   "cell_type": "code",
   "execution_count": 40,
   "metadata": {},
   "outputs": [],
   "source": []
  },
  {
   "cell_type": "code",
   "execution_count": 35,
   "metadata": {},
   "outputs": [
    {
     "data": {
      "text/plain": [
       "(18035, 23)"
      ]
     },
     "execution_count": 35,
     "metadata": {},
     "output_type": "execute_result"
    }
   ],
   "source": []
  },
  {
   "cell_type": "code",
   "execution_count": 73,
   "metadata": {},
   "outputs": [],
   "source": []
  },
  {
   "cell_type": "code",
   "execution_count": 75,
   "metadata": {},
   "outputs": [],
   "source": [
    "\n",
    "        \n"
   ]
  },
  {
   "cell_type": "code",
   "execution_count": 106,
   "metadata": {},
   "outputs": [
    {
     "data": {
      "text/plain": [
       "Index(['Serial Number', 'Permit Number', 'Restaurant Name', 'Location Name',\n",
       "       'Category Name', 'City', 'State', 'Zip', 'Current Demerits',\n",
       "       'Current Grade', 'Date Current', 'Inspection Date', 'Inspection Time',\n",
       "       'Employee ID', 'Inspection Type', 'Inspection Demerits',\n",
       "       'Inspection Grade', 'Permit Status', 'Inspection Result', 'Violations',\n",
       "       'Record Updated', 'Location 1', 'mode', 'address'],\n",
       "      dtype='object')"
      ]
     },
     "execution_count": 106,
     "metadata": {},
     "output_type": "execute_result"
    }
   ],
   "source": [
    "# Index is based on address, make it a column too\n",
    "df_inspection_2017vr2['address'] = df_inspection_2017vr2.index\n",
    "df_inspection_2016vr2['address'] = df_inspection_2016vr2.index\n",
    "df_inspection_2015vr2['address'] = df_inspection_2015vr2.index\n",
    "df_inspection_2014vr2['address'] = df_inspection_2014vr2.index\n",
    "df_inspection_2013vr2['address'] = df_inspection_2013vr2.index\n",
    "df_inspection_2017vr2.columns"
   ]
  },
  {
   "cell_type": "code",
   "execution_count": 107,
   "metadata": {},
   "outputs": [],
   "source": [
    "# Take a  subset of columns \n",
    "df_inspection_2017vr3 = df_inspection_2017vr2.loc[:, ['Restaurant Name', 'mode', 'address']]\n",
    "df_inspection_2016vr3 = df_inspection_2016vr2.loc[:, ['Restaurant Name', 'mode', 'address']]\n",
    "df_inspection_2015vr3 = df_inspection_2015vr2.loc[:, ['Restaurant Name', 'mode', 'address']]\n",
    "df_inspection_2014vr3 = df_inspection_2014vr2.loc[:, ['Restaurant Name', 'mode', 'address']]\n",
    "df_inspection_2013vr3 = df_inspection_2013vr2.loc[:, ['Restaurant Name', 'mode', 'address']]\n",
    "\n",
    "\n",
    "\n",
    "# \"Restaurant Name\" is a list, pick one name (the list presumably is made of the same name)\n",
    "df_inspection_2017vr3['Restaurant Name'] = df_inspection_2017vr3['Restaurant Name'].apply(pick_one)\n",
    "df_inspection_2016vr3['Restaurant Name'] = df_inspection_2016vr3['Restaurant Name'].apply(pick_one)\n",
    "df_inspection_2015vr3['Restaurant Name'] = df_inspection_2015vr3['Restaurant Name'].apply(pick_one)\n",
    "df_inspection_2014vr3['Restaurant Name'] = df_inspection_2014vr3['Restaurant Name'].apply(pick_one)\n",
    "df_inspection_2013vr3['Restaurant Name'] = df_inspection_2013vr3['Restaurant Name'].apply(pick_one)"
   ]
  },
  {
   "cell_type": "code",
   "execution_count": 109,
   "metadata": {},
   "outputs": [
    {
     "data": {
      "text/html": [
       "<div>\n",
       "<style scoped>\n",
       "    .dataframe tbody tr th:only-of-type {\n",
       "        vertical-align: middle;\n",
       "    }\n",
       "\n",
       "    .dataframe tbody tr th {\n",
       "        vertical-align: top;\n",
       "    }\n",
       "\n",
       "    .dataframe thead th {\n",
       "        text-align: right;\n",
       "    }\n",
       "</style>\n",
       "<table border=\"1\" class=\"dataframe\">\n",
       "  <thead>\n",
       "    <tr style=\"text-align: right;\">\n",
       "      <th></th>\n",
       "      <th>Restaurant Name</th>\n",
       "      <th>mode</th>\n",
       "      <th>address</th>\n",
       "    </tr>\n",
       "    <tr>\n",
       "      <th>Address</th>\n",
       "      <th></th>\n",
       "      <th></th>\n",
       "      <th></th>\n",
       "    </tr>\n",
       "  </thead>\n",
       "  <tbody>\n",
       "    <tr>\n",
       "      <td>#1 Main St</td>\n",
       "      <td>Gold Strike New Steak House</td>\n",
       "      <td>A</td>\n",
       "      <td>#1 Main St</td>\n",
       "    </tr>\n",
       "    <tr>\n",
       "      <td>1 Bonnie Springs Rd</td>\n",
       "      <td>Bonnie Springs Ranch Restaurant</td>\n",
       "      <td>A</td>\n",
       "      <td>1 Bonnie Springs Rd</td>\n",
       "    </tr>\n",
       "    <tr>\n",
       "      <td>1 Cascata Way</td>\n",
       "      <td>Cascata Golf Club Restaurant</td>\n",
       "      <td>A</td>\n",
       "      <td>1 Cascata Way</td>\n",
       "    </tr>\n",
       "    <tr>\n",
       "      <td>1 Club Side Dr</td>\n",
       "      <td>Anthem Country Club Snack Bar</td>\n",
       "      <td>A</td>\n",
       "      <td>1 Club Side Dr</td>\n",
       "    </tr>\n",
       "    <tr>\n",
       "      <td>1 Clubhouse Dr</td>\n",
       "      <td>Tony's Pro Shop Bar</td>\n",
       "      <td>A</td>\n",
       "      <td>1 Clubhouse Dr</td>\n",
       "    </tr>\n",
       "  </tbody>\n",
       "</table>\n",
       "</div>"
      ],
      "text/plain": [
       "                                     Restaurant Name mode              address\n",
       "Address                                                                       \n",
       "#1 Main St               Gold Strike New Steak House    A           #1 Main St\n",
       "1 Bonnie Springs Rd  Bonnie Springs Ranch Restaurant    A  1 Bonnie Springs Rd\n",
       "1 Cascata Way           Cascata Golf Club Restaurant    A        1 Cascata Way\n",
       "1 Club Side Dr         Anthem Country Club Snack Bar    A       1 Club Side Dr\n",
       "1 Clubhouse Dr                   Tony's Pro Shop Bar    A       1 Clubhouse Dr"
      ]
     },
     "execution_count": 109,
     "metadata": {},
     "output_type": "execute_result"
    }
   ],
   "source": [
    "df_inspection_2016vr3.head()"
   ]
  },
  {
   "cell_type": "code",
   "execution_count": 115,
   "metadata": {},
   "outputs": [],
   "source": [
    "# Merge inspection from each year\n",
    "df_inspection_year = pd.merge(df_inspection_2017vr3, df_inspection_2016vr3, on = 'address')"
   ]
  },
  {
   "cell_type": "code",
   "execution_count": 117,
   "metadata": {},
   "outputs": [
    {
     "data": {
      "text/html": [
       "<div>\n",
       "<style scoped>\n",
       "    .dataframe tbody tr th:only-of-type {\n",
       "        vertical-align: middle;\n",
       "    }\n",
       "\n",
       "    .dataframe tbody tr th {\n",
       "        vertical-align: top;\n",
       "    }\n",
       "\n",
       "    .dataframe thead th {\n",
       "        text-align: right;\n",
       "    }\n",
       "</style>\n",
       "<table border=\"1\" class=\"dataframe\">\n",
       "  <thead>\n",
       "    <tr style=\"text-align: right;\">\n",
       "      <th></th>\n",
       "      <th>name</th>\n",
       "      <th>2017</th>\n",
       "      <th>address</th>\n",
       "      <th>2016</th>\n",
       "    </tr>\n",
       "  </thead>\n",
       "  <tbody>\n",
       "    <tr>\n",
       "      <td>0</td>\n",
       "      <td>Gold Strike Main Bar - Stage Bar</td>\n",
       "      <td>A</td>\n",
       "      <td>#1 Main St</td>\n",
       "      <td>A</td>\n",
       "    </tr>\n",
       "    <tr>\n",
       "      <td>1</td>\n",
       "      <td>Bonnie Springs Saloon</td>\n",
       "      <td>A</td>\n",
       "      <td>1 Bonnie Springs Rd</td>\n",
       "      <td>A</td>\n",
       "    </tr>\n",
       "    <tr>\n",
       "      <td>2</td>\n",
       "      <td>Cascata Golf Course Cart #2</td>\n",
       "      <td>A</td>\n",
       "      <td>1 Cascata Way</td>\n",
       "      <td>A</td>\n",
       "    </tr>\n",
       "    <tr>\n",
       "      <td>3</td>\n",
       "      <td>Anthem Country Club Clubhouse Restaurant</td>\n",
       "      <td>A</td>\n",
       "      <td>1 Club Side Dr</td>\n",
       "      <td>A</td>\n",
       "    </tr>\n",
       "    <tr>\n",
       "      <td>4</td>\n",
       "      <td>Tony's Pro Shop 15th Snack Shack</td>\n",
       "      <td>A</td>\n",
       "      <td>1 Clubhouse Dr</td>\n",
       "      <td>A</td>\n",
       "    </tr>\n",
       "  </tbody>\n",
       "</table>\n",
       "</div>"
      ],
      "text/plain": [
       "                                       name 2017              address 2016\n",
       "0          Gold Strike Main Bar - Stage Bar    A           #1 Main St    A\n",
       "1                     Bonnie Springs Saloon    A  1 Bonnie Springs Rd    A\n",
       "2               Cascata Golf Course Cart #2    A        1 Cascata Way    A\n",
       "3  Anthem Country Club Clubhouse Restaurant    A       1 Club Side Dr    A\n",
       "4          Tony's Pro Shop 15th Snack Shack    A       1 Clubhouse Dr    A"
      ]
     },
     "execution_count": 117,
     "metadata": {},
     "output_type": "execute_result"
    }
   ],
   "source": [
    "df_inspection_year = df_inspection_year.drop(columns=['Restaurant Name_y'])\n",
    "df_inspection_year = df_inspection_year.rename(columns={\"Restaurant Name_x\": \"name\", \"mode_x\": \"2017\", \n",
    "                                                        \"mode_y\": \"2016\"})\n"
   ]
  },
  {
   "cell_type": "code",
   "execution_count": 145,
   "metadata": {},
   "outputs": [
    {
     "data": {
      "text/html": [
       "<div>\n",
       "<style scoped>\n",
       "    .dataframe tbody tr th:only-of-type {\n",
       "        vertical-align: middle;\n",
       "    }\n",
       "\n",
       "    .dataframe tbody tr th {\n",
       "        vertical-align: top;\n",
       "    }\n",
       "\n",
       "    .dataframe thead th {\n",
       "        text-align: right;\n",
       "    }\n",
       "</style>\n",
       "<table border=\"1\" class=\"dataframe\">\n",
       "  <thead>\n",
       "    <tr style=\"text-align: right;\">\n",
       "      <th></th>\n",
       "      <th>name</th>\n",
       "      <th>2017</th>\n",
       "      <th>address</th>\n",
       "      <th>2016</th>\n",
       "      <th>Restaurant Name</th>\n",
       "      <th>mode</th>\n",
       "    </tr>\n",
       "  </thead>\n",
       "  <tbody>\n",
       "    <tr>\n",
       "      <td>0</td>\n",
       "      <td>Gold Strike Main Bar - Stage Bar</td>\n",
       "      <td>A</td>\n",
       "      <td>#1 Main St</td>\n",
       "      <td>A</td>\n",
       "      <td>Gold Strike Steakhouse Service Bar</td>\n",
       "      <td>A</td>\n",
       "    </tr>\n",
       "    <tr>\n",
       "      <td>1</td>\n",
       "      <td>Bonnie Springs Saloon</td>\n",
       "      <td>A</td>\n",
       "      <td>1 Bonnie Springs Rd</td>\n",
       "      <td>A</td>\n",
       "      <td>BONNIE SPRINGS SALOON SUPP KITCHEN</td>\n",
       "      <td>A</td>\n",
       "    </tr>\n",
       "    <tr>\n",
       "      <td>2</td>\n",
       "      <td>Cascata Golf Course Cart #2</td>\n",
       "      <td>A</td>\n",
       "      <td>1 Cascata Way</td>\n",
       "      <td>A</td>\n",
       "      <td>Cascata Golf Club Bar</td>\n",
       "      <td>A</td>\n",
       "    </tr>\n",
       "    <tr>\n",
       "      <td>3</td>\n",
       "      <td>Anthem Country Club Clubhouse Restaurant</td>\n",
       "      <td>A</td>\n",
       "      <td>1 Club Side Dr</td>\n",
       "      <td>A</td>\n",
       "      <td>Anthem Country Club Clubhouse Restaurant</td>\n",
       "      <td>A</td>\n",
       "    </tr>\n",
       "    <tr>\n",
       "      <td>4</td>\n",
       "      <td>Tony's Pro Shop 15th Snack Shack</td>\n",
       "      <td>A</td>\n",
       "      <td>1 Clubhouse Dr</td>\n",
       "      <td>A</td>\n",
       "      <td>Tony's Pro Shop Snack Bar</td>\n",
       "      <td>A</td>\n",
       "    </tr>\n",
       "  </tbody>\n",
       "</table>\n",
       "</div>"
      ],
      "text/plain": [
       "                                       name 2017              address 2016  \\\n",
       "0          Gold Strike Main Bar - Stage Bar    A           #1 Main St    A   \n",
       "1                     Bonnie Springs Saloon    A  1 Bonnie Springs Rd    A   \n",
       "2               Cascata Golf Course Cart #2    A        1 Cascata Way    A   \n",
       "3  Anthem Country Club Clubhouse Restaurant    A       1 Club Side Dr    A   \n",
       "4          Tony's Pro Shop 15th Snack Shack    A       1 Clubhouse Dr    A   \n",
       "\n",
       "                            Restaurant Name mode  \n",
       "0        Gold Strike Steakhouse Service Bar    A  \n",
       "1        BONNIE SPRINGS SALOON SUPP KITCHEN    A  \n",
       "2                     Cascata Golf Club Bar    A  \n",
       "3  Anthem Country Club Clubhouse Restaurant    A  \n",
       "4                 Tony's Pro Shop Snack Bar    A  "
      ]
     },
     "execution_count": 145,
     "metadata": {},
     "output_type": "execute_result"
    }
   ],
   "source": [
    "df_inspection_year_2 = pd.merge(df_inspection_year, df_inspection_2015vr3, on = 'address')\n",
    "df_inspection_year_2.head()"
   ]
  },
  {
   "cell_type": "code",
   "execution_count": 146,
   "metadata": {},
   "outputs": [
    {
     "data": {
      "text/html": [
       "<div>\n",
       "<style scoped>\n",
       "    .dataframe tbody tr th:only-of-type {\n",
       "        vertical-align: middle;\n",
       "    }\n",
       "\n",
       "    .dataframe tbody tr th {\n",
       "        vertical-align: top;\n",
       "    }\n",
       "\n",
       "    .dataframe thead th {\n",
       "        text-align: right;\n",
       "    }\n",
       "</style>\n",
       "<table border=\"1\" class=\"dataframe\">\n",
       "  <thead>\n",
       "    <tr style=\"text-align: right;\">\n",
       "      <th></th>\n",
       "      <th>name</th>\n",
       "      <th>2017</th>\n",
       "      <th>address</th>\n",
       "      <th>2016</th>\n",
       "      <th>2015</th>\n",
       "    </tr>\n",
       "  </thead>\n",
       "  <tbody>\n",
       "    <tr>\n",
       "      <td>0</td>\n",
       "      <td>Gold Strike Main Bar - Stage Bar</td>\n",
       "      <td>A</td>\n",
       "      <td>#1 Main St</td>\n",
       "      <td>A</td>\n",
       "      <td>A</td>\n",
       "    </tr>\n",
       "    <tr>\n",
       "      <td>1</td>\n",
       "      <td>Bonnie Springs Saloon</td>\n",
       "      <td>A</td>\n",
       "      <td>1 Bonnie Springs Rd</td>\n",
       "      <td>A</td>\n",
       "      <td>A</td>\n",
       "    </tr>\n",
       "    <tr>\n",
       "      <td>2</td>\n",
       "      <td>Cascata Golf Course Cart #2</td>\n",
       "      <td>A</td>\n",
       "      <td>1 Cascata Way</td>\n",
       "      <td>A</td>\n",
       "      <td>A</td>\n",
       "    </tr>\n",
       "    <tr>\n",
       "      <td>3</td>\n",
       "      <td>Anthem Country Club Clubhouse Restaurant</td>\n",
       "      <td>A</td>\n",
       "      <td>1 Club Side Dr</td>\n",
       "      <td>A</td>\n",
       "      <td>A</td>\n",
       "    </tr>\n",
       "    <tr>\n",
       "      <td>4</td>\n",
       "      <td>Tony's Pro Shop 15th Snack Shack</td>\n",
       "      <td>A</td>\n",
       "      <td>1 Clubhouse Dr</td>\n",
       "      <td>A</td>\n",
       "      <td>A</td>\n",
       "    </tr>\n",
       "  </tbody>\n",
       "</table>\n",
       "</div>"
      ],
      "text/plain": [
       "                                       name 2017              address 2016  \\\n",
       "0          Gold Strike Main Bar - Stage Bar    A           #1 Main St    A   \n",
       "1                     Bonnie Springs Saloon    A  1 Bonnie Springs Rd    A   \n",
       "2               Cascata Golf Course Cart #2    A        1 Cascata Way    A   \n",
       "3  Anthem Country Club Clubhouse Restaurant    A       1 Club Side Dr    A   \n",
       "4          Tony's Pro Shop 15th Snack Shack    A       1 Clubhouse Dr    A   \n",
       "\n",
       "  2015  \n",
       "0    A  \n",
       "1    A  \n",
       "2    A  \n",
       "3    A  \n",
       "4    A  "
      ]
     },
     "execution_count": 146,
     "metadata": {},
     "output_type": "execute_result"
    }
   ],
   "source": [
    "df_inspection_year_2 = df_inspection_year_2.drop(columns=['Restaurant Name'])\n",
    "df_inspection_year_2 = df_inspection_year_2.rename(columns={\"mode\": \"2015\"})\n",
    "df_inspection_year_2.head()"
   ]
  },
  {
   "cell_type": "code",
   "execution_count": 147,
   "metadata": {},
   "outputs": [
    {
     "data": {
      "text/html": [
       "<div>\n",
       "<style scoped>\n",
       "    .dataframe tbody tr th:only-of-type {\n",
       "        vertical-align: middle;\n",
       "    }\n",
       "\n",
       "    .dataframe tbody tr th {\n",
       "        vertical-align: top;\n",
       "    }\n",
       "\n",
       "    .dataframe thead th {\n",
       "        text-align: right;\n",
       "    }\n",
       "</style>\n",
       "<table border=\"1\" class=\"dataframe\">\n",
       "  <thead>\n",
       "    <tr style=\"text-align: right;\">\n",
       "      <th></th>\n",
       "      <th>name</th>\n",
       "      <th>2017</th>\n",
       "      <th>address</th>\n",
       "      <th>2016</th>\n",
       "      <th>2015</th>\n",
       "      <th>2014</th>\n",
       "    </tr>\n",
       "  </thead>\n",
       "  <tbody>\n",
       "    <tr>\n",
       "      <td>0</td>\n",
       "      <td>Gold Strike Main Bar - Stage Bar</td>\n",
       "      <td>A</td>\n",
       "      <td>#1 Main St</td>\n",
       "      <td>A</td>\n",
       "      <td>A</td>\n",
       "      <td>A</td>\n",
       "    </tr>\n",
       "    <tr>\n",
       "      <td>1</td>\n",
       "      <td>Bonnie Springs Saloon</td>\n",
       "      <td>A</td>\n",
       "      <td>1 Bonnie Springs Rd</td>\n",
       "      <td>A</td>\n",
       "      <td>A</td>\n",
       "      <td>A</td>\n",
       "    </tr>\n",
       "    <tr>\n",
       "      <td>2</td>\n",
       "      <td>Cascata Golf Course Cart #2</td>\n",
       "      <td>A</td>\n",
       "      <td>1 Cascata Way</td>\n",
       "      <td>A</td>\n",
       "      <td>A</td>\n",
       "      <td>A</td>\n",
       "    </tr>\n",
       "    <tr>\n",
       "      <td>3</td>\n",
       "      <td>Anthem Country Club Clubhouse Restaurant</td>\n",
       "      <td>A</td>\n",
       "      <td>1 Club Side Dr</td>\n",
       "      <td>A</td>\n",
       "      <td>A</td>\n",
       "      <td>A</td>\n",
       "    </tr>\n",
       "    <tr>\n",
       "      <td>4</td>\n",
       "      <td>Tony's Pro Shop 15th Snack Shack</td>\n",
       "      <td>A</td>\n",
       "      <td>1 Clubhouse Dr</td>\n",
       "      <td>A</td>\n",
       "      <td>A</td>\n",
       "      <td>A</td>\n",
       "    </tr>\n",
       "  </tbody>\n",
       "</table>\n",
       "</div>"
      ],
      "text/plain": [
       "                                       name 2017              address 2016  \\\n",
       "0          Gold Strike Main Bar - Stage Bar    A           #1 Main St    A   \n",
       "1                     Bonnie Springs Saloon    A  1 Bonnie Springs Rd    A   \n",
       "2               Cascata Golf Course Cart #2    A        1 Cascata Way    A   \n",
       "3  Anthem Country Club Clubhouse Restaurant    A       1 Club Side Dr    A   \n",
       "4          Tony's Pro Shop 15th Snack Shack    A       1 Clubhouse Dr    A   \n",
       "\n",
       "  2015 2014  \n",
       "0    A    A  \n",
       "1    A    A  \n",
       "2    A    A  \n",
       "3    A    A  \n",
       "4    A    A  "
      ]
     },
     "execution_count": 147,
     "metadata": {},
     "output_type": "execute_result"
    }
   ],
   "source": [
    "df_inspection_year_3 = pd.merge(df_inspection_year_2, df_inspection_2014vr3, on = 'address')\n",
    "df_inspection_year_3 = df_inspection_year_3.drop(columns=['Restaurant Name'])\n",
    "df_inspection_year_3 = df_inspection_year_3.rename(columns={\"mode\": \"2014\"})\n",
    "df_inspection_year_3.head()"
   ]
  },
  {
   "cell_type": "code",
   "execution_count": 564,
   "metadata": {},
   "outputs": [
    {
     "data": {
      "text/html": [
       "<div>\n",
       "<style scoped>\n",
       "    .dataframe tbody tr th:only-of-type {\n",
       "        vertical-align: middle;\n",
       "    }\n",
       "\n",
       "    .dataframe tbody tr th {\n",
       "        vertical-align: top;\n",
       "    }\n",
       "\n",
       "    .dataframe thead th {\n",
       "        text-align: right;\n",
       "    }\n",
       "</style>\n",
       "<table border=\"1\" class=\"dataframe\">\n",
       "  <thead>\n",
       "    <tr style=\"text-align: right;\">\n",
       "      <th></th>\n",
       "      <th>name</th>\n",
       "      <th>2017</th>\n",
       "      <th>address</th>\n",
       "      <th>2016</th>\n",
       "      <th>2015</th>\n",
       "      <th>2014</th>\n",
       "      <th>2013</th>\n",
       "    </tr>\n",
       "  </thead>\n",
       "  <tbody>\n",
       "    <tr>\n",
       "      <td>0</td>\n",
       "      <td>gold strike main bar - stage bar</td>\n",
       "      <td>A</td>\n",
       "      <td>#1 Main St</td>\n",
       "      <td>A</td>\n",
       "      <td>A</td>\n",
       "      <td>A</td>\n",
       "      <td>A</td>\n",
       "    </tr>\n",
       "    <tr>\n",
       "      <td>1</td>\n",
       "      <td>bonnie springs saloon</td>\n",
       "      <td>A</td>\n",
       "      <td>1 Bonnie Springs Rd</td>\n",
       "      <td>A</td>\n",
       "      <td>A</td>\n",
       "      <td>A</td>\n",
       "      <td>A</td>\n",
       "    </tr>\n",
       "    <tr>\n",
       "      <td>2</td>\n",
       "      <td>cascata golf course cart #2</td>\n",
       "      <td>A</td>\n",
       "      <td>1 Cascata Way</td>\n",
       "      <td>A</td>\n",
       "      <td>A</td>\n",
       "      <td>A</td>\n",
       "      <td>A</td>\n",
       "    </tr>\n",
       "    <tr>\n",
       "      <td>3</td>\n",
       "      <td>anthem country club clubhouse restaurant</td>\n",
       "      <td>A</td>\n",
       "      <td>1 Club Side Dr</td>\n",
       "      <td>A</td>\n",
       "      <td>A</td>\n",
       "      <td>A</td>\n",
       "      <td>A</td>\n",
       "    </tr>\n",
       "    <tr>\n",
       "      <td>4</td>\n",
       "      <td>tony's pro shop 15th snack shack</td>\n",
       "      <td>A</td>\n",
       "      <td>1 Clubhouse Dr</td>\n",
       "      <td>A</td>\n",
       "      <td>A</td>\n",
       "      <td>A</td>\n",
       "      <td>A</td>\n",
       "    </tr>\n",
       "  </tbody>\n",
       "</table>\n",
       "</div>"
      ],
      "text/plain": [
       "                                       name 2017              address 2016  \\\n",
       "0          gold strike main bar - stage bar    A           #1 Main St    A   \n",
       "1                     bonnie springs saloon    A  1 Bonnie Springs Rd    A   \n",
       "2               cascata golf course cart #2    A        1 Cascata Way    A   \n",
       "3  anthem country club clubhouse restaurant    A       1 Club Side Dr    A   \n",
       "4          tony's pro shop 15th snack shack    A       1 Clubhouse Dr    A   \n",
       "\n",
       "  2015 2014 2013  \n",
       "0    A    A    A  \n",
       "1    A    A    A  \n",
       "2    A    A    A  \n",
       "3    A    A    A  \n",
       "4    A    A    A  "
      ]
     },
     "execution_count": 564,
     "metadata": {},
     "output_type": "execute_result"
    }
   ],
   "source": [
    "df_inspection_year_4 = pd.merge(df_inspection_year_3, df_inspection_2013vr3, on = 'address')\n",
    "df_inspection_year_4 = df_inspection_year_4.drop(columns=['Restaurant Name'])\n",
    "df_inspection_year_4 = df_inspection_year_4.rename(columns={\"mode\": \"2013\"})\n",
    "df_inspection_year_4.head()"
   ]
  },
  {
   "cell_type": "code",
   "execution_count": 159,
   "metadata": {},
   "outputs": [
    {
     "data": {
      "text/plain": [
       "Index(['business_id', 'compliment_count', 'date', 'user_id', 'text',\n",
       "       'text_all', 'text_clean', 'name', 'stars', 'review_count', 'categories',\n",
       "       'attributes.RestaurantsPriceRange2', 'address'],\n",
       "      dtype='object')"
      ]
     },
     "execution_count": 159,
     "metadata": {},
     "output_type": "execute_result"
    }
   ],
   "source": [
    "# Join business dataset with df_tip2\n",
    "#df_business3\n",
    "#df_tip2['text_clean']\n",
    "df_customer = pd.merge(df_tip2, df_business3, on = 'business_id')\n",
    "df_customer.columns"
   ]
  },
  {
   "cell_type": "code",
   "execution_count": 160,
   "metadata": {},
   "outputs": [],
   "source": [
    "# Join df_customer with df_inspection_year_4\n",
    "df_inspection_year_4['name'] = df_inspection_year_4['name'].str.lower()\n",
    "df_customer['name'] = df_customer['name'].str.lower()\n",
    "df_all = pd.merge(df_inspection_year_4, df_customer, on = 'name')"
   ]
  },
  {
   "cell_type": "code",
   "execution_count": 161,
   "metadata": {},
   "outputs": [
    {
     "data": {
      "text/plain": [
       "(4002, 19)"
      ]
     },
     "execution_count": 161,
     "metadata": {},
     "output_type": "execute_result"
    }
   ],
   "source": [
    "df_all.shape"
   ]
  },
  {
   "cell_type": "code",
   "execution_count": 164,
   "metadata": {},
   "outputs": [
    {
     "data": {
      "text/plain": [
       "(4002, 19)"
      ]
     },
     "execution_count": 164,
     "metadata": {},
     "output_type": "execute_result"
    }
   ],
   "source": [
    "df_all.shape"
   ]
  },
  {
   "cell_type": "code",
   "execution_count": 163,
   "metadata": {},
   "outputs": [
    {
     "data": {
      "text/plain": [
       "Index(['name', '2017', 'address_x', '2016', '2015', '2014', '2013',\n",
       "       'business_id', 'compliment_count', 'date', 'user_id', 'text',\n",
       "       'text_all', 'text_clean', 'stars', 'review_count', 'categories',\n",
       "       'attributes.RestaurantsPriceRange2', 'address_y'],\n",
       "      dtype='object')"
      ]
     },
     "execution_count": 163,
     "metadata": {},
     "output_type": "execute_result"
    }
   ],
   "source": [
    "df_all.columns"
   ]
  },
  {
   "cell_type": "code",
   "execution_count": 577,
   "metadata": {},
   "outputs": [
    {
     "name": "stdout",
     "output_type": "stream",
     "text": [
      "<class 'pandas.core.frame.DataFrame'>\n",
      "Int64Index: 4002 entries, 0 to 4001\n",
      "Data columns (total 22 columns):\n",
      "name                                 4002 non-null object\n",
      "2017                                 4002 non-null object\n",
      "address_x                            4002 non-null object\n",
      "2016                                 4002 non-null object\n",
      "2015                                 3763 non-null object\n",
      "2014                                 3998 non-null object\n",
      "2013                                 4001 non-null object\n",
      "business_id                          4002 non-null object\n",
      "compliment_count                     4002 non-null object\n",
      "date                                 4002 non-null object\n",
      "user_id                              4002 non-null object\n",
      "text                                 4002 non-null object\n",
      "text_all                             4002 non-null object\n",
      "text_clean                           4002 non-null object\n",
      "stars                                4002 non-null float64\n",
      "review_count                         4002 non-null int64\n",
      "categories                           4002 non-null object\n",
      "attributes.RestaurantsPriceRange2    4002 non-null object\n",
      "address_y                            4002 non-null object\n",
      "negative_word                        4002 non-null object\n",
      "negative_freq                        4002 non-null int64\n",
      "2017_code                            4002 non-null int64\n",
      "dtypes: float64(1), int64(3), object(18)\n",
      "memory usage: 879.1+ KB\n"
     ]
    }
   ],
   "source": [
    "# Word2vec model\n",
    "#model = Word2Vec(df_all['text_clean'], size = 100, window=5, min_count=1, workers=4)\n",
    "#model.save(\"word2vec.model\")\n",
    "df_all.info()"
   ]
  },
  {
   "cell_type": "code",
   "execution_count": 229,
   "metadata": {},
   "outputs": [
    {
     "name": "stdout",
     "output_type": "stream",
     "text": [
      "Cosine similarity between '1st' and '2nd':  0.859968637427287\n"
     ]
    },
    {
     "name": "stderr",
     "output_type": "stream",
     "text": [
      "/Users/kristenboyle/anaconda3/envs/food_venv/lib/python3.7/site-packages/ipykernel_launcher.py:3: DeprecationWarning: Call to deprecated `n_similarity` (Method will be removed in 4.0.0, use self.wv.n_similarity() instead).\n",
      "  This is separate from the ipykernel package so we can avoid doing imports until\n"
     ]
    }
   ],
   "source": [
    "# Predict the similarity between words based on the Word2vec model\n",
    "#print(\"Cosine similarity between '1st' \" + \"and '2nd': \", \n",
    " #     model.n_similarity(['clean', 'apple'], ['food', 'clean']))"
   ]
  },
  {
   "cell_type": "code",
   "execution_count": 240,
   "metadata": {},
   "outputs": [
    {
     "data": {
      "text/plain": [
       "0    [stopped, lunch, older, lady, greeting, custom...\n",
       "1    [charge, rice, lunch, buffet, monday, saturday...\n",
       "2    [found, place, accident, good, food, service, ...\n",
       "3    [drive, thru, yes, homeless, guy, hangs, drive...\n",
       "4    [carne, asada, super, nachos, bizness, cent, c...\n",
       "Name: text_clean, dtype: object"
      ]
     },
     "execution_count": 240,
     "metadata": {},
     "output_type": "execute_result"
    }
   ],
   "source": [
    "#df_temp = df_all[df_all['text_all'].str.contains('roaches')] \n",
    "#df_temp['text_all'].head(100)\n",
    "#df_temp.to_csv('/Users/kristenboyle/Documents/food_project/check.csv')\n",
    "df_all['text_clean'].head()"
   ]
  },
  {
   "cell_type": "code",
   "execution_count": 326,
   "metadata": {},
   "outputs": [
    {
     "data": {
      "text/html": [
       "<div>\n",
       "<style scoped>\n",
       "    .dataframe tbody tr th:only-of-type {\n",
       "        vertical-align: middle;\n",
       "    }\n",
       "\n",
       "    .dataframe tbody tr th {\n",
       "        vertical-align: top;\n",
       "    }\n",
       "\n",
       "    .dataframe thead th {\n",
       "        text-align: right;\n",
       "    }\n",
       "</style>\n",
       "<table border=\"1\" class=\"dataframe\">\n",
       "  <thead>\n",
       "    <tr style=\"text-align: right;\">\n",
       "      <th></th>\n",
       "      <th>text_clean</th>\n",
       "    </tr>\n",
       "  </thead>\n",
       "  <tbody>\n",
       "    <tr>\n",
       "      <td>0</td>\n",
       "      <td>[illness, nausea, vomit, vomitting, diarrhea, ...</td>\n",
       "    </tr>\n",
       "  </tbody>\n",
       "</table>\n",
       "</div>"
      ],
      "text/plain": [
       "                                          text_clean\n",
       "0  [illness, nausea, vomit, vomitting, diarrhea, ..."
      ]
     },
     "execution_count": 326,
     "metadata": {},
     "output_type": "execute_result"
    }
   ],
   "source": [
    "negative_words = pd.read_csv('/Users/kristenboyle/Documents/food_project/negative_words.csv', header = None)\n",
    "negative_words_list = negative_words.iloc[:, 0].tolist()\n",
    "negative_words_list[0:5]\n",
    "df_negative = pd.DataFrame({'text_clean': [negative_words_list]})\n",
    "df_negative"
   ]
  },
  {
   "cell_type": "code",
   "execution_count": 294,
   "metadata": {},
   "outputs": [
    {
     "data": {
      "text/html": [
       "<div>\n",
       "<style scoped>\n",
       "    .dataframe tbody tr th:only-of-type {\n",
       "        vertical-align: middle;\n",
       "    }\n",
       "\n",
       "    .dataframe tbody tr th {\n",
       "        vertical-align: top;\n",
       "    }\n",
       "\n",
       "    .dataframe thead th {\n",
       "        text-align: right;\n",
       "    }\n",
       "</style>\n",
       "<table border=\"1\" class=\"dataframe\">\n",
       "  <thead>\n",
       "    <tr style=\"text-align: right;\">\n",
       "      <th></th>\n",
       "      <th>text_clean</th>\n",
       "      <th>text_all</th>\n",
       "    </tr>\n",
       "  </thead>\n",
       "  <tbody>\n",
       "    <tr>\n",
       "      <td>0</td>\n",
       "      <td>[stopped, lunch, older, lady, greeting, custom...</td>\n",
       "      <td>I stopped in here for lunch, but the older lad...</td>\n",
       "    </tr>\n",
       "    <tr>\n",
       "      <td>1</td>\n",
       "      <td>[charge, rice, lunch, buffet, monday, saturday...</td>\n",
       "      <td>They charge $2 for rice!;Lunch buffet Monday -...</td>\n",
       "    </tr>\n",
       "    <tr>\n",
       "      <td>2</td>\n",
       "      <td>[found, place, accident, good, food, service, ...</td>\n",
       "      <td>Found this place by accident. Good food and se...</td>\n",
       "    </tr>\n",
       "    <tr>\n",
       "      <td>3</td>\n",
       "      <td>[drive, thru, yes, homeless, guy, hangs, drive...</td>\n",
       "      <td>Has a drive thru! Yes! But there's a homeless ...</td>\n",
       "    </tr>\n",
       "    <tr>\n",
       "      <td>4</td>\n",
       "      <td>[carne, asada, super, nachos, bizness, cent, c...</td>\n",
       "      <td>The carne asada super nachos.are the bizness!;...</td>\n",
       "    </tr>\n",
       "  </tbody>\n",
       "</table>\n",
       "</div>"
      ],
      "text/plain": [
       "                                          text_clean  \\\n",
       "0  [stopped, lunch, older, lady, greeting, custom...   \n",
       "1  [charge, rice, lunch, buffet, monday, saturday...   \n",
       "2  [found, place, accident, good, food, service, ...   \n",
       "3  [drive, thru, yes, homeless, guy, hangs, drive...   \n",
       "4  [carne, asada, super, nachos, bizness, cent, c...   \n",
       "\n",
       "                                            text_all  \n",
       "0  I stopped in here for lunch, but the older lad...  \n",
       "1  They charge $2 for rice!;Lunch buffet Monday -...  \n",
       "2  Found this place by accident. Good food and se...  \n",
       "3  Has a drive thru! Yes! But there's a homeless ...  \n",
       "4  The carne asada super nachos.are the bizness!;...  "
      ]
     },
     "execution_count": 294,
     "metadata": {},
     "output_type": "execute_result"
    }
   ],
   "source": [
    "# Create series of text_all including the negative words (last row) to put it in the word2vec\n",
    "df_text = df_all.loc[:,['text_clean', 'text_all']]\n",
    "#text.columns = ['text_clean']\n",
    "df_text.head()"
   ]
  },
  {
   "cell_type": "code",
   "execution_count": 296,
   "metadata": {},
   "outputs": [
    {
     "name": "stderr",
     "output_type": "stream",
     "text": [
      "/Users/kristenboyle/anaconda3/envs/food_venv/lib/python3.7/site-packages/pandas/core/frame.py:7123: FutureWarning: Sorting because non-concatenation axis is not aligned. A future version\n",
      "of pandas will change to not sort by default.\n",
      "\n",
      "To accept the future behavior, pass 'sort=False'.\n",
      "\n",
      "To retain the current behavior and silence the warning, pass 'sort=True'.\n",
      "\n",
      "  sort=sort,\n"
     ]
    },
    {
     "data": {
      "text/html": [
       "<div>\n",
       "<style scoped>\n",
       "    .dataframe tbody tr th:only-of-type {\n",
       "        vertical-align: middle;\n",
       "    }\n",
       "\n",
       "    .dataframe tbody tr th {\n",
       "        vertical-align: top;\n",
       "    }\n",
       "\n",
       "    .dataframe thead th {\n",
       "        text-align: right;\n",
       "    }\n",
       "</style>\n",
       "<table border=\"1\" class=\"dataframe\">\n",
       "  <thead>\n",
       "    <tr style=\"text-align: right;\">\n",
       "      <th></th>\n",
       "      <th>text_all</th>\n",
       "      <th>text_clean</th>\n",
       "    </tr>\n",
       "  </thead>\n",
       "  <tbody>\n",
       "    <tr>\n",
       "      <td>0</td>\n",
       "      <td>I stopped in here for lunch, but the older lad...</td>\n",
       "      <td>[stopped, lunch, older, lady, greeting, custom...</td>\n",
       "    </tr>\n",
       "    <tr>\n",
       "      <td>1</td>\n",
       "      <td>They charge $2 for rice!;Lunch buffet Monday -...</td>\n",
       "      <td>[charge, rice, lunch, buffet, monday, saturday...</td>\n",
       "    </tr>\n",
       "    <tr>\n",
       "      <td>2</td>\n",
       "      <td>Found this place by accident. Good food and se...</td>\n",
       "      <td>[found, place, accident, good, food, service, ...</td>\n",
       "    </tr>\n",
       "    <tr>\n",
       "      <td>3</td>\n",
       "      <td>Has a drive thru! Yes! But there's a homeless ...</td>\n",
       "      <td>[drive, thru, yes, homeless, guy, hangs, drive...</td>\n",
       "    </tr>\n",
       "    <tr>\n",
       "      <td>4</td>\n",
       "      <td>The carne asada super nachos.are the bizness!;...</td>\n",
       "      <td>[carne, asada, super, nachos, bizness, cent, c...</td>\n",
       "    </tr>\n",
       "    <tr>\n",
       "      <td>...</td>\n",
       "      <td>...</td>\n",
       "      <td>...</td>\n",
       "    </tr>\n",
       "    <tr>\n",
       "      <td>3998</td>\n",
       "      <td>Their Pumpkin Concretes has a slice of pumpkin...</td>\n",
       "      <td>[pumpkin, concretes, slice, pumpkin, pie, blen...</td>\n",
       "    </tr>\n",
       "    <tr>\n",
       "      <td>3999</td>\n",
       "      <td>Delicious food;Opening 1/24 in the former A&amp;W/...</td>\n",
       "      <td>[delicious, food, opening, former, long, john,...</td>\n",
       "    </tr>\n",
       "    <tr>\n",
       "      <td>4000</td>\n",
       "      <td>1/2 lb Siopao and Mami is their specialty;Thei...</td>\n",
       "      <td>[lb, siopao, mami, specialty, sago, gulaman, p...</td>\n",
       "    </tr>\n",
       "    <tr>\n",
       "      <td>4001</td>\n",
       "      <td>A poor man's wingstop.;First timers;A little e...</td>\n",
       "      <td>[poor, man, wingstop, first, timers, little, e...</td>\n",
       "    </tr>\n",
       "    <tr>\n",
       "      <td>0</td>\n",
       "      <td>NaN</td>\n",
       "      <td>[words, illness, nausea, vomit, diarrhea, cram...</td>\n",
       "    </tr>\n",
       "  </tbody>\n",
       "</table>\n",
       "<p>4003 rows × 2 columns</p>\n",
       "</div>"
      ],
      "text/plain": [
       "                                               text_all  \\\n",
       "0     I stopped in here for lunch, but the older lad...   \n",
       "1     They charge $2 for rice!;Lunch buffet Monday -...   \n",
       "2     Found this place by accident. Good food and se...   \n",
       "3     Has a drive thru! Yes! But there's a homeless ...   \n",
       "4     The carne asada super nachos.are the bizness!;...   \n",
       "...                                                 ...   \n",
       "3998  Their Pumpkin Concretes has a slice of pumpkin...   \n",
       "3999  Delicious food;Opening 1/24 in the former A&W/...   \n",
       "4000  1/2 lb Siopao and Mami is their specialty;Thei...   \n",
       "4001  A poor man's wingstop.;First timers;A little e...   \n",
       "0                                                   NaN   \n",
       "\n",
       "                                             text_clean  \n",
       "0     [stopped, lunch, older, lady, greeting, custom...  \n",
       "1     [charge, rice, lunch, buffet, monday, saturday...  \n",
       "2     [found, place, accident, good, food, service, ...  \n",
       "3     [drive, thru, yes, homeless, guy, hangs, drive...  \n",
       "4     [carne, asada, super, nachos, bizness, cent, c...  \n",
       "...                                                 ...  \n",
       "3998  [pumpkin, concretes, slice, pumpkin, pie, blen...  \n",
       "3999  [delicious, food, opening, former, long, john,...  \n",
       "4000  [lb, siopao, mami, specialty, sago, gulaman, p...  \n",
       "4001  [poor, man, wingstop, first, timers, little, e...  \n",
       "0     [words, illness, nausea, vomit, diarrhea, cram...  \n",
       "\n",
       "[4003 rows x 2 columns]"
      ]
     },
     "execution_count": 296,
     "metadata": {},
     "output_type": "execute_result"
    }
   ],
   "source": [
    "# Add df_negative to the last row\n",
    "#df_text.append(df_negative)\n",
    "#type(df_text)\n"
   ]
  },
  {
   "cell_type": "code",
   "execution_count": 297,
   "metadata": {},
   "outputs": [],
   "source": [
    "# Word2vec model\n",
    "model = Word2Vec(df_text['text_clean'], size = 100, window=5, min_count=1, workers=4)\n",
    "model.save(\"word2vec.model\")"
   ]
  },
  {
   "cell_type": "code",
   "execution_count": 313,
   "metadata": {},
   "outputs": [
    {
     "name": "stdout",
     "output_type": "stream",
     "text": [
      "Cosine similarity between '1st' and '2nd':  0.16348075254883457\n"
     ]
    },
    {
     "name": "stderr",
     "output_type": "stream",
     "text": [
      "/Users/kristenboyle/anaconda3/envs/food_venv/lib/python3.7/site-packages/ipykernel_launcher.py:3: DeprecationWarning: Call to deprecated `similarity` (Method will be removed in 4.0.0, use self.wv.similarity() instead).\n",
      "  This is separate from the ipykernel package so we can avoid doing imports until\n"
     ]
    }
   ],
   "source": [
    "# Predict the similarity between words based on the Word2vec model\n",
    "print(\"Cosine similarity between '1st' \" + \"and '2nd': \", \n",
    "      model.similarity('apple', 'hot'))"
   ]
  },
  {
   "cell_type": "code",
   "execution_count": 327,
   "metadata": {},
   "outputs": [],
   "source": [
    "# check if the text_clean column has any of the negative words\n",
    "def word_finder(x):\n",
    "    result = [elem for elem in negative_words_list if(elem in x)]\n",
    "    return result\n",
    "\n",
    "df_all['negative_word'] = df_all['text_clean'].apply(word_finder)"
   ]
  },
  {
   "cell_type": "code",
   "execution_count": 329,
   "metadata": {},
   "outputs": [
    {
     "data": {
      "text/plain": [
       "3992                                    []\n",
       "3993                                    []\n",
       "3994                                [suck]\n",
       "3995               [dirty, horrible, sick]\n",
       "3996                         [dirty, sick]\n",
       "3997    [fever, spider, gross, disgusting]\n",
       "3998                            [horrible]\n",
       "3999                                    []\n",
       "4000                            [inedible]\n",
       "4001                                    []\n",
       "Name: negative_word, dtype: object"
      ]
     },
     "execution_count": 329,
     "metadata": {},
     "output_type": "execute_result"
    }
   ],
   "source": [
    "df_all['negative_word'].tail(10)"
   ]
  },
  {
   "cell_type": "code",
   "execution_count": 330,
   "metadata": {},
   "outputs": [],
   "source": [
    "# Find the number of negative words based on the length of each row from 'negative_word'\n",
    "def freq_finder(x):\n",
    "    y = len(x)\n",
    "    return y\n",
    "\n",
    "df_all['negative_freq'] = df_all['negative_word'].apply(freq_finder)"
   ]
  },
  {
   "cell_type": "code",
   "execution_count": 340,
   "metadata": {},
   "outputs": [
    {
     "data": {
      "text/plain": [
       "0     2161\n",
       "1      901\n",
       "2      545\n",
       "3      186\n",
       "4      140\n",
       "5       27\n",
       "6       23\n",
       "7        6\n",
       "10       5\n",
       "8        5\n",
       "13       2\n",
       "9        1\n",
       "Name: negative_freq, dtype: int64"
      ]
     },
     "execution_count": 340,
     "metadata": {},
     "output_type": "execute_result"
    }
   ],
   "source": [
    "df_all.loc[:, ['negative_word', 'negative_freq']].head()\n",
    "df_all['negative_freq'].value_counts()"
   ]
  },
  {
   "cell_type": "code",
   "execution_count": 341,
   "metadata": {},
   "outputs": [
    {
     "name": "stdout",
     "output_type": "stream",
     "text": [
      "<class 'pandas.core.frame.DataFrame'>\n",
      "Int64Index: 4002 entries, 0 to 4001\n",
      "Data columns (total 21 columns):\n",
      "name                                 4002 non-null object\n",
      "2017                                 4002 non-null object\n",
      "address_x                            4002 non-null object\n",
      "2016                                 4002 non-null object\n",
      "2015                                 3763 non-null object\n",
      "2014                                 3998 non-null object\n",
      "2013                                 4001 non-null object\n",
      "business_id                          4002 non-null object\n",
      "compliment_count                     4002 non-null object\n",
      "date                                 4002 non-null object\n",
      "user_id                              4002 non-null object\n",
      "text                                 4002 non-null object\n",
      "text_all                             4002 non-null object\n",
      "text_clean                           4002 non-null object\n",
      "stars                                4002 non-null float64\n",
      "review_count                         4002 non-null int64\n",
      "categories                           4002 non-null object\n",
      "attributes.RestaurantsPriceRange2    4002 non-null object\n",
      "address_y                            4002 non-null object\n",
      "negative_word                        4002 non-null object\n",
      "negative_freq                        4002 non-null int64\n",
      "dtypes: float64(1), int64(2), object(18)\n",
      "memory usage: 847.8+ KB\n"
     ]
    }
   ],
   "source": [
    "df_all.info()"
   ]
  },
  {
   "cell_type": "code",
   "execution_count": 343,
   "metadata": {},
   "outputs": [
    {
     "data": {
      "image/png": "[encoded data removed]",
      "text/plain": [
       "<Figure size 432x288 with 1 Axes>"
      ]
     },
     "metadata": {
      "needs_background": "light"
     },
     "output_type": "display_data"
    }
   ],
   "source": [
    "\n",
    "ax1 = sns.barplot(x = df_all[\"2017\"], y = df_all[\"negative_freq\"], color = 'grey')"
   ]
  },
  {
   "cell_type": "code",
   "execution_count": 352,
   "metadata": {},
   "outputs": [
    {
     "data": {
      "text/plain": [
       "2017\n",
       "A    0.886413\n",
       "B    0.855469\n",
       "C    1.017544\n",
       "X    1.111111\n",
       "Name: negative_freq, dtype: float64"
      ]
     },
     "execution_count": 352,
     "metadata": {},
     "output_type": "execute_result"
    }
   ],
   "source": [
    "df_all[\"negative_freq\"].groupby(df_all[\"2017\"]).mean()"
   ]
  },
  {
   "cell_type": "code",
   "execution_count": 351,
   "metadata": {},
   "outputs": [
    {
     "data": {
      "image/png": "[encoded data removed]",
      "text/plain": [
       "<Figure size 432x288 with 1 Axes>"
      ]
     },
     "metadata": {
      "needs_background": "light"
     },
     "output_type": "display_data"
    }
   ],
   "source": [
    "ax1 = sns.scatterplot(x = df_all[\"stars\"], y = df_all[\"negative_freq\"], color = 'grey')"
   ]
  },
  {
   "cell_type": "code",
   "execution_count": 355,
   "metadata": {},
   "outputs": [
    {
     "data": {
      "text/plain": [
       "A    3680\n",
       "B     256\n",
       "C      57\n",
       "X       9\n",
       "Name: 2017, dtype: int64"
      ]
     },
     "execution_count": 355,
     "metadata": {},
     "output_type": "execute_result"
    }
   ],
   "source": [
    "df_all[\"2017\"].value_counts() # 92% of the observations belong to A"
   ]
  },
  {
   "cell_type": "code",
   "execution_count": 365,
   "metadata": {},
   "outputs": [
    {
     "data": {
      "text/plain": [
       "0    3680\n",
       "1     322\n",
       "Name: 2017_code, dtype: int64"
      ]
     },
     "execution_count": 365,
     "metadata": {},
     "output_type": "execute_result"
    }
   ],
   "source": [
    "# Enode 2017 into: 0 for A; 1 for B, C and X\n",
    "def label_to_numeric(x):\n",
    "    if x == \"A\":\n",
    "        y = 0\n",
    "    else:\n",
    "        y = 1\n",
    "    return y\n",
    "    \n",
    "df_all['2017_code'] = df_all['2017'].apply(label_to_numeric)\n",
    "df_all['2017_code'].value_counts()"
   ]
  },
  {
   "cell_type": "code",
   "execution_count": 467,
   "metadata": {},
   "outputs": [],
   "source": [
    "# Create predictor df\n",
    "df_X = df_all.loc[:, ['stars', 'review_count', 'negative_freq', 'attributes.RestaurantsPriceRange2']]\n",
    "\n",
    "le = preprocessing.LabelEncoder()\n",
    "le.fit(df_X['attributes.RestaurantsPriceRange2'])\n",
    "df_X['attributes.RestaurantsPriceRange2'] = le.transform(df_X['attributes.RestaurantsPriceRange2'])"
   ]
  },
  {
   "cell_type": "code",
   "execution_count": 509,
   "metadata": {},
   "outputs": [
    {
     "ename": "ValueError",
     "evalue": "Length mismatch: Expected axis has 5 elements, new values have 4 elements",
     "output_type": "error",
     "traceback": [
      "\u001b[0;31m---------------------------------------------------------------------------\u001b[0m",
      "\u001b[0;31mValueError\u001b[0m                                Traceback (most recent call last)",
      "\u001b[0;32m<ipython-input-509-1d9c971c6080>\u001b[0m in \u001b[0;36m<module>\u001b[0;34m\u001b[0m\n\u001b[0;32m----> 1\u001b[0;31m \u001b[0mdf_X\u001b[0m\u001b[0;34m.\u001b[0m\u001b[0mcolumns\u001b[0m \u001b[0;34m=\u001b[0m \u001b[0;34m[\u001b[0m\u001b[0;34m'stars'\u001b[0m\u001b[0;34m,\u001b[0m \u001b[0;34m'review_count'\u001b[0m\u001b[0;34m,\u001b[0m \u001b[0;34m'negative_freq'\u001b[0m\u001b[0;34m,\u001b[0m \u001b[0;34m'price'\u001b[0m\u001b[0;34m]\u001b[0m\u001b[0;34m\u001b[0m\u001b[0;34m\u001b[0m\u001b[0m\n\u001b[0m\u001b[1;32m      2\u001b[0m \u001b[0mdf_X\u001b[0m\u001b[0;34m.\u001b[0m\u001b[0mhead\u001b[0m\u001b[0;34m(\u001b[0m\u001b[0;34m)\u001b[0m\u001b[0;34m\u001b[0m\u001b[0;34m\u001b[0m\u001b[0m\n",
      "\u001b[0;32m~/anaconda3/envs/food_venv/lib/python3.7/site-packages/pandas/core/generic.py\u001b[0m in \u001b[0;36m__setattr__\u001b[0;34m(self, name, value)\u001b[0m\n\u001b[1;32m   5190\u001b[0m         \u001b[0;32mtry\u001b[0m\u001b[0;34m:\u001b[0m\u001b[0;34m\u001b[0m\u001b[0;34m\u001b[0m\u001b[0m\n\u001b[1;32m   5191\u001b[0m             \u001b[0mobject\u001b[0m\u001b[0;34m.\u001b[0m\u001b[0m__getattribute__\u001b[0m\u001b[0;34m(\u001b[0m\u001b[0mself\u001b[0m\u001b[0;34m,\u001b[0m \u001b[0mname\u001b[0m\u001b[0;34m)\u001b[0m\u001b[0;34m\u001b[0m\u001b[0;34m\u001b[0m\u001b[0m\n\u001b[0;32m-> 5192\u001b[0;31m             \u001b[0;32mreturn\u001b[0m \u001b[0mobject\u001b[0m\u001b[0;34m.\u001b[0m\u001b[0m__setattr__\u001b[0m\u001b[0;34m(\u001b[0m\u001b[0mself\u001b[0m\u001b[0;34m,\u001b[0m \u001b[0mname\u001b[0m\u001b[0;34m,\u001b[0m \u001b[0mvalue\u001b[0m\u001b[0;34m)\u001b[0m\u001b[0;34m\u001b[0m\u001b[0;34m\u001b[0m\u001b[0m\n\u001b[0m\u001b[1;32m   5193\u001b[0m         \u001b[0;32mexcept\u001b[0m \u001b[0mAttributeError\u001b[0m\u001b[0;34m:\u001b[0m\u001b[0;34m\u001b[0m\u001b[0;34m\u001b[0m\u001b[0m\n\u001b[1;32m   5194\u001b[0m             \u001b[0;32mpass\u001b[0m\u001b[0;34m\u001b[0m\u001b[0;34m\u001b[0m\u001b[0m\n",
      "\u001b[0;32mpandas/_libs/properties.pyx\u001b[0m in \u001b[0;36mpandas._libs.properties.AxisProperty.__set__\u001b[0;34m()\u001b[0m\n",
      "\u001b[0;32m~/anaconda3/envs/food_venv/lib/python3.7/site-packages/pandas/core/generic.py\u001b[0m in \u001b[0;36m_set_axis\u001b[0;34m(self, axis, labels)\u001b[0m\n\u001b[1;32m    688\u001b[0m \u001b[0;34m\u001b[0m\u001b[0m\n\u001b[1;32m    689\u001b[0m     \u001b[0;32mdef\u001b[0m \u001b[0m_set_axis\u001b[0m\u001b[0;34m(\u001b[0m\u001b[0mself\u001b[0m\u001b[0;34m,\u001b[0m \u001b[0maxis\u001b[0m\u001b[0;34m,\u001b[0m \u001b[0mlabels\u001b[0m\u001b[0;34m)\u001b[0m\u001b[0;34m:\u001b[0m\u001b[0;34m\u001b[0m\u001b[0;34m\u001b[0m\u001b[0m\n\u001b[0;32m--> 690\u001b[0;31m         \u001b[0mself\u001b[0m\u001b[0;34m.\u001b[0m\u001b[0m_data\u001b[0m\u001b[0;34m.\u001b[0m\u001b[0mset_axis\u001b[0m\u001b[0;34m(\u001b[0m\u001b[0maxis\u001b[0m\u001b[0;34m,\u001b[0m \u001b[0mlabels\u001b[0m\u001b[0;34m)\u001b[0m\u001b[0;34m\u001b[0m\u001b[0;34m\u001b[0m\u001b[0m\n\u001b[0m\u001b[1;32m    691\u001b[0m         \u001b[0mself\u001b[0m\u001b[0;34m.\u001b[0m\u001b[0m_clear_item_cache\u001b[0m\u001b[0;34m(\u001b[0m\u001b[0;34m)\u001b[0m\u001b[0;34m\u001b[0m\u001b[0;34m\u001b[0m\u001b[0m\n\u001b[1;32m    692\u001b[0m \u001b[0;34m\u001b[0m\u001b[0m\n",
      "\u001b[0;32m~/anaconda3/envs/food_venv/lib/python3.7/site-packages/pandas/core/internals/managers.py\u001b[0m in \u001b[0;36mset_axis\u001b[0;34m(self, axis, new_labels)\u001b[0m\n\u001b[1;32m    181\u001b[0m             raise ValueError(\n\u001b[1;32m    182\u001b[0m                 \u001b[0;34m\"Length mismatch: Expected axis has {old} elements, new \"\u001b[0m\u001b[0;34m\u001b[0m\u001b[0;34m\u001b[0m\u001b[0m\n\u001b[0;32m--> 183\u001b[0;31m                 \u001b[0;34m\"values have {new} elements\"\u001b[0m\u001b[0;34m.\u001b[0m\u001b[0mformat\u001b[0m\u001b[0;34m(\u001b[0m\u001b[0mold\u001b[0m\u001b[0;34m=\u001b[0m\u001b[0mold_len\u001b[0m\u001b[0;34m,\u001b[0m \u001b[0mnew\u001b[0m\u001b[0;34m=\u001b[0m\u001b[0mnew_len\u001b[0m\u001b[0;34m)\u001b[0m\u001b[0;34m\u001b[0m\u001b[0;34m\u001b[0m\u001b[0m\n\u001b[0m\u001b[1;32m    184\u001b[0m             )\n\u001b[1;32m    185\u001b[0m \u001b[0;34m\u001b[0m\u001b[0m\n",
      "\u001b[0;31mValueError\u001b[0m: Length mismatch: Expected axis has 5 elements, new values have 4 elements"
     ]
    }
   ],
   "source": [
    "df_X.columns = ['stars', 'review_count', 'negative_freq', 'price']\n",
    "df_X.head()"
   ]
  },
  {
   "cell_type": "code",
   "execution_count": 469,
   "metadata": {},
   "outputs": [],
   "source": [
    "# Response variable\n",
    "df_y = df_all[\"2017_code\"]"
   ]
  },
  {
   "cell_type": "code",
   "execution_count": 470,
   "metadata": {},
   "outputs": [],
   "source": [
    "# Change df to np array\n",
    "\n",
    "X = df_X\n",
    "y = df_y.values"
   ]
  },
  {
   "cell_type": "code",
   "execution_count": 471,
   "metadata": {},
   "outputs": [
    {
     "data": {
      "text/plain": [
       "93.9060939060939"
      ]
     },
     "execution_count": 471,
     "metadata": {},
     "output_type": "execute_result"
    }
   ],
   "source": [
    "\n",
    "\n",
    "X_train, X_test, y_train, y_test = train_test_split(X, y, test_size = 0.25, random_state = 27)\n",
    "\n",
    "model_log = LogisticRegression(C=1e5, solver='lbfgs').fit(X_train, y_train)\n",
    " \n",
    "# Predict the test set\n",
    "y_pred = model_log.predict(X_test)\n",
    "\n",
    "# Mode accuracy\n",
    "model_accuracy_logistic = 100 * accuracy_score(y_test, y_pred)\n",
    "model_accuracy_logistic\n"
   ]
  },
  {
   "cell_type": "code",
   "execution_count": 428,
   "metadata": {},
   "outputs": [
    {
     "data": {
      "text/plain": [
       "91.5084915084915"
      ]
     },
     "execution_count": 428,
     "metadata": {},
     "output_type": "execute_result"
    }
   ],
   "source": [
    "from sklearn.ensemble import RandomForestClassifier\n",
    "model_rf = RandomForestClassifier(n_estimators = 100).fit(X_train, y_train)\n",
    "# Predict the test set\n",
    "y_pred = model_rf.predict(X_test)\n",
    "\n",
    "# Mode accuracy\n",
    "model_accuracy_rf = 100 * accuracy_score(y_test, y_pred)\n",
    "model_accuracy_rf"
   ]
  },
  {
   "cell_type": "code",
   "execution_count": 429,
   "metadata": {},
   "outputs": [
    {
     "data": {
      "text/plain": [
       "91.9080919080919"
      ]
     },
     "execution_count": 429,
     "metadata": {},
     "output_type": "execute_result"
    }
   ],
   "source": [
    "from sklearn import neighbors\n",
    "model_knn = neighbors.KNeighborsClassifier(10).fit(X_train, y_train)\n",
    "\n",
    "# Predict the test set\n",
    "y_pred = model_knn.predict(X_test)\n",
    "\n",
    "# Mode accuracy\n",
    "model_accuracy_knn = 100 * accuracy_score(y_test, y_pred)\n",
    "model_accuracy_knn"
   ]
  },
  {
   "cell_type": "code",
   "execution_count": 472,
   "metadata": {},
   "outputs": [
    {
     "name": "stderr",
     "output_type": "stream",
     "text": [
      "/Users/kristenboyle/anaconda3/envs/food_venv/lib/python3.7/site-packages/ipykernel_launcher.py:9: UserWarning: Boolean Series key will be reindexed to match DataFrame index.\n",
      "  if __name__ == '__main__':\n",
      "/Users/kristenboyle/anaconda3/envs/food_venv/lib/python3.7/site-packages/ipykernel_launcher.py:10: UserWarning: Boolean Series key will be reindexed to match DataFrame index.\n",
      "  # Remove the CWD from sys.path while we load stuff.\n"
     ]
    },
    {
     "data": {
      "text/html": [
       "<div>\n",
       "<style scoped>\n",
       "    .dataframe tbody tr th:only-of-type {\n",
       "        vertical-align: middle;\n",
       "    }\n",
       "\n",
       "    .dataframe tbody tr th {\n",
       "        vertical-align: top;\n",
       "    }\n",
       "\n",
       "    .dataframe thead th {\n",
       "        text-align: right;\n",
       "    }\n",
       "</style>\n",
       "<table border=\"1\" class=\"dataframe\">\n",
       "  <thead>\n",
       "    <tr style=\"text-align: right;\">\n",
       "      <th></th>\n",
       "      <th>stars</th>\n",
       "      <th>review_count</th>\n",
       "      <th>negative_freq</th>\n",
       "      <th>price</th>\n",
       "      <th>2017_code</th>\n",
       "    </tr>\n",
       "  </thead>\n",
       "  <tbody>\n",
       "    <tr>\n",
       "      <td>965</td>\n",
       "      <td>2.5</td>\n",
       "      <td>86</td>\n",
       "      <td>1</td>\n",
       "      <td>0</td>\n",
       "      <td>0</td>\n",
       "    </tr>\n",
       "    <tr>\n",
       "      <td>538</td>\n",
       "      <td>4.0</td>\n",
       "      <td>17</td>\n",
       "      <td>1</td>\n",
       "      <td>0</td>\n",
       "      <td>0</td>\n",
       "    </tr>\n",
       "    <tr>\n",
       "      <td>2967</td>\n",
       "      <td>3.5</td>\n",
       "      <td>124</td>\n",
       "      <td>1</td>\n",
       "      <td>0</td>\n",
       "      <td>0</td>\n",
       "    </tr>\n",
       "    <tr>\n",
       "      <td>226</td>\n",
       "      <td>3.0</td>\n",
       "      <td>65</td>\n",
       "      <td>0</td>\n",
       "      <td>0</td>\n",
       "      <td>0</td>\n",
       "    </tr>\n",
       "    <tr>\n",
       "      <td>3476</td>\n",
       "      <td>4.0</td>\n",
       "      <td>56</td>\n",
       "      <td>0</td>\n",
       "      <td>0</td>\n",
       "      <td>0</td>\n",
       "    </tr>\n",
       "  </tbody>\n",
       "</table>\n",
       "</div>"
      ],
      "text/plain": [
       "      stars  review_count  negative_freq  price  2017_code\n",
       "965     2.5            86              1      0          0\n",
       "538     4.0            17              1      0          0\n",
       "2967    3.5           124              1      0          0\n",
       "226     3.0            65              0      0          0\n",
       "3476    4.0            56              0      0          0"
      ]
     },
     "execution_count": 472,
     "metadata": {},
     "output_type": "execute_result"
    }
   ],
   "source": [
    "# Oversampling minority class\n",
    "\n",
    "\n",
    "X_train, X_test, y_train, y_test = train_test_split(df_X, df_y, test_size = 0.25, random_state = 27)\n",
    "# Concatenate our training data back together\n",
    "X = pd.concat([X_train, y_train], axis=1)\n",
    "\n",
    "# Separate minority and majority classes\n",
    "good = X[df_y == 0]\n",
    "bad = X[df_y == 1]\n",
    "\n",
    "# upsample minority\n",
    "bad_upsampled = resample(bad, replace = True, # sample with replacement\n",
    "                         n_samples = len(good), # match number in majority class\n",
    "                         random_state = 27) # reproducible results\n",
    "\n",
    "# Combine majority and upsampled minority\n",
    "upsampled = pd.concat([good, bad_upsampled])\n",
    "upsampled.head()"
   ]
  },
  {
   "cell_type": "code",
   "execution_count": 475,
   "metadata": {},
   "outputs": [
    {
     "data": {
      "text/plain": [
       "61.038961038961034"
      ]
     },
     "execution_count": 475,
     "metadata": {},
     "output_type": "execute_result"
    }
   ],
   "source": [
    "X_train = upsampled.loc[:, ['stars', 'review_count', 'negative_freq', 'price']]\n",
    "y_train = upsampled['2017_code']\n",
    "\n",
    "model_log = LogisticRegression(C=1e5, solver='lbfgs').fit(X_train, y_train)\n",
    " \n",
    "# Predict the test set\n",
    "y_pred2 = model_log.predict(X_test)\n",
    "\n",
    "# Mode accuracy\n",
    "model_accuracy_logistic2 = 100 * accuracy_score(y_test, y_pred2)\n",
    "\n",
    "\n",
    "import pickle\n",
    "# saving\n",
    "with open('model_logistic.pickle', 'wb') as handle:\n",
    "    pickle.dump(model_log, handle, protocol=pickle.HIGHEST_PROTOCOL)\n",
    "    \n",
    "model_accuracy_logistic2\n"
   ]
  },
  {
   "cell_type": "code",
   "execution_count": 432,
   "metadata": {},
   "outputs": [
    {
     "data": {
      "text/plain": [
       "1    2740\n",
       "0    2740\n",
       "Name: 2017_code, dtype: int64"
      ]
     },
     "execution_count": 432,
     "metadata": {},
     "output_type": "execute_result"
    }
   ],
   "source": [
    "upsampled['2017_code'].value_counts()"
   ]
  },
  {
   "cell_type": "code",
   "execution_count": 433,
   "metadata": {},
   "outputs": [
    {
     "data": {
      "text/plain": [
       "62.637362637362635"
      ]
     },
     "execution_count": 433,
     "metadata": {},
     "output_type": "execute_result"
    }
   ],
   "source": [
    "\n",
    "model_knn = neighbors.KNeighborsClassifier(10).fit(X_train, y_train)\n",
    "\n",
    "# Predict the test set\n",
    "y_pred2 = model_knn.predict(X_test)\n",
    "\n",
    "# Mode accuracy\n",
    "model_accuracy_knn2 = 100 * accuracy_score(y_test, y_pred2)\n",
    "model_accuracy_knn2"
   ]
  },
  {
   "cell_type": "code",
   "execution_count": 434,
   "metadata": {},
   "outputs": [
    {
     "data": {
      "text/plain": [
       "57.24275724275725"
      ]
     },
     "execution_count": 434,
     "metadata": {},
     "output_type": "execute_result"
    }
   ],
   "source": [
    "model_rf = RandomForestClassifier(n_estimators = 100).fit(X_train, y_train)\n",
    "# Predict the test set\n",
    "y_pred2 = model_rf.predict(X_test)\n",
    "\n",
    "# Mode accuracy\n",
    "model_accuracy_rf2 = 100 * accuracy_score(y_test, y_pred2)\n",
    "model_accuracy_rf2"
   ]
  },
  {
   "cell_type": "code",
   "execution_count": 438,
   "metadata": {},
   "outputs": [
    {
     "data": {
      "text/plain": [
       "(940,)"
      ]
     },
     "execution_count": 438,
     "metadata": {},
     "output_type": "execute_result"
    }
   ],
   "source": [
    "a  = y_test\n",
    "a_good = a[a==0]\n",
    "a_bad = a[a==1]\n",
    "a_good.shape"
   ]
  },
  {
   "cell_type": "code",
   "execution_count": 440,
   "metadata": {},
   "outputs": [
    {
     "data": {
      "text/plain": [
       "(61,)"
      ]
     },
     "execution_count": 440,
     "metadata": {},
     "output_type": "execute_result"
    }
   ],
   "source": [
    "a_bad.shape"
   ]
  },
  {
   "cell_type": "code",
   "execution_count": 447,
   "metadata": {},
   "outputs": [
    {
     "data": {
      "text/html": [
       "<div>\n",
       "<style scoped>\n",
       "    .dataframe tbody tr th:only-of-type {\n",
       "        vertical-align: middle;\n",
       "    }\n",
       "\n",
       "    .dataframe tbody tr th {\n",
       "        vertical-align: top;\n",
       "    }\n",
       "\n",
       "    .dataframe thead th {\n",
       "        text-align: right;\n",
       "    }\n",
       "</style>\n",
       "<table border=\"1\" class=\"dataframe\">\n",
       "  <thead>\n",
       "    <tr style=\"text-align: right;\">\n",
       "      <th></th>\n",
       "      <th>stars</th>\n",
       "      <th>review_count</th>\n",
       "      <th>negative_freq</th>\n",
       "      <th>price</th>\n",
       "    </tr>\n",
       "  </thead>\n",
       "  <tbody>\n",
       "    <tr>\n",
       "      <td>3019</td>\n",
       "      <td>2.5</td>\n",
       "      <td>51</td>\n",
       "      <td>0</td>\n",
       "      <td>0</td>\n",
       "    </tr>\n",
       "    <tr>\n",
       "      <td>642</td>\n",
       "      <td>2.5</td>\n",
       "      <td>151</td>\n",
       "      <td>2</td>\n",
       "      <td>0</td>\n",
       "    </tr>\n",
       "    <tr>\n",
       "      <td>1307</td>\n",
       "      <td>3.5</td>\n",
       "      <td>64</td>\n",
       "      <td>0</td>\n",
       "      <td>0</td>\n",
       "    </tr>\n",
       "    <tr>\n",
       "      <td>412</td>\n",
       "      <td>2.5</td>\n",
       "      <td>52</td>\n",
       "      <td>2</td>\n",
       "      <td>0</td>\n",
       "    </tr>\n",
       "    <tr>\n",
       "      <td>91</td>\n",
       "      <td>3.5</td>\n",
       "      <td>71</td>\n",
       "      <td>1</td>\n",
       "      <td>0</td>\n",
       "    </tr>\n",
       "  </tbody>\n",
       "</table>\n",
       "</div>"
      ],
      "text/plain": [
       "      stars  review_count  negative_freq  price\n",
       "3019    2.5            51              0      0\n",
       "642     2.5           151              2      0\n",
       "1307    3.5            64              0      0\n",
       "412     2.5            52              2      0\n",
       "91      3.5            71              1      0"
      ]
     },
     "execution_count": 447,
     "metadata": {},
     "output_type": "execute_result"
    }
   ],
   "source": [
    "X_test[0:5]"
   ]
  },
  {
   "cell_type": "code",
   "execution_count": 448,
   "metadata": {},
   "outputs": [
    {
     "data": {
      "text/plain": [
       "pandas.core.frame.DataFrame"
      ]
     },
     "execution_count": 448,
     "metadata": {},
     "output_type": "execute_result"
    }
   ],
   "source": [
    "type(X_test)"
   ]
  },
  {
   "cell_type": "code",
   "execution_count": 524,
   "metadata": {},
   "outputs": [
    {
     "data": {
      "text/html": [
       "<div>\n",
       "<style scoped>\n",
       "    .dataframe tbody tr th:only-of-type {\n",
       "        vertical-align: middle;\n",
       "    }\n",
       "\n",
       "    .dataframe tbody tr th {\n",
       "        vertical-align: top;\n",
       "    }\n",
       "\n",
       "    .dataframe thead th {\n",
       "        text-align: right;\n",
       "    }\n",
       "</style>\n",
       "<table border=\"1\" class=\"dataframe\">\n",
       "  <thead>\n",
       "    <tr style=\"text-align: right;\">\n",
       "      <th></th>\n",
       "      <th>stars</th>\n",
       "      <th>review_count</th>\n",
       "      <th>negative_freq</th>\n",
       "      <th>price</th>\n",
       "      <th>price_uncode</th>\n",
       "      <th>2017</th>\n",
       "    </tr>\n",
       "  </thead>\n",
       "  <tbody>\n",
       "    <tr>\n",
       "      <td>0</td>\n",
       "      <td>4.0</td>\n",
       "      <td>41</td>\n",
       "      <td>0</td>\n",
       "      <td>0</td>\n",
       "      <td>good</td>\n",
       "      <td>Good</td>\n",
       "    </tr>\n",
       "    <tr>\n",
       "      <td>1</td>\n",
       "      <td>4.5</td>\n",
       "      <td>103</td>\n",
       "      <td>2</td>\n",
       "      <td>0</td>\n",
       "      <td>good</td>\n",
       "      <td>Good</td>\n",
       "    </tr>\n",
       "    <tr>\n",
       "      <td>2</td>\n",
       "      <td>2.5</td>\n",
       "      <td>14</td>\n",
       "      <td>2</td>\n",
       "      <td>1</td>\n",
       "      <td>bad</td>\n",
       "      <td>Good</td>\n",
       "    </tr>\n",
       "    <tr>\n",
       "      <td>3</td>\n",
       "      <td>2.5</td>\n",
       "      <td>18</td>\n",
       "      <td>3</td>\n",
       "      <td>0</td>\n",
       "      <td>good</td>\n",
       "      <td>Good</td>\n",
       "    </tr>\n",
       "    <tr>\n",
       "      <td>4</td>\n",
       "      <td>4.0</td>\n",
       "      <td>9</td>\n",
       "      <td>0</td>\n",
       "      <td>0</td>\n",
       "      <td>good</td>\n",
       "      <td>Good</td>\n",
       "    </tr>\n",
       "  </tbody>\n",
       "</table>\n",
       "</div>"
      ],
      "text/plain": [
       "   stars  review_count  negative_freq  price price_uncode  2017\n",
       "0    4.0            41              0      0         good  Good\n",
       "1    4.5           103              2      0         good  Good\n",
       "2    2.5            14              2      1          bad  Good\n",
       "3    2.5            18              3      0         good  Good\n",
       "4    4.0             9              0      0         good  Good"
      ]
     },
     "execution_count": 524,
     "metadata": {},
     "output_type": "execute_result"
    }
   ],
   "source": [
    "def label_to_label(x):\n",
    "    if x == \"A\":\n",
    "        y = 'Good'\n",
    "    else:\n",
    "        y = 'Bad'\n",
    "    return y\n",
    "\n",
    "Xy = pd.concat([df_X, df_all['2017']], axis=1)\n",
    "\n",
    "Xy['2017'] = Xy['2017'].apply(label_to_label)\n",
    "Xy.head()"
   ]
  },
  {
   "cell_type": "code",
   "execution_count": 540,
   "metadata": {},
   "outputs": [
    {
     "data": {
      "image/png": "[encoded data removed]",
      "text/plain": [
       "<Figure size 288x288 with 1 Axes>"
      ]
     },
     "metadata": {
      "needs_background": "light"
     },
     "output_type": "display_data"
    }
   ],
   "source": [
    "figsg, axsg = plt.subplots(figsize = (4,4))\n",
    "axsg = sns.barplot(x = Xy[\"2017\"], y = Xy[\"stars\"], color = 'grey')\n",
    "axsg.tick_params(axis=\"x\", labelsize=14)\n",
    "axsg.tick_params(axis=\"y\", labelsize=14)\n",
    "axsg.set_xlabel('Inspection grade', fontsize='large', fontweight='bold')\n",
    "axsg.set_ylabel('Stars', fontsize='large', fontweight='bold')\n",
    "axsg.set_ylim(0,5)\n",
    "axsg.spines['right'].set_visible(False) \n",
    "axsg.spines['top'].set_visible(False)\n",
    "plt.savefig('/Users/kristenboyle/Documents/food_project/pictures/stars_grade.png')"
   ]
  },
  {
   "cell_type": "code",
   "execution_count": 549,
   "metadata": {},
   "outputs": [
    {
     "data": {
      "image/png": "[encoded data removed]",
      "text/plain": [
       "<Figure size 288x288 with 1 Axes>"
      ]
     },
     "metadata": {
      "needs_background": "light"
     },
     "output_type": "display_data"
    }
   ],
   "source": [
    "figrg, axrg = plt.subplots(figsize = (4,4))\n",
    "axrg = sns.barplot(x = Xy[\"2017\"], y = Xy[\"review_count\"], color = 'salmon')\n",
    "axrg.tick_params(axis=\"x\", labelsize=14)\n",
    "axrg.tick_params(axis=\"y\", labelsize=14)\n",
    "axrg.set_xlabel('Inspection grade', fontsize='large', fontweight='bold')\n",
    "axrg.set_ylabel('Review count', fontsize='large', fontweight='bold')\n",
    "#axrg.set_ylim(0,5)\n",
    "axrg.spines['right'].set_visible(False) \n",
    "axrg.spines['top'].set_visible(False)\n",
    "plt.savefig('/Users/kristenboyle/Documents/food_project/pictures/review_count_grade.png')"
   ]
  },
  {
   "cell_type": "code",
   "execution_count": 550,
   "metadata": {},
   "outputs": [
    {
     "data": {
      "image/png": "[encoded data removed]",
      "text/plain": [
       "<Figure size 288x288 with 1 Axes>"
      ]
     },
     "metadata": {
      "needs_background": "light"
     },
     "output_type": "display_data"
    }
   ],
   "source": [
    "figng, axng = plt.subplots(figsize = (4,4))\n",
    "axng = sns.barplot(x = Xy[\"2017\"], y = Xy[\"negative_freq\"], color = 'grey')\n",
    "axng.tick_params(axis=\"x\", labelsize=14)\n",
    "axng.tick_params(axis=\"y\", labelsize=14)\n",
    "axng.set_xlabel('Inspection grade', fontsize='large', fontweight='bold')\n",
    "axng.set_ylabel('Freq', fontsize='large', fontweight='bold')\n",
    "#axrg.set_ylim(0,5)\n",
    "axng.spines['right'].set_visible(False) \n",
    "axng.spines['top'].set_visible(False)\n",
    "plt.savefig('/Users/kristenboyle/Documents/food_project/pictures/neg_freq_grade.png')"
   ]
  },
  {
   "cell_type": "code",
   "execution_count": 531,
   "metadata": {},
   "outputs": [
    {
     "data": {
      "text/html": [
       "<div>\n",
       "<style scoped>\n",
       "    .dataframe tbody tr th:only-of-type {\n",
       "        vertical-align: middle;\n",
       "    }\n",
       "\n",
       "    .dataframe tbody tr th {\n",
       "        vertical-align: top;\n",
       "    }\n",
       "\n",
       "    .dataframe thead th {\n",
       "        text-align: right;\n",
       "    }\n",
       "</style>\n",
       "<table border=\"1\" class=\"dataframe\">\n",
       "  <thead>\n",
       "    <tr style=\"text-align: right;\">\n",
       "      <th></th>\n",
       "      <th>stars</th>\n",
       "      <th>review_count</th>\n",
       "      <th>negative_freq</th>\n",
       "      <th>price</th>\n",
       "    </tr>\n",
       "    <tr>\n",
       "      <th>2017</th>\n",
       "      <th></th>\n",
       "      <th></th>\n",
       "      <th></th>\n",
       "      <th></th>\n",
       "    </tr>\n",
       "  </thead>\n",
       "  <tbody>\n",
       "    <tr>\n",
       "      <td>Bad</td>\n",
       "      <td>3.251553</td>\n",
       "      <td>103.906832</td>\n",
       "      <td>0.891304</td>\n",
       "      <td>0.118012</td>\n",
       "    </tr>\n",
       "    <tr>\n",
       "      <td>Good</td>\n",
       "      <td>2.993886</td>\n",
       "      <td>89.590761</td>\n",
       "      <td>0.886413</td>\n",
       "      <td>0.144022</td>\n",
       "    </tr>\n",
       "  </tbody>\n",
       "</table>\n",
       "</div>"
      ],
      "text/plain": [
       "         stars  review_count  negative_freq     price\n",
       "2017                                                 \n",
       "Bad   3.251553    103.906832       0.891304  0.118012\n",
       "Good  2.993886     89.590761       0.886413  0.144022"
      ]
     },
     "execution_count": 531,
     "metadata": {},
     "output_type": "execute_result"
    }
   ],
   "source": [
    "Xy.groupby('2017').mean()"
   ]
  },
  {
   "cell_type": "code",
   "execution_count": 553,
   "metadata": {},
   "outputs": [],
   "source": [
    "Xy[\"price\"] = Xy[\"price\"]+1"
   ]
  },
  {
   "cell_type": "code",
   "execution_count": 554,
   "metadata": {},
   "outputs": [
    {
     "data": {
      "text/html": [
       "<div>\n",
       "<style scoped>\n",
       "    .dataframe tbody tr th:only-of-type {\n",
       "        vertical-align: middle;\n",
       "    }\n",
       "\n",
       "    .dataframe tbody tr th {\n",
       "        vertical-align: top;\n",
       "    }\n",
       "\n",
       "    .dataframe thead th {\n",
       "        text-align: right;\n",
       "    }\n",
       "</style>\n",
       "<table border=\"1\" class=\"dataframe\">\n",
       "  <thead>\n",
       "    <tr style=\"text-align: right;\">\n",
       "      <th></th>\n",
       "      <th>stars</th>\n",
       "      <th>review_count</th>\n",
       "      <th>negative_freq</th>\n",
       "      <th>price</th>\n",
       "    </tr>\n",
       "    <tr>\n",
       "      <th>2017</th>\n",
       "      <th></th>\n",
       "      <th></th>\n",
       "      <th></th>\n",
       "      <th></th>\n",
       "    </tr>\n",
       "  </thead>\n",
       "  <tbody>\n",
       "    <tr>\n",
       "      <td>Bad</td>\n",
       "      <td>3.251553</td>\n",
       "      <td>103.906832</td>\n",
       "      <td>0.891304</td>\n",
       "      <td>1.118012</td>\n",
       "    </tr>\n",
       "    <tr>\n",
       "      <td>Good</td>\n",
       "      <td>2.993886</td>\n",
       "      <td>89.590761</td>\n",
       "      <td>0.886413</td>\n",
       "      <td>1.144022</td>\n",
       "    </tr>\n",
       "  </tbody>\n",
       "</table>\n",
       "</div>"
      ],
      "text/plain": [
       "         stars  review_count  negative_freq     price\n",
       "2017                                                 \n",
       "Bad   3.251553    103.906832       0.891304  1.118012\n",
       "Good  2.993886     89.590761       0.886413  1.144022"
      ]
     },
     "execution_count": 554,
     "metadata": {},
     "output_type": "execute_result"
    }
   ],
   "source": [
    "Xy.groupby('2017').mean()"
   ]
  },
  {
   "cell_type": "code",
   "execution_count": 556,
   "metadata": {},
   "outputs": [
    {
     "data": {
      "image/png": "[encoded data removed]",
      "text/plain": [
       "<Figure size 288x288 with 1 Axes>"
      ]
     },
     "metadata": {
      "needs_background": "light"
     },
     "output_type": "display_data"
    }
   ],
   "source": [
    "figpg, axpg = plt.subplots(figsize = (4,4))\n",
    "axpg = sns.barplot(x = Xy[\"2017\"], y = Xy[\"negative_freq\"], color = 'cyan')\n",
    "axpg.tick_params(axis=\"x\", labelsize=14)\n",
    "axpg.tick_params(axis=\"y\", labelsize=14)\n",
    "axpg.set_xlabel('Inspection grade', fontsize='large', fontweight='bold')\n",
    "axpg.set_ylabel('Price', fontsize='large', fontweight='bold')\n",
    "axrg.set_ylim(1,4)\n",
    "axpg.spines['right'].set_visible(False) \n",
    "axpg.spines['top'].set_visible(False)\n",
    "plt.savefig('/Users/kristenboyle/Documents/food_project/pictures/price_grade.png')"
   ]
  },
  {
   "cell_type": "code",
   "execution_count": 558,
   "metadata": {},
   "outputs": [],
   "source": [
    "#negative_words_list\n"
   ]
  },
  {
   "cell_type": "code",
   "execution_count": 571,
   "metadata": {},
   "outputs": [
    {
     "data": {
      "text/html": [
       "<div>\n",
       "<style scoped>\n",
       "    .dataframe tbody tr th:only-of-type {\n",
       "        vertical-align: middle;\n",
       "    }\n",
       "\n",
       "    .dataframe tbody tr th {\n",
       "        vertical-align: top;\n",
       "    }\n",
       "\n",
       "    .dataframe thead th {\n",
       "        text-align: right;\n",
       "    }\n",
       "</style>\n",
       "<table border=\"1\" class=\"dataframe\">\n",
       "  <thead>\n",
       "    <tr style=\"text-align: right;\">\n",
       "      <th></th>\n",
       "      <th>stars</th>\n",
       "      <th>review_count</th>\n",
       "      <th>negative_freq</th>\n",
       "      <th>price</th>\n",
       "      <th>price_uncode</th>\n",
       "      <th>2017</th>\n",
       "      <th>stars_to_review_count</th>\n",
       "      <th>freq_to_review_count</th>\n",
       "      <th>price_to_review_count</th>\n",
       "    </tr>\n",
       "  </thead>\n",
       "  <tbody>\n",
       "    <tr>\n",
       "      <td>0</td>\n",
       "      <td>4.0</td>\n",
       "      <td>41</td>\n",
       "      <td>0</td>\n",
       "      <td>1</td>\n",
       "      <td>good</td>\n",
       "      <td>Good</td>\n",
       "      <td>0.097561</td>\n",
       "      <td>0.000000</td>\n",
       "      <td>0.024390</td>\n",
       "    </tr>\n",
       "    <tr>\n",
       "      <td>1</td>\n",
       "      <td>4.5</td>\n",
       "      <td>103</td>\n",
       "      <td>2</td>\n",
       "      <td>1</td>\n",
       "      <td>good</td>\n",
       "      <td>Good</td>\n",
       "      <td>0.043689</td>\n",
       "      <td>0.019417</td>\n",
       "      <td>0.009709</td>\n",
       "    </tr>\n",
       "    <tr>\n",
       "      <td>2</td>\n",
       "      <td>2.5</td>\n",
       "      <td>14</td>\n",
       "      <td>2</td>\n",
       "      <td>2</td>\n",
       "      <td>bad</td>\n",
       "      <td>Good</td>\n",
       "      <td>0.178571</td>\n",
       "      <td>0.142857</td>\n",
       "      <td>0.142857</td>\n",
       "    </tr>\n",
       "    <tr>\n",
       "      <td>3</td>\n",
       "      <td>2.5</td>\n",
       "      <td>18</td>\n",
       "      <td>3</td>\n",
       "      <td>1</td>\n",
       "      <td>good</td>\n",
       "      <td>Good</td>\n",
       "      <td>0.138889</td>\n",
       "      <td>0.166667</td>\n",
       "      <td>0.055556</td>\n",
       "    </tr>\n",
       "    <tr>\n",
       "      <td>4</td>\n",
       "      <td>4.0</td>\n",
       "      <td>9</td>\n",
       "      <td>0</td>\n",
       "      <td>1</td>\n",
       "      <td>good</td>\n",
       "      <td>Good</td>\n",
       "      <td>0.444444</td>\n",
       "      <td>0.000000</td>\n",
       "      <td>0.111111</td>\n",
       "    </tr>\n",
       "  </tbody>\n",
       "</table>\n",
       "</div>"
      ],
      "text/plain": [
       "   stars  review_count  negative_freq  price price_uncode  2017  \\\n",
       "0    4.0            41              0      1         good  Good   \n",
       "1    4.5           103              2      1         good  Good   \n",
       "2    2.5            14              2      2          bad  Good   \n",
       "3    2.5            18              3      1         good  Good   \n",
       "4    4.0             9              0      1         good  Good   \n",
       "\n",
       "   stars_to_review_count  freq_to_review_count  price_to_review_count  \n",
       "0               0.097561              0.000000               0.024390  \n",
       "1               0.043689              0.019417               0.009709  \n",
       "2               0.178571              0.142857               0.142857  \n",
       "3               0.138889              0.166667               0.055556  \n",
       "4               0.444444              0.000000               0.111111  "
      ]
     },
     "execution_count": 571,
     "metadata": {},
     "output_type": "execute_result"
    }
   ],
   "source": [
    "Xy[\"stars_to_review_count\"] = Xy[\"stars\"]/Xy[\"review_count\"]\n",
    "Xy[\"freq_to_review_count\"] = Xy[\"negative_freq\"]/Xy[\"review_count\"]\n",
    "Xy[\"price_to_review_count\"] = Xy[\"price\"]/Xy[\"review_count\"]\n",
    "Xy.head()"
   ]
  },
  {
   "cell_type": "code",
   "execution_count": 572,
   "metadata": {},
   "outputs": [
    {
     "data": {
      "text/html": [
       "<div>\n",
       "<style scoped>\n",
       "    .dataframe tbody tr th:only-of-type {\n",
       "        vertical-align: middle;\n",
       "    }\n",
       "\n",
       "    .dataframe tbody tr th {\n",
       "        vertical-align: top;\n",
       "    }\n",
       "\n",
       "    .dataframe thead th {\n",
       "        text-align: right;\n",
       "    }\n",
       "</style>\n",
       "<table border=\"1\" class=\"dataframe\">\n",
       "  <thead>\n",
       "    <tr style=\"text-align: right;\">\n",
       "      <th></th>\n",
       "      <th>stars</th>\n",
       "      <th>review_count</th>\n",
       "      <th>negative_freq</th>\n",
       "      <th>price</th>\n",
       "      <th>stars_to_review_count</th>\n",
       "      <th>freq_to_review_count</th>\n",
       "      <th>price_to_review_count</th>\n",
       "    </tr>\n",
       "    <tr>\n",
       "      <th>2017</th>\n",
       "      <th></th>\n",
       "      <th></th>\n",
       "      <th></th>\n",
       "      <th></th>\n",
       "      <th></th>\n",
       "      <th></th>\n",
       "      <th></th>\n",
       "    </tr>\n",
       "  </thead>\n",
       "  <tbody>\n",
       "    <tr>\n",
       "      <td>Bad</td>\n",
       "      <td>3.251553</td>\n",
       "      <td>103.906832</td>\n",
       "      <td>0.891304</td>\n",
       "      <td>1.118012</td>\n",
       "      <td>0.099947</td>\n",
       "      <td>0.013661</td>\n",
       "      <td>0.038777</td>\n",
       "    </tr>\n",
       "    <tr>\n",
       "      <td>Good</td>\n",
       "      <td>2.993886</td>\n",
       "      <td>89.590761</td>\n",
       "      <td>0.886413</td>\n",
       "      <td>1.144022</td>\n",
       "      <td>0.114130</td>\n",
       "      <td>0.014836</td>\n",
       "      <td>0.046106</td>\n",
       "    </tr>\n",
       "  </tbody>\n",
       "</table>\n",
       "</div>"
      ],
      "text/plain": [
       "         stars  review_count  negative_freq     price  stars_to_review_count  \\\n",
       "2017                                                                           \n",
       "Bad   3.251553    103.906832       0.891304  1.118012               0.099947   \n",
       "Good  2.993886     89.590761       0.886413  1.144022               0.114130   \n",
       "\n",
       "      freq_to_review_count  price_to_review_count  \n",
       "2017                                               \n",
       "Bad               0.013661               0.038777  \n",
       "Good              0.014836               0.046106  "
      ]
     },
     "execution_count": 572,
     "metadata": {},
     "output_type": "execute_result"
    }
   ],
   "source": [
    "Xy.groupby('2017').mean()"
   ]
  },
  {
   "cell_type": "code",
   "execution_count": 576,
   "metadata": {},
   "outputs": [
    {
     "data": {
      "text/plain": [
       "<matplotlib.axes._subplots.AxesSubplot at 0x1a5b2a6e48>"
      ]
     },
     "execution_count": 576,
     "metadata": {},
     "output_type": "execute_result"
    },
    {
     "data": {
      "image/png": "[encoded data removed]",
      "text/plain": [
       "<Figure size 432x288 with 1 Axes>"
      ]
     },
     "metadata": {
      "needs_background": "light"
     },
     "output_type": "display_data"
    }
   ],
   "source": [
    "Xy['price'].hist()"
   ]
  },
  {
   "cell_type": "code",
   "execution_count": null,
   "metadata": {},
   "outputs": [],
   "source": []
  }
 ],
 "metadata": {
  "kernelspec": {
   "display_name": "Python 3",
   "language": "python",
   "name": "python3"
  },
  "language_info": {
   "codemirror_mode": {
    "name": "ipython",
    "version": 3
   },
   "file_extension": ".py",
   "mimetype": "text/x-python",
   "name": "python",
   "nbconvert_exporter": "python",
   "pygments_lexer": "ipython3",
   "version": "3.7.3"
  }
 },
 "nbformat": 4,
 "nbformat_minor": 2
}
