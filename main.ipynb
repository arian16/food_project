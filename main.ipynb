{
 "cells": [
  {
   "cell_type": "code",
   "execution_count": 1,
   "metadata": {},
   "outputs": [
    {
     "name": "stderr",
     "output_type": "stream",
     "text": [
      "[nltk_data] Downloading package stopwords to\n",
      "[nltk_data]     /Users/kristenboyle/nltk_data...\n",
      "[nltk_data]   Package stopwords is already up-to-date!\n"
     ]
    }
   ],
   "source": [
    "# Import necessary libraries\n",
    "import pandas as pd\n",
    "import numpy as np\n",
    "# For text analysis\n",
    "from nltk.tokenize import sent_tokenize, word_tokenize   \n",
    "import nltk\n",
    "nltk.download('stopwords')\n",
    "from nltk.corpus import stopwords\n",
    "# Word embeddings\n",
    "import gensim \n",
    "from gensim.models import Word2Vec\n",
    "# Statistics and model related\n",
    "from statistics import mode, StatisticsError\n",
    "import random \n",
    "from sklearn import preprocessing, neighbors\n",
    "from sklearn.utils import resample\n",
    "# Model development\n",
    "from sklearn.model_selection import train_test_split\n",
    "from sklearn.linear_model import LogisticRegression\n",
    "from sklearn.metrics import accuracy_score, f1_score\n",
    "from sklearn.ensemble import RandomForestClassifier\n",
    "import pickle\n",
    "# EDA\n",
    "import matplotlib.pyplot as plt\n",
    "import seaborn as sns\n",
    "%matplotlib inline"
   ]
  },
  {
   "cell_type": "code",
   "execution_count": 2,
   "metadata": {},
   "outputs": [
    {
     "name": "stderr",
     "output_type": "stream",
     "text": [
      "/Users/kristenboyle/anaconda3/envs/food_venv/lib/python3.7/site-packages/IPython/core/interactiveshell.py:3058: DtypeWarning: Columns (17,32,49) have mixed types. Specify dtype option on import or set low_memory=False.\n",
      "  interactivity=interactivity, compiler=compiler, result=result)\n"
     ]
    }
   ],
   "source": [
    "# Read tips dataset\n",
    "df_tip = pd.read_csv('/Users/kristenboyle/Downloads/yelp_dataset/tip.csv')\n",
    "# Load ratings, stars, etc. for businesses\n",
    "df_business = pd.read_csv('/Users/kristenboyle/Downloads/yelp_dataset/business.csv')\n",
    "# Food inspection data\n",
    "df_inspection = pd.read_csv('/Users/kristenboyle/Downloads/restaurant-inspections-1.csv')"
   ]
  },
  {
   "cell_type": "code",
   "execution_count": 3,
   "metadata": {},
   "outputs": [],
   "source": [
    "# Functions\n",
    "def pick_one(input_list):\n",
    "    x = random.choice(input_list)\n",
    "    return x\n",
    "\n",
    "# Find the length of a list in the df row\n",
    "def get_len(x):\n",
    "    y = len(x)\n",
    "    return y\n",
    "\n",
    "# The below function removes the stop words and tokenize a sentence\n",
    "def preprocess(text):\n",
    "    tokens = gensim.utils.simple_preprocess(text)\n",
    "    stop_words = stopwords.words('english')\n",
    "    return [tok for tok in tokens if tok not in stop_words]\n",
    "\n",
    "# Finds the mode in the list, if there is tie pick random\n",
    "def find_mode(input_list):\n",
    "    try: \n",
    "        x = mode(input_list)\n",
    "    except StatisticsError: # If the list is bimodal, then take a random element. Justification: add noise\n",
    "        x = random.choice(input_list)\n",
    "    return x\n",
    "\n",
    "# Find the number of negative words based on the length of each row from 'negative_word'\n",
    "def freq_finder(x):\n",
    "    y = len(x)\n",
    "    return y\n",
    "\n",
    "# Enode 2017 into: 0 for A; 1 for B, C and X\n",
    "def label_to_numeric(x):\n",
    "    if x == \"A\":\n",
    "        y = 0\n",
    "    else:\n",
    "        y = 1\n",
    "    return y\n",
    "\n",
    "# Change label from A to Good and B,C,X to bad\n",
    "def label_to_label(x):\n",
    "    if x == \"A\":\n",
    "        y = 'Good'\n",
    "    else:\n",
    "        y = 'Bad'\n",
    "    return y"
   ]
  },
  {
   "cell_type": "code",
   "execution_count": 4,
   "metadata": {},
   "outputs": [
    {
     "data": {
      "text/html": [
       "<div>\n",
       "<style scoped>\n",
       "    .dataframe tbody tr th:only-of-type {\n",
       "        vertical-align: middle;\n",
       "    }\n",
       "\n",
       "    .dataframe tbody tr th {\n",
       "        vertical-align: top;\n",
       "    }\n",
       "\n",
       "    .dataframe thead th {\n",
       "        text-align: right;\n",
       "    }\n",
       "</style>\n",
       "<table border=\"1\" class=\"dataframe\">\n",
       "  <thead>\n",
       "    <tr style=\"text-align: right;\">\n",
       "      <th></th>\n",
       "      <th>compliment_count</th>\n",
       "      <th>date</th>\n",
       "      <th>user_id</th>\n",
       "      <th>text</th>\n",
       "      <th>text_all</th>\n",
       "      <th>tips_count</th>\n",
       "    </tr>\n",
       "    <tr>\n",
       "      <th>business_id</th>\n",
       "      <th></th>\n",
       "      <th></th>\n",
       "      <th></th>\n",
       "      <th></th>\n",
       "      <th></th>\n",
       "      <th></th>\n",
       "    </tr>\n",
       "  </thead>\n",
       "  <tbody>\n",
       "    <tr>\n",
       "      <td>--1UhMGODdWsrMastO9DZw</td>\n",
       "      <td>[0]</td>\n",
       "      <td>[2017-07-26 17:26:25]</td>\n",
       "      <td>[4YHZzwlxEMi7zWO6Osszdw]</td>\n",
       "      <td>[Delicious! One of the best burritos, salsa an...</td>\n",
       "      <td>Delicious! One of the best burritos, salsa and...</td>\n",
       "      <td>1</td>\n",
       "    </tr>\n",
       "    <tr>\n",
       "      <td>--6MefnULPED_I942VcFNA</td>\n",
       "      <td>[0, 0, 0, 0, 0, 0, 0, 0, 0, 0, 0, 0, 0, 0]</td>\n",
       "      <td>[2013-03-24 01:12:20, 2014-07-11 15:48:40, 201...</td>\n",
       "      <td>[EiP1OFgs-XGcKZux0OKWIA, 2oMkzQcRL7-d7URt3Xo_X...</td>\n",
       "      <td>[BBQ pork is sold out early on Saturday, $5 lu...</td>\n",
       "      <td>BBQ pork is sold out early on Saturday;$5 lunc...</td>\n",
       "      <td>14</td>\n",
       "    </tr>\n",
       "    <tr>\n",
       "      <td>--7zmmkVg-IMGaXbuVd0SQ</td>\n",
       "      <td>[0, 0, 0, 0, 0, 0, 0, 0, 0, 0, 0]</td>\n",
       "      <td>[2017-08-17 20:35:18, 2015-02-27 23:35:49, 201...</td>\n",
       "      <td>[Z7pFsGpIyLzMTZsXjTFF1A, Zqhl8pDShvMr2Vt1mIGC4...</td>\n",
       "      <td>[Good place to stop when traffic don't go., Fl...</td>\n",
       "      <td>Good place to stop when traffic don't go.;Flig...</td>\n",
       "      <td>11</td>\n",
       "    </tr>\n",
       "  </tbody>\n",
       "</table>\n",
       "</div>"
      ],
      "text/plain": [
       "                                                  compliment_count  \\\n",
       "business_id                                                          \n",
       "--1UhMGODdWsrMastO9DZw                                         [0]   \n",
       "--6MefnULPED_I942VcFNA  [0, 0, 0, 0, 0, 0, 0, 0, 0, 0, 0, 0, 0, 0]   \n",
       "--7zmmkVg-IMGaXbuVd0SQ           [0, 0, 0, 0, 0, 0, 0, 0, 0, 0, 0]   \n",
       "\n",
       "                                                                     date  \\\n",
       "business_id                                                                 \n",
       "--1UhMGODdWsrMastO9DZw                              [2017-07-26 17:26:25]   \n",
       "--6MefnULPED_I942VcFNA  [2013-03-24 01:12:20, 2014-07-11 15:48:40, 201...   \n",
       "--7zmmkVg-IMGaXbuVd0SQ  [2017-08-17 20:35:18, 2015-02-27 23:35:49, 201...   \n",
       "\n",
       "                                                                  user_id  \\\n",
       "business_id                                                                 \n",
       "--1UhMGODdWsrMastO9DZw                           [4YHZzwlxEMi7zWO6Osszdw]   \n",
       "--6MefnULPED_I942VcFNA  [EiP1OFgs-XGcKZux0OKWIA, 2oMkzQcRL7-d7URt3Xo_X...   \n",
       "--7zmmkVg-IMGaXbuVd0SQ  [Z7pFsGpIyLzMTZsXjTFF1A, Zqhl8pDShvMr2Vt1mIGC4...   \n",
       "\n",
       "                                                                     text  \\\n",
       "business_id                                                                 \n",
       "--1UhMGODdWsrMastO9DZw  [Delicious! One of the best burritos, salsa an...   \n",
       "--6MefnULPED_I942VcFNA  [BBQ pork is sold out early on Saturday, $5 lu...   \n",
       "--7zmmkVg-IMGaXbuVd0SQ  [Good place to stop when traffic don't go., Fl...   \n",
       "\n",
       "                                                                 text_all  \\\n",
       "business_id                                                                 \n",
       "--1UhMGODdWsrMastO9DZw  Delicious! One of the best burritos, salsa and...   \n",
       "--6MefnULPED_I942VcFNA  BBQ pork is sold out early on Saturday;$5 lunc...   \n",
       "--7zmmkVg-IMGaXbuVd0SQ  Good place to stop when traffic don't go.;Flig...   \n",
       "\n",
       "                        tips_count  \n",
       "business_id                         \n",
       "--1UhMGODdWsrMastO9DZw           1  \n",
       "--6MefnULPED_I942VcFNA          14  \n",
       "--7zmmkVg-IMGaXbuVd0SQ          11  "
      ]
     },
     "execution_count": 4,
     "metadata": {},
     "output_type": "execute_result"
    }
   ],
   "source": [
    "# Combine all the tips for each business\n",
    "df_tip2 = df_tip.groupby('business_id').agg(lambda x: x.tolist()) \n",
    "# Convert each row (list of tips) for \"text\" column to a single string separated by \";\"\n",
    "df_tip2['text_all'] = df_tip2['text'].str.join(';')\n",
    "# count the number of tips for each business\n",
    "df_tip2['tips_count'] = df_tip2['compliment_count'].apply(get_len)\n",
    "df_tip2.head(3)"
   ]
  },
  {
   "cell_type": "code",
   "execution_count": 5,
   "metadata": {},
   "outputs": [
    {
     "data": {
      "text/plain": [
       "business_id\n",
       "--1UhMGODdWsrMastO9DZw    [delicious, one, best, burritos, salsa, vegeta...\n",
       "--6MefnULPED_I942VcFNA    [bbq, pork, sold, early, saturday, lunch, spec...\n",
       "--7zmmkVg-IMGaXbuVd0SQ    [good, place, stop, traffic, go, flights, beer...\n",
       "Name: text_clean, dtype: object"
      ]
     },
     "execution_count": 5,
     "metadata": {},
     "output_type": "execute_result"
    }
   ],
   "source": [
    "# Clean and tokenize\n",
    "df_tip2 = df_tip2.dropna() # Remove NaNs\n",
    "desired_series = df_tip2.text_all.tolist()\n",
    "series_token = [preprocess(sentence) for sentence in desired_series] # Function: preprocess\n",
    "df_tip2['text_clean'] = series_token # Create a series with tokens\n",
    "df_tip2['text_clean'].head(3)"
   ]
  },
  {
   "cell_type": "code",
   "execution_count": 14,
   "metadata": {},
   "outputs": [],
   "source": [
    "# Not using word2vec anymore\n",
    "## Word2vec model\n",
    "#model = Word2Vec(df_tip2['text_clean'], size=50, window=5, min_count=1, workers=4)\n",
    "#model.save(\"word2vec.model\")\n",
    "## Predict the similarity between words based on the Word2vec model\n",
    "#print(\"Cosine similarity between 'roach' \" + \"and 'bug': \", \n",
    "#      model.similarity('roach', 'clean'))"
   ]
  },
  {
   "cell_type": "code",
   "execution_count": 6,
   "metadata": {},
   "outputs": [
    {
     "data": {
      "text/plain": [
       "Index(['attributes.AgesAllowed', 'hours.Thursday', 'attributes.CoatCheck',\n",
       "       'attributes.BusinessParking', 'attributes.GoodForMeal',\n",
       "       'attributes.Alcohol', 'attributes.RestaurantsTableService',\n",
       "       'attributes.RestaurantsTakeOut', 'attributes.RestaurantsDelivery',\n",
       "       'attributes.Music', 'hours.Wednesday', 'attributes.Ambience',\n",
       "       'attributes.HasTV', 'address', 'review_count',\n",
       "       'attributes.RestaurantsPriceRange2', 'attributes.HairSpecializesIn',\n",
       "       'attributes.RestaurantsCounterService', 'attributes.BestNights',\n",
       "       'business_id', 'attributes.DietaryRestrictions',\n",
       "       'attributes.RestaurantsReservations', 'categories', 'latitude',\n",
       "       'attributes.Corkage', 'attributes.BusinessAcceptsBitcoin',\n",
       "       'attributes.OutdoorSeating', 'hours.Tuesday', 'attributes.Smoking',\n",
       "       'attributes.Caters', 'attributes.BusinessAcceptsCreditCards',\n",
       "       'attributes.RestaurantsAttire', 'attributes.Open24Hours', 'name',\n",
       "       'attributes.WheelchairAccessible', 'state', 'attributes.DogsAllowed',\n",
       "       'stars', 'attributes.AcceptsInsurance', 'attributes.DriveThru', 'city',\n",
       "       'attributes.HappyHour', 'hours.Monday', 'attributes',\n",
       "       'attributes.RestaurantsGoodForGroups', 'attributes.ByAppointmentOnly',\n",
       "       'attributes.BikeParking', 'attributes.GoodForKids', 'is_open',\n",
       "       'attributes.BYOB', 'postal_code', 'hours.Friday',\n",
       "       'attributes.GoodForDancing', 'attributes.WiFi', 'hours.Sunday',\n",
       "       'attributes.NoiseLevel', 'hours.Saturday', 'longitude', 'hours',\n",
       "       'attributes.BYOBCorkage'],\n",
       "      dtype='object')"
      ]
     },
     "execution_count": 6,
     "metadata": {},
     "output_type": "execute_result"
    }
   ],
   "source": [
    "# df_business: separate businesses in Las Vegas from other cities\n",
    "df_business1 = df_business[df_business['city'] == \"Las Vegas\"]\n",
    "df_business1.columns"
   ]
  },
  {
   "cell_type": "code",
   "execution_count": 7,
   "metadata": {},
   "outputs": [
    {
     "data": {
      "text/html": [
       "<div>\n",
       "<style scoped>\n",
       "    .dataframe tbody tr th:only-of-type {\n",
       "        vertical-align: middle;\n",
       "    }\n",
       "\n",
       "    .dataframe tbody tr th {\n",
       "        vertical-align: top;\n",
       "    }\n",
       "\n",
       "    .dataframe thead th {\n",
       "        text-align: right;\n",
       "    }\n",
       "</style>\n",
       "<table border=\"1\" class=\"dataframe\">\n",
       "  <thead>\n",
       "    <tr style=\"text-align: right;\">\n",
       "      <th></th>\n",
       "      <th>business_id</th>\n",
       "      <th>name</th>\n",
       "      <th>stars</th>\n",
       "      <th>review_count</th>\n",
       "      <th>categories</th>\n",
       "      <th>attributes.RestaurantsPriceRange2</th>\n",
       "      <th>address</th>\n",
       "    </tr>\n",
       "  </thead>\n",
       "  <tbody>\n",
       "    <tr>\n",
       "      <td>7</td>\n",
       "      <td>gbQN7vr_caG_A1ugSmGhWg</td>\n",
       "      <td>Supercuts</td>\n",
       "      <td>3.5</td>\n",
       "      <td>3</td>\n",
       "      <td>Hair Salons, Hair Stylists, Barbers, Men's Hai...</td>\n",
       "      <td>3</td>\n",
       "      <td>4545 E Tropicana Rd Ste 8, Tropicana</td>\n",
       "    </tr>\n",
       "    <tr>\n",
       "      <td>17</td>\n",
       "      <td>PZ-LZzSlhSe9utkQYU8pFg</td>\n",
       "      <td>Carluccio's Tivoli Gardens</td>\n",
       "      <td>4.0</td>\n",
       "      <td>40</td>\n",
       "      <td>Restaurants, Italian</td>\n",
       "      <td>2</td>\n",
       "      <td>1775 E Tropicana Ave, Ste 29</td>\n",
       "    </tr>\n",
       "    <tr>\n",
       "      <td>22</td>\n",
       "      <td>KWywu2tTEPWmR9JnBc0WyQ</td>\n",
       "      <td>Hunk Mansion</td>\n",
       "      <td>4.0</td>\n",
       "      <td>107</td>\n",
       "      <td>Nightlife, Arts &amp; Entertainment, Bars, Strip C...</td>\n",
       "      <td>2</td>\n",
       "      <td>6007 Dean Martin Dr</td>\n",
       "    </tr>\n",
       "  </tbody>\n",
       "</table>\n",
       "</div>"
      ],
      "text/plain": [
       "               business_id                        name  stars  review_count  \\\n",
       "7   gbQN7vr_caG_A1ugSmGhWg                   Supercuts    3.5             3   \n",
       "17  PZ-LZzSlhSe9utkQYU8pFg  Carluccio's Tivoli Gardens    4.0            40   \n",
       "22  KWywu2tTEPWmR9JnBc0WyQ                Hunk Mansion    4.0           107   \n",
       "\n",
       "                                           categories  \\\n",
       "7   Hair Salons, Hair Stylists, Barbers, Men's Hai...   \n",
       "17                               Restaurants, Italian   \n",
       "22  Nightlife, Arts & Entertainment, Bars, Strip C...   \n",
       "\n",
       "   attributes.RestaurantsPriceRange2                               address  \n",
       "7                                  3  4545 E Tropicana Rd Ste 8, Tropicana  \n",
       "17                                 2          1775 E Tropicana Ave, Ste 29  \n",
       "22                                 2                   6007 Dean Martin Dr  "
      ]
     },
     "execution_count": 7,
     "metadata": {},
     "output_type": "execute_result"
    }
   ],
   "source": [
    "# Create a new df_business with only a subset of features\n",
    "df_business2 = df_business1.loc[:, ['business_id', 'name', 'stars', 'review_count', 'categories', \n",
    "                                    'attributes.RestaurantsPriceRange2', 'address'] ]\n",
    "df_business2 = df_business2.dropna() # Remove NaNs\n",
    "df_business2.head(3)"
   ]
  },
  {
   "cell_type": "code",
   "execution_count": 8,
   "metadata": {},
   "outputs": [
    {
     "name": "stderr",
     "output_type": "stream",
     "text": [
      "/Users/kristenboyle/anaconda3/envs/food_venv/lib/python3.7/site-packages/pandas/core/indexing.py:494: SettingWithCopyWarning: \n",
      "A value is trying to be set on a copy of a slice from a DataFrame.\n",
      "Try using .loc[row_indexer,col_indexer] = value instead\n",
      "\n",
      "See the caveats in the documentation: http://pandas.pydata.org/pandas-docs/stable/user_guide/indexing.html#returning-a-view-versus-a-copy\n",
      "  self.obj[item] = s\n"
     ]
    },
    {
     "data": {
      "text/html": [
       "<div>\n",
       "<style scoped>\n",
       "    .dataframe tbody tr th:only-of-type {\n",
       "        vertical-align: middle;\n",
       "    }\n",
       "\n",
       "    .dataframe tbody tr th {\n",
       "        vertical-align: top;\n",
       "    }\n",
       "\n",
       "    .dataframe thead th {\n",
       "        text-align: right;\n",
       "    }\n",
       "</style>\n",
       "<table border=\"1\" class=\"dataframe\">\n",
       "  <thead>\n",
       "    <tr style=\"text-align: right;\">\n",
       "      <th></th>\n",
       "      <th>business_id</th>\n",
       "      <th>name</th>\n",
       "      <th>stars</th>\n",
       "      <th>review_count</th>\n",
       "      <th>categories</th>\n",
       "      <th>attributes.RestaurantsPriceRange2</th>\n",
       "      <th>address</th>\n",
       "    </tr>\n",
       "  </thead>\n",
       "  <tbody>\n",
       "    <tr>\n",
       "      <td>17</td>\n",
       "      <td>PZ-LZzSlhSe9utkQYU8pFg</td>\n",
       "      <td>carluccio's tivoli gardens</td>\n",
       "      <td>4.0</td>\n",
       "      <td>40</td>\n",
       "      <td>Restaurants, Italian</td>\n",
       "      <td>2</td>\n",
       "      <td>1775 E Tropicana Ave, Ste 29</td>\n",
       "    </tr>\n",
       "    <tr>\n",
       "      <td>25</td>\n",
       "      <td>tstimHoMcYbkSC4eBA1wEg</td>\n",
       "      <td>maria's mexican restaurant &amp; bakery</td>\n",
       "      <td>4.5</td>\n",
       "      <td>184</td>\n",
       "      <td>Mexican, Restaurants, Patisserie/Cake Shop, Fo...</td>\n",
       "      <td>1</td>\n",
       "      <td>6055 E Lake Mead Blvd</td>\n",
       "    </tr>\n",
       "    <tr>\n",
       "      <td>75</td>\n",
       "      <td>kANF0dbeoW34s2vwh6Umfw</td>\n",
       "      <td>dairy queen</td>\n",
       "      <td>2.0</td>\n",
       "      <td>33</td>\n",
       "      <td>Fast Food, Food, Restaurants, Ice Cream &amp; Froz...</td>\n",
       "      <td>1</td>\n",
       "      <td>6125 Spring Mountain Rd</td>\n",
       "    </tr>\n",
       "  </tbody>\n",
       "</table>\n",
       "</div>"
      ],
      "text/plain": [
       "               business_id                                 name  stars  \\\n",
       "17  PZ-LZzSlhSe9utkQYU8pFg           carluccio's tivoli gardens    4.0   \n",
       "25  tstimHoMcYbkSC4eBA1wEg  maria's mexican restaurant & bakery    4.5   \n",
       "75  kANF0dbeoW34s2vwh6Umfw                          dairy queen    2.0   \n",
       "\n",
       "    review_count                                         categories  \\\n",
       "17            40                               Restaurants, Italian   \n",
       "25           184  Mexican, Restaurants, Patisserie/Cake Shop, Fo...   \n",
       "75            33  Fast Food, Food, Restaurants, Ice Cream & Froz...   \n",
       "\n",
       "   attributes.RestaurantsPriceRange2                       address  \n",
       "17                                 2  1775 E Tropicana Ave, Ste 29  \n",
       "25                                 1         6055 E Lake Mead Blvd  \n",
       "75                                 1       6125 Spring Mountain Rd  "
      ]
     },
     "execution_count": 8,
     "metadata": {},
     "output_type": "execute_result"
    }
   ],
   "source": [
    "# Includes businesses if \"Restaurants\" exist in the \"categories\" column\n",
    "df_business3 = df_business2[df_business2['categories'].str.contains('Restaurants')]\n",
    "# Clean the restaurant names\n",
    "df_business3.loc[:,'name'] = df_business3['name'].str.lower()\n",
    "df_business3.head(3)"
   ]
  },
  {
   "cell_type": "code",
   "execution_count": 9,
   "metadata": {},
   "outputs": [],
   "source": [
    "# Food inspection data\n",
    "# Separate inspection grade based on year\n",
    "df_inspection_2017 = df_inspection[df_inspection['Record Updated'].str.contains('2017')]\n",
    "df_inspection_2016 = df_inspection[df_inspection['Record Updated'].str.contains('2016')]\n",
    "df_inspection_2015 = df_inspection[df_inspection['Record Updated'].str.contains('2015')]\n",
    "df_inspection_2014 = df_inspection[df_inspection['Record Updated'].str.contains('2014')]\n",
    "df_inspection_2013 = df_inspection[df_inspection['Record Updated'].str.contains('2013')]\n",
    "df_inspection_2012 = df_inspection[df_inspection['Record Updated'].str.contains('2012')]"
   ]
  },
  {
   "cell_type": "code",
   "execution_count": 10,
   "metadata": {},
   "outputs": [
    {
     "data": {
      "text/plain": [
       "(39, 23)"
      ]
     },
     "execution_count": 10,
     "metadata": {},
     "output_type": "execute_result"
    }
   ],
   "source": [
    "# Check the number of observations per year\n",
    "#df_inspection_2017.shape # (18035, 23)\n",
    "#df_inspection_2016.shape # (19880, 23)\n",
    "#df_inspection_2015.shape # (21582, 23)\n",
    "#df_inspection_2014.shape # (20061, 23)\n",
    "#df_inspection_2013.shape # (68681, 23)\n",
    "df_inspection_2012.shape # (39, 23)"
   ]
  },
  {
   "cell_type": "code",
   "execution_count": 11,
   "metadata": {},
   "outputs": [],
   "source": [
    "# Combine all the inspection throughtout the year\n",
    "df_inspection_2017vr2 = df_inspection_2017.groupby('Address').agg(lambda x: x.tolist()) \n",
    "df_inspection_2016vr2 = df_inspection_2016.groupby('Address').agg(lambda x: x.tolist()) \n",
    "df_inspection_2015vr2 = df_inspection_2015.groupby('Address').agg(lambda x: x.tolist()) \n",
    "df_inspection_2014vr2 = df_inspection_2014.groupby('Address').agg(lambda x: x.tolist()) \n",
    "df_inspection_2013vr2 = df_inspection_2013.groupby('Address').agg(lambda x: x.tolist()) "
   ]
  },
  {
   "cell_type": "code",
   "execution_count": 12,
   "metadata": {},
   "outputs": [],
   "source": [
    "# Find mode for each \n",
    "df_inspection_2017vr2['mode'] = df_inspection_2017vr2['Inspection Grade'].apply(find_mode)\n",
    "df_inspection_2016vr2['mode'] = df_inspection_2016vr2['Inspection Grade'].apply(find_mode)\n",
    "df_inspection_2015vr2['mode'] = df_inspection_2015vr2['Inspection Grade'].apply(find_mode)\n",
    "df_inspection_2014vr2['mode'] = df_inspection_2014vr2['Inspection Grade'].apply(find_mode)\n",
    "df_inspection_2013vr2['mode'] = df_inspection_2013vr2['Inspection Grade'].apply(find_mode)"
   ]
  },
  {
   "cell_type": "code",
   "execution_count": 13,
   "metadata": {},
   "outputs": [
    {
     "data": {
      "text/plain": [
       "Index(['Serial Number', 'Permit Number', 'Restaurant Name', 'Location Name',\n",
       "       'Category Name', 'City', 'State', 'Zip', 'Current Demerits',\n",
       "       'Current Grade', 'Date Current', 'Inspection Date', 'Inspection Time',\n",
       "       'Employee ID', 'Inspection Type', 'Inspection Demerits',\n",
       "       'Inspection Grade', 'Permit Status', 'Inspection Result', 'Violations',\n",
       "       'Record Updated', 'Location 1', 'mode', 'address'],\n",
       "      dtype='object')"
      ]
     },
     "execution_count": 13,
     "metadata": {},
     "output_type": "execute_result"
    }
   ],
   "source": [
    "# Index is based on address, make it a column too\n",
    "df_inspection_2017vr2['address'] = df_inspection_2017vr2.index\n",
    "df_inspection_2016vr2['address'] = df_inspection_2016vr2.index\n",
    "df_inspection_2015vr2['address'] = df_inspection_2015vr2.index\n",
    "df_inspection_2014vr2['address'] = df_inspection_2014vr2.index\n",
    "df_inspection_2013vr2['address'] = df_inspection_2013vr2.index\n",
    "df_inspection_2017vr2.columns"
   ]
  },
  {
   "cell_type": "code",
   "execution_count": 14,
   "metadata": {},
   "outputs": [],
   "source": [
    "# Take a  subset of columns \n",
    "df_inspection_2017vr3 = df_inspection_2017vr2.loc[:, ['Restaurant Name', 'mode', 'address']]\n",
    "df_inspection_2016vr3 = df_inspection_2016vr2.loc[:, ['Restaurant Name', 'mode', 'address']]\n",
    "df_inspection_2015vr3 = df_inspection_2015vr2.loc[:, ['Restaurant Name', 'mode', 'address']]\n",
    "df_inspection_2014vr3 = df_inspection_2014vr2.loc[:, ['Restaurant Name', 'mode', 'address']]\n",
    "df_inspection_2013vr3 = df_inspection_2013vr2.loc[:, ['Restaurant Name', 'mode', 'address']]\n",
    "\n",
    "# \"Restaurant Name\" is a list, pick one name (the list presumably is made of the same name)\n",
    "df_inspection_2017vr3['Restaurant Name'] = df_inspection_2017vr3['Restaurant Name'].apply(pick_one)\n",
    "df_inspection_2016vr3['Restaurant Name'] = df_inspection_2016vr3['Restaurant Name'].apply(pick_one)\n",
    "df_inspection_2015vr3['Restaurant Name'] = df_inspection_2015vr3['Restaurant Name'].apply(pick_one)\n",
    "df_inspection_2014vr3['Restaurant Name'] = df_inspection_2014vr3['Restaurant Name'].apply(pick_one)\n",
    "df_inspection_2013vr3['Restaurant Name'] = df_inspection_2013vr3['Restaurant Name'].apply(pick_one)"
   ]
  },
  {
   "cell_type": "code",
   "execution_count": 15,
   "metadata": {},
   "outputs": [
    {
     "data": {
      "text/html": [
       "<div>\n",
       "<style scoped>\n",
       "    .dataframe tbody tr th:only-of-type {\n",
       "        vertical-align: middle;\n",
       "    }\n",
       "\n",
       "    .dataframe tbody tr th {\n",
       "        vertical-align: top;\n",
       "    }\n",
       "\n",
       "    .dataframe thead th {\n",
       "        text-align: right;\n",
       "    }\n",
       "</style>\n",
       "<table border=\"1\" class=\"dataframe\">\n",
       "  <thead>\n",
       "    <tr style=\"text-align: right;\">\n",
       "      <th></th>\n",
       "      <th>Restaurant Name</th>\n",
       "      <th>mode</th>\n",
       "      <th>address</th>\n",
       "    </tr>\n",
       "    <tr>\n",
       "      <th>Address</th>\n",
       "      <th></th>\n",
       "      <th></th>\n",
       "      <th></th>\n",
       "    </tr>\n",
       "  </thead>\n",
       "  <tbody>\n",
       "    <tr>\n",
       "      <td>#1 Main St</td>\n",
       "      <td>Gold Strike Service Bar - Stage</td>\n",
       "      <td>A</td>\n",
       "      <td>#1 Main St</td>\n",
       "    </tr>\n",
       "    <tr>\n",
       "      <td>1 Bonnie Springs Rd</td>\n",
       "      <td>Bonnie Springs Ranch Restaurant</td>\n",
       "      <td>A</td>\n",
       "      <td>1 Bonnie Springs Rd</td>\n",
       "    </tr>\n",
       "    <tr>\n",
       "      <td>1 Cascata Way</td>\n",
       "      <td>Cascata Golf Club Restaurant</td>\n",
       "      <td>A</td>\n",
       "      <td>1 Cascata Way</td>\n",
       "    </tr>\n",
       "    <tr>\n",
       "      <td>1 Club Side Dr</td>\n",
       "      <td>Anthem Country Club Clubhouse Bar</td>\n",
       "      <td>A</td>\n",
       "      <td>1 Club Side Dr</td>\n",
       "    </tr>\n",
       "    <tr>\n",
       "      <td>1 Clubhouse Dr</td>\n",
       "      <td>Tony's Pro Shop 15th Snack Shack</td>\n",
       "      <td>A</td>\n",
       "      <td>1 Clubhouse Dr</td>\n",
       "    </tr>\n",
       "  </tbody>\n",
       "</table>\n",
       "</div>"
      ],
      "text/plain": [
       "                                       Restaurant Name mode  \\\n",
       "Address                                                       \n",
       "#1 Main St             Gold Strike Service Bar - Stage    A   \n",
       "1 Bonnie Springs Rd    Bonnie Springs Ranch Restaurant    A   \n",
       "1 Cascata Way             Cascata Golf Club Restaurant    A   \n",
       "1 Club Side Dr       Anthem Country Club Clubhouse Bar    A   \n",
       "1 Clubhouse Dr        Tony's Pro Shop 15th Snack Shack    A   \n",
       "\n",
       "                                 address  \n",
       "Address                                   \n",
       "#1 Main St                    #1 Main St  \n",
       "1 Bonnie Springs Rd  1 Bonnie Springs Rd  \n",
       "1 Cascata Way              1 Cascata Way  \n",
       "1 Club Side Dr            1 Club Side Dr  \n",
       "1 Clubhouse Dr            1 Clubhouse Dr  "
      ]
     },
     "execution_count": 15,
     "metadata": {},
     "output_type": "execute_result"
    }
   ],
   "source": [
    "df_inspection_2017vr3.head()"
   ]
  },
  {
   "cell_type": "code",
   "execution_count": 16,
   "metadata": {},
   "outputs": [
    {
     "data": {
      "text/html": [
       "<div>\n",
       "<style scoped>\n",
       "    .dataframe tbody tr th:only-of-type {\n",
       "        vertical-align: middle;\n",
       "    }\n",
       "\n",
       "    .dataframe tbody tr th {\n",
       "        vertical-align: top;\n",
       "    }\n",
       "\n",
       "    .dataframe thead th {\n",
       "        text-align: right;\n",
       "    }\n",
       "</style>\n",
       "<table border=\"1\" class=\"dataframe\">\n",
       "  <thead>\n",
       "    <tr style=\"text-align: right;\">\n",
       "      <th></th>\n",
       "      <th>name</th>\n",
       "      <th>2017</th>\n",
       "      <th>address</th>\n",
       "      <th>2016</th>\n",
       "      <th>2015</th>\n",
       "      <th>2014</th>\n",
       "      <th>2013</th>\n",
       "    </tr>\n",
       "  </thead>\n",
       "  <tbody>\n",
       "    <tr>\n",
       "      <td>0</td>\n",
       "      <td>Gold Strike Service Bar - Stage</td>\n",
       "      <td>A</td>\n",
       "      <td>#1 Main St</td>\n",
       "      <td>A</td>\n",
       "      <td>A</td>\n",
       "      <td>A</td>\n",
       "      <td>A</td>\n",
       "    </tr>\n",
       "    <tr>\n",
       "      <td>1</td>\n",
       "      <td>Bonnie Springs Ranch Restaurant</td>\n",
       "      <td>A</td>\n",
       "      <td>1 Bonnie Springs Rd</td>\n",
       "      <td>A</td>\n",
       "      <td>A</td>\n",
       "      <td>A</td>\n",
       "      <td>A</td>\n",
       "    </tr>\n",
       "    <tr>\n",
       "      <td>2</td>\n",
       "      <td>Cascata Golf Club Restaurant</td>\n",
       "      <td>A</td>\n",
       "      <td>1 Cascata Way</td>\n",
       "      <td>A</td>\n",
       "      <td>A</td>\n",
       "      <td>A</td>\n",
       "      <td>A</td>\n",
       "    </tr>\n",
       "    <tr>\n",
       "      <td>3</td>\n",
       "      <td>Anthem Country Club Clubhouse Bar</td>\n",
       "      <td>A</td>\n",
       "      <td>1 Club Side Dr</td>\n",
       "      <td>A</td>\n",
       "      <td>A</td>\n",
       "      <td>A</td>\n",
       "      <td>A</td>\n",
       "    </tr>\n",
       "    <tr>\n",
       "      <td>4</td>\n",
       "      <td>Tony's Pro Shop 15th Snack Shack</td>\n",
       "      <td>A</td>\n",
       "      <td>1 Clubhouse Dr</td>\n",
       "      <td>A</td>\n",
       "      <td>A</td>\n",
       "      <td>A</td>\n",
       "      <td>A</td>\n",
       "    </tr>\n",
       "  </tbody>\n",
       "</table>\n",
       "</div>"
      ],
      "text/plain": [
       "                                name 2017              address 2016 2015 2014  \\\n",
       "0    Gold Strike Service Bar - Stage    A           #1 Main St    A    A    A   \n",
       "1    Bonnie Springs Ranch Restaurant    A  1 Bonnie Springs Rd    A    A    A   \n",
       "2       Cascata Golf Club Restaurant    A        1 Cascata Way    A    A    A   \n",
       "3  Anthem Country Club Clubhouse Bar    A       1 Club Side Dr    A    A    A   \n",
       "4   Tony's Pro Shop 15th Snack Shack    A       1 Clubhouse Dr    A    A    A   \n",
       "\n",
       "  2013  \n",
       "0    A  \n",
       "1    A  \n",
       "2    A  \n",
       "3    A  \n",
       "4    A  "
      ]
     },
     "execution_count": 16,
     "metadata": {},
     "output_type": "execute_result"
    }
   ],
   "source": [
    "# Merge inspection from each year\n",
    "df_inspection_year = pd.merge(df_inspection_2017vr3, df_inspection_2016vr3, on = 'address')\n",
    "\n",
    "df_inspection_year = df_inspection_year.drop(columns=['Restaurant Name_y'])\n",
    "df_inspection_year = df_inspection_year.rename(columns={\"Restaurant Name_x\": \"name\", \"mode_x\": \"2017\", \n",
    "                                                        \"mode_y\": \"2016\"})\n",
    "df_inspection_year_2 = pd.merge(df_inspection_year, df_inspection_2015vr3, on = 'address')\n",
    "\n",
    "df_inspection_year_2 = df_inspection_year_2.drop(columns=['Restaurant Name'])\n",
    "df_inspection_year_2 = df_inspection_year_2.rename(columns={\"mode\": \"2015\"})\n",
    "\n",
    "df_inspection_year_3 = pd.merge(df_inspection_year_2, df_inspection_2014vr3, on = 'address')\n",
    "df_inspection_year_3 = df_inspection_year_3.drop(columns=['Restaurant Name'])\n",
    "df_inspection_year_3 = df_inspection_year_3.rename(columns={\"mode\": \"2014\"})\n",
    "\n",
    "df_inspection_year_4 = pd.merge(df_inspection_year_3, df_inspection_2013vr3, on = 'address')\n",
    "df_inspection_year_4 = df_inspection_year_4.drop(columns=['Restaurant Name'])\n",
    "df_inspection_year_4 = df_inspection_year_4.rename(columns={\"mode\": \"2013\"})\n",
    "df_inspection_year_4.head()"
   ]
  },
  {
   "cell_type": "code",
   "execution_count": 17,
   "metadata": {},
   "outputs": [
    {
     "data": {
      "text/plain": [
       "Index(['business_id', 'compliment_count', 'date', 'user_id', 'text',\n",
       "       'text_all', 'tips_count', 'text_clean', 'name', 'stars', 'review_count',\n",
       "       'categories', 'attributes.RestaurantsPriceRange2', 'address'],\n",
       "      dtype='object')"
      ]
     },
     "execution_count": 17,
     "metadata": {},
     "output_type": "execute_result"
    }
   ],
   "source": [
    "# Join business dataset with df_tip2\n",
    "df_customer = pd.merge(df_tip2, df_business3, on = 'business_id')\n",
    "df_customer.columns"
   ]
  },
  {
   "cell_type": "code",
   "execution_count": 19,
   "metadata": {},
   "outputs": [],
   "source": [
    "# Join df_customer with df_inspection_year_4\n",
    "df_inspection_year_4['name'] = df_inspection_year_4['name'].str.lower()\n",
    "df_customer['name'] = df_customer['name'].str.lower()\n",
    "df_all = pd.merge(df_inspection_year_4, df_customer, on = 'name')"
   ]
  },
  {
   "cell_type": "code",
   "execution_count": 22,
   "metadata": {},
   "outputs": [
    {
     "data": {
      "text/plain": [
       "(4217, 20)"
      ]
     },
     "execution_count": 22,
     "metadata": {},
     "output_type": "execute_result"
    }
   ],
   "source": [
    "# Number of observations\n",
    "df_all.dropna()\n",
    "df_all.shape  "
   ]
  },
  {
   "cell_type": "code",
   "execution_count": 23,
   "metadata": {},
   "outputs": [
    {
     "data": {
      "text/plain": [
       "Index(['name', '2017', 'address_x', '2016', '2015', '2014', '2013',\n",
       "       'business_id', 'compliment_count', 'date', 'user_id', 'text',\n",
       "       'text_all', 'tips_count', 'text_clean', 'stars', 'review_count',\n",
       "       'categories', 'attributes.RestaurantsPriceRange2', 'address_y'],\n",
       "      dtype='object')"
      ]
     },
     "execution_count": 23,
     "metadata": {},
     "output_type": "execute_result"
    }
   ],
   "source": [
    "df_all.columns"
   ]
  },
  {
   "cell_type": "code",
   "execution_count": 24,
   "metadata": {},
   "outputs": [
    {
     "name": "stdout",
     "output_type": "stream",
     "text": [
      "<class 'pandas.core.frame.DataFrame'>\n",
      "Int64Index: 4217 entries, 0 to 4216\n",
      "Data columns (total 20 columns):\n",
      "name                                 4217 non-null object\n",
      "2017                                 4217 non-null object\n",
      "address_x                            4217 non-null object\n",
      "2016                                 4217 non-null object\n",
      "2015                                 4081 non-null object\n",
      "2014                                 4211 non-null object\n",
      "2013                                 4216 non-null object\n",
      "business_id                          4217 non-null object\n",
      "compliment_count                     4217 non-null object\n",
      "date                                 4217 non-null object\n",
      "user_id                              4217 non-null object\n",
      "text                                 4217 non-null object\n",
      "text_all                             4217 non-null object\n",
      "tips_count                           4217 non-null int64\n",
      "text_clean                           4217 non-null object\n",
      "stars                                4217 non-null float64\n",
      "review_count                         4217 non-null int64\n",
      "categories                           4217 non-null object\n",
      "attributes.RestaurantsPriceRange2    4217 non-null object\n",
      "address_y                            4217 non-null object\n",
      "dtypes: float64(1), int64(2), object(17)\n",
      "memory usage: 691.9+ KB\n"
     ]
    }
   ],
   "source": [
    "df_all.info()"
   ]
  },
  {
   "cell_type": "code",
   "execution_count": 25,
   "metadata": {},
   "outputs": [
    {
     "data": {
      "text/html": [
       "<div>\n",
       "<style scoped>\n",
       "    .dataframe tbody tr th:only-of-type {\n",
       "        vertical-align: middle;\n",
       "    }\n",
       "\n",
       "    .dataframe tbody tr th {\n",
       "        vertical-align: top;\n",
       "    }\n",
       "\n",
       "    .dataframe thead th {\n",
       "        text-align: right;\n",
       "    }\n",
       "</style>\n",
       "<table border=\"1\" class=\"dataframe\">\n",
       "  <thead>\n",
       "    <tr style=\"text-align: right;\">\n",
       "      <th></th>\n",
       "      <th>text_clean</th>\n",
       "    </tr>\n",
       "  </thead>\n",
       "  <tbody>\n",
       "    <tr>\n",
       "      <td>0</td>\n",
       "      <td>[illness, nausea, vomit, vomitting, diarrhea, ...</td>\n",
       "    </tr>\n",
       "  </tbody>\n",
       "</table>\n",
       "</div>"
      ],
      "text/plain": [
       "                                          text_clean\n",
       "0  [illness, nausea, vomit, vomitting, diarrhea, ..."
      ]
     },
     "execution_count": 25,
     "metadata": {},
     "output_type": "execute_result"
    }
   ],
   "source": [
    "# List of health/food saety terms\n",
    "negative_words = pd.read_csv('/Users/kristenboyle/Documents/food_project/negative_words.csv', header = None)\n",
    "negative_words_list = negative_words.iloc[:, 0].tolist()\n",
    "#negative_words_list[0:5]\n",
    "df_negative = pd.DataFrame({'text_clean': [negative_words_list]})\n",
    "df_negative"
   ]
  },
  {
   "cell_type": "code",
   "execution_count": 26,
   "metadata": {},
   "outputs": [],
   "source": [
    "# check if the text_clean column has any of the negative words\n",
    "def word_finder(x):\n",
    "    result = [elem for elem in negative_words_list if(elem in x)]\n",
    "    return result\n",
    "\n",
    "df_all['negative_word'] = df_all['text_clean'].apply(word_finder)"
   ]
  },
  {
   "cell_type": "code",
   "execution_count": 27,
   "metadata": {},
   "outputs": [
    {
     "data": {
      "text/plain": [
       "4212    [fever, spider, gross, disgusting]\n",
       "4213                            [horrible]\n",
       "4214                                    []\n",
       "4215                            [inedible]\n",
       "4216                                    []\n",
       "Name: negative_word, dtype: object"
      ]
     },
     "execution_count": 27,
     "metadata": {},
     "output_type": "execute_result"
    }
   ],
   "source": [
    "df_all['negative_word'].tail()"
   ]
  },
  {
   "cell_type": "code",
   "execution_count": 28,
   "metadata": {},
   "outputs": [
    {
     "data": {
      "text/html": [
       "<div>\n",
       "<style scoped>\n",
       "    .dataframe tbody tr th:only-of-type {\n",
       "        vertical-align: middle;\n",
       "    }\n",
       "\n",
       "    .dataframe tbody tr th {\n",
       "        vertical-align: top;\n",
       "    }\n",
       "\n",
       "    .dataframe thead th {\n",
       "        text-align: right;\n",
       "    }\n",
       "</style>\n",
       "<table border=\"1\" class=\"dataframe\">\n",
       "  <thead>\n",
       "    <tr style=\"text-align: right;\">\n",
       "      <th></th>\n",
       "      <th>negative_word</th>\n",
       "      <th>negative_freq</th>\n",
       "    </tr>\n",
       "  </thead>\n",
       "  <tbody>\n",
       "    <tr>\n",
       "      <td>0</td>\n",
       "      <td>[]</td>\n",
       "      <td>0</td>\n",
       "    </tr>\n",
       "    <tr>\n",
       "      <td>1</td>\n",
       "      <td>[gross, sick]</td>\n",
       "      <td>2</td>\n",
       "    </tr>\n",
       "    <tr>\n",
       "      <td>2</td>\n",
       "      <td>[roaches, disgusting]</td>\n",
       "      <td>2</td>\n",
       "    </tr>\n",
       "    <tr>\n",
       "      <td>3</td>\n",
       "      <td>[bathroom, toilet, horrible]</td>\n",
       "      <td>3</td>\n",
       "    </tr>\n",
       "    <tr>\n",
       "      <td>4</td>\n",
       "      <td>[]</td>\n",
       "      <td>0</td>\n",
       "    </tr>\n",
       "  </tbody>\n",
       "</table>\n",
       "</div>"
      ],
      "text/plain": [
       "                  negative_word  negative_freq\n",
       "0                            []              0\n",
       "1                 [gross, sick]              2\n",
       "2         [roaches, disgusting]              2\n",
       "3  [bathroom, toilet, horrible]              3\n",
       "4                            []              0"
      ]
     },
     "execution_count": 28,
     "metadata": {},
     "output_type": "execute_result"
    }
   ],
   "source": [
    "# Find the number of negative words based on the length of each row from 'negative_word' using freq_function\n",
    "df_all['negative_freq'] = df_all['negative_word'].apply(freq_finder)\n",
    "df_all.loc[:, ['negative_word', 'negative_freq']].head()"
   ]
  },
  {
   "cell_type": "code",
   "execution_count": 29,
   "metadata": {},
   "outputs": [
    {
     "data": {
      "text/plain": [
       "A    3933\n",
       "B     220\n",
       "C      54\n",
       "X      10\n",
       "Name: 2017, dtype: int64"
      ]
     },
     "execution_count": 29,
     "metadata": {},
     "output_type": "execute_result"
    }
   ],
   "source": [
    "df_all[\"2017\"].value_counts() # ~90% of the observations belong to label A"
   ]
  },
  {
   "cell_type": "code",
   "execution_count": 30,
   "metadata": {},
   "outputs": [
    {
     "data": {
      "text/plain": [
       "0    3933\n",
       "1     284\n",
       "Name: 2017_code, dtype: int64"
      ]
     },
     "execution_count": 30,
     "metadata": {},
     "output_type": "execute_result"
    }
   ],
   "source": [
    "# Enode 2017 and other years into: 0 for A (0- 10 violations); 1 for B (11-20), C (> 20) and X (closed) using label_to_numeric function  \n",
    "df_all['2017_code'] = df_all['2017'].apply(label_to_numeric)\n",
    "df_all['2016_code'] = df_all['2016'].apply(label_to_numeric)\n",
    "df_all['2015_code'] = df_all['2015'].apply(label_to_numeric)\n",
    "df_all['2014_code'] = df_all['2014'].apply(label_to_numeric)\n",
    "df_all['2013_code'] = df_all['2013'].apply(label_to_numeric)\n",
    "df_all['2017_code'].value_counts()"
   ]
  },
  {
   "cell_type": "code",
   "execution_count": 31,
   "metadata": {},
   "outputs": [
    {
     "data": {
      "text/plain": [
       "Index(['name', '2017', 'address_x', '2016', '2015', '2014', '2013',\n",
       "       'business_id', 'compliment_count', 'date', 'user_id', 'text',\n",
       "       'text_all', 'tips_count', 'text_clean', 'stars', 'review_count',\n",
       "       'categories', 'attributes.RestaurantsPriceRange2', 'address_y',\n",
       "       'negative_word', 'negative_freq', '2017_code', '2016_code', '2015_code',\n",
       "       '2014_code', '2013_code', 'aggregate_grade'],\n",
       "      dtype='object')"
      ]
     },
     "execution_count": 31,
     "metadata": {},
     "output_type": "execute_result"
    }
   ],
   "source": [
    "# Aggregate the number of inspection grade (2013-2016) prior to 2017: \n",
    "df_all['aggregate_grade'] = df_all['2013_code'] + df_all['2014_code'] + df_all['2015_code'] + df_all['2016_code']\n",
    "#df_all.value_counts()\n",
    "df_all.columns"
   ]
  },
  {
   "cell_type": "code",
   "execution_count": 35,
   "metadata": {},
   "outputs": [
    {
     "data": {
      "text/plain": [
       "(541, 29)"
      ]
     },
     "execution_count": 35,
     "metadata": {},
     "output_type": "execute_result"
    }
   ],
   "source": [
    "# Label 2017 grades into good (A) and bad (B, C, X) to be more descriptive in the EDA\n",
    "df_all['2017_good_bad'] = df_all['2017'].apply(label_to_label)\n",
    "\n",
    "######### Remove any duplicate row based on address\n",
    "df_all = df_all.drop_duplicates(subset = 'address_x')\n",
    "df_all.shape"
   ]
  },
  {
   "cell_type": "code",
   "execution_count": 37,
   "metadata": {},
   "outputs": [
    {
     "data": {
      "image/png": "[encoded data removed]",
      "text/plain": [
       "<Figure size 216x432 with 1 Axes>"
      ]
     },
     "metadata": {
      "needs_background": "light"
     },
     "output_type": "display_data"
    }
   ],
   "source": [
    "# EDA\n",
    "# Plot star ratings vs. insepction grade in 2017\n",
    "fig_star, ax_star = plt.subplots(figsize = (3,6))\n",
    "ax_star = sns.barplot(x = df_all['2017_good_bad'], y = df_all['stars'], color = 'cyan')\n",
    "ax_star.tick_params(axis=\"x\", labelsize = 18)\n",
    "ax_star.tick_params(axis=\"y\", labelsize = 18)\n",
    "ax_star.set_xlabel('Inspection grade', fontsize = 20, fontweight = 'bold')\n",
    "ax_star.set_ylabel('Star', fontsize = 20, fontweight = 'bold')\n",
    "ax_star.set_ylim(1, 5) # Min = 1, max = 5\n",
    "ax_star.spines['right'].set_visible(False) \n",
    "ax_star.spines['top'].set_visible(False)\n",
    "plt.savefig('/Users/kristenboyle/Documents/food_project/pictures/star_grade.png')"
   ]
  },
  {
   "cell_type": "code",
   "execution_count": 85,
   "metadata": {},
   "outputs": [
    {
     "data": {
      "image/png": "[encoded data removed]",
      "text/plain": [
       "<Figure size 216x432 with 1 Axes>"
      ]
     },
     "metadata": {
      "needs_background": "light"
     },
     "output_type": "display_data"
    }
   ],
   "source": [
    "# EDA\n",
    "# Plot frequency of negative words vs. insepction grade in 2017\n",
    "fig_freq, ax_freq = plt.subplots(figsize = (3,6))\n",
    "ax_freq = sns.barplot(x = df_all['2017_good_bad'], y = df_all['negative_freq'], color = 'orange')\n",
    "ax_freq.tick_params(axis=\"x\", labelsize = 18)\n",
    "ax_freq.tick_params(axis=\"y\", labelsize = 18)\n",
    "ax_freq.set_xlabel('Inspection grade', fontsize = 20, fontweight = 'bold')\n",
    "ax_freq.set_ylabel('Frequency of negative words', fontsize = 20, fontweight = 'bold')\n",
    "ax_freq.set_ylim(0, 2)\n",
    "ax_freq.spines['right'].set_visible(False) \n",
    "ax_freq.spines['top'].set_visible(False)\n",
    "plt.savefig('/Users/kristenboyle/Documents/food_project/pictures/freq_of_negative_words_vs_grade.png')"
   ]
  },
  {
   "cell_type": "code",
   "execution_count": 87,
   "metadata": {},
   "outputs": [
    {
     "data": {
      "image/png": "[encoded data removed]",
      "text/plain": [
       "<Figure size 216x432 with 1 Axes>"
      ]
     },
     "metadata": {
      "needs_background": "light"
     },
     "output_type": "display_data"
    }
   ],
   "source": [
    "# EDA\n",
    "# Plot review_count vs. insepction grade in 2017\n",
    "fig_count, ax_count = plt.subplots(figsize = (3,6))\n",
    "ax_count = sns.barplot(x = df_all['2017_good_bad'], y = df_all['review_count'])\n",
    "ax_count.tick_params(axis=\"x\", labelsize = 18)\n",
    "ax_count.tick_params(axis=\"y\", labelsize = 18)\n",
    "ax_count.set_xlabel('Inspection grade', fontsize = 20, fontweight = 'bold')\n",
    "ax_count.set_ylabel('Review count', fontsize = 20, fontweight = 'bold')\n",
    "#ax_count.set_ylim(0, 140) \n",
    "ax_count.spines['right'].set_visible(False) \n",
    "ax_count.spines['top'].set_visible(False)\n",
    "plt.savefig('/Users/kristenboyle/Documents/food_project/pictures/review_count_vs_grade.png')"
   ]
  },
  {
   "cell_type": "code",
   "execution_count": 84,
   "metadata": {},
   "outputs": [
    {
     "data": {
      "image/png": "[encoded data removed]",
      "text/plain": [
       "<Figure size 216x432 with 1 Axes>"
      ]
     },
     "metadata": {
      "needs_background": "light"
     },
     "output_type": "display_data"
    }
   ],
   "source": [
    "# EDA\n",
    "# Plot aggregate_grade vs. insepction grade in 2017\n",
    "fig_aggregate, ax_aggregate = plt.subplots(figsize = (3,6))\n",
    "ax_aggregate = sns.barplot(x = df_all['2017_good_bad'], y = df_all['aggregate_grade'])\n",
    "ax_aggregate.tick_params(axis=\"x\", labelsize = 18)\n",
    "ax_aggregate.tick_params(axis=\"y\", labelsize = 18)\n",
    "ax_aggregate.set_xlabel('Inspection grade', fontsize = 20, fontweight = 'bold')\n",
    "ax_aggregate.set_ylabel('Aggregate grade before 2017', fontsize = 20, fontweight = 'bold')\n",
    "ax_aggregate.set_ylim(0, 1)\n",
    "ax_aggregate.spines['right'].set_visible(False) \n",
    "ax_aggregate.spines['top'].set_visible(False)\n",
    "plt.savefig('/Users/kristenboyle/Documents/food_project/pictures/aggreagte_grade_vs_grade.png')"
   ]
  },
  {
   "cell_type": "code",
   "execution_count": 47,
   "metadata": {},
   "outputs": [
    {
     "data": {
      "text/plain": [
       "0    336\n",
       "1    205\n",
       "Name: price, dtype: int64"
      ]
     },
     "execution_count": 47,
     "metadata": {},
     "output_type": "execute_result"
    }
   ],
   "source": [
    "# List of potential input features: \"fast_food\", \"tips_count\", \"attributes.RestaurantsPriceRange2\"\n",
    "\n",
    "def find_fast_food(x): # Find if the restaurant category has \"Fast Food\" in it\n",
    "\n",
    "    if 'Fast Food' in x:\n",
    "        y = 1 # yes\n",
    "    else: \n",
    "        y = 0 # no\n",
    "\n",
    "     #    y = np.nan\n",
    "    return y\n",
    "\n",
    "# Create a 'fast_food' column, yes (1) and no (1)\n",
    "df_all['fast_food'] = df_all['categories'].apply(find_fast_food)\n",
    "#df_all['fast_food'].value_counts() # 1 2262, 0 1780\n",
    "\n",
    "def find_price(x): # Find the dollar sign (1: $, 2: $$, 3: $$$, 4: $$$$)\n",
    "    if '1' in x: \n",
    "        y = 0 # cheap\n",
    "    else: \n",
    "        y = 1 # expensive\n",
    "    return y\n",
    "\n",
    "df_all['price'] =  df_all['attributes.RestaurantsPriceRange2'].apply(find_price)\n",
    "df_all['price'] =  df_all['price'].astype(int)\n",
    "df_all['price'].value_counts()"
   ]
  },
  {
   "cell_type": "code",
   "execution_count": 55,
   "metadata": {},
   "outputs": [],
   "source": [
    "# Create a dataframe for features/precitors and outcome variable\n",
    "df_model = df_all.loc[:, ['2017_code','aggregate_grade', 'review_count', 'stars', 'negative_freq', 'tips_count',\n",
    "                               'price', 'fast_food']]\n",
    "# Predictors\n",
    "df_X = df_model.loc[:, [ 'aggregate_grade', 'review_count', 'stars', 'negative_freq', 'tips_count',\n",
    "                               'price', 'fast_food']]\n",
    "X = df_X.values # df to np array\n",
    "# Outcome\n",
    "df_y = df_model.loc[:, '2017_code']\n",
    "y = df_y.values # df to np array\n",
    "# For variable that need to be coded\n",
    "#le = preprocessing.LabelEncoder()\n",
    "#le.fit(df_X['attributes.RestaurantsPriceRange2'])\n",
    "#df_X['attributes.RestaurantsPriceRange2'] = le.transform(df_X['attributes.RestaurantsPriceRange2'])"
   ]
  },
  {
   "cell_type": "code",
   "execution_count": 89,
   "metadata": {},
   "outputs": [
    {
     "name": "stderr",
     "output_type": "stream",
     "text": [
      "/Users/kristenboyle/anaconda3/envs/food_venv/lib/python3.7/site-packages/sklearn/linear_model/logistic.py:947: ConvergenceWarning: lbfgs failed to converge. Increase the number of iterations.\n",
      "  \"of iterations.\", ConvergenceWarning)\n"
     ]
    },
    {
     "data": {
      "text/plain": [
       "array([124,  12])"
      ]
     },
     "execution_count": 89,
     "metadata": {},
     "output_type": "execute_result"
    }
   ],
   "source": [
    "# Model development: Logistic regression\n",
    "X_train, X_test, y_train, y_test = train_test_split(X, y, test_size = 0.25, stratify = y, random_state = 27)\n",
    "\n",
    "model_log = LogisticRegression(C=1e5, solver='lbfgs').fit(X_train, y_train)\n",
    "\n",
    "y_pred = model_log.predict(X_test) # Predict the test set\n",
    "\n",
    "model_accuracy_logistic = 100 * accuracy_score(y_test, y_pred) # Mode accuracy: 89.02%\n",
    "model_accuracy_logistic # 89.5% belongs to label A/0/good\n",
    "\n",
    "#f1_score(y_test, y_pred)\n",
    "#np.unique(y_test)\n",
    "#np.bincount(y_test)"
   ]
  },
  {
   "cell_type": "code",
   "execution_count": 90,
   "metadata": {},
   "outputs": [
    {
     "name": "stderr",
     "output_type": "stream",
     "text": [
      "/Users/kristenboyle/anaconda3/envs/food_venv/lib/python3.7/site-packages/ipykernel_launcher.py:7: UserWarning: Boolean Series key will be reindexed to match DataFrame index.\n",
      "  import sys\n",
      "/Users/kristenboyle/anaconda3/envs/food_venv/lib/python3.7/site-packages/ipykernel_launcher.py:8: UserWarning: Boolean Series key will be reindexed to match DataFrame index.\n",
      "  \n"
     ]
    },
    {
     "data": {
      "text/plain": [
       "1    368\n",
       "0    368\n",
       "Name: 2017_code, dtype: int64"
      ]
     },
     "execution_count": 90,
     "metadata": {},
     "output_type": "execute_result"
    }
   ],
   "source": [
    "# Oversampling minority class\n",
    "X_train2, X_test2, y_train2, y_test2 = train_test_split(df_X, df_y, stratify = y, test_size = 0.25, random_state = 27)\n",
    "# Concatenate our training data back together\n",
    "X2 = pd.concat([X_train2, y_train2], axis=1)\n",
    "\n",
    "# Separate minority and majority classes\n",
    "good = X2[df_y == 0]\n",
    "bad = X2[df_y == 1]\n",
    "\n",
    "# upsample minority\n",
    "bad_upsampled = resample(bad, replace = True, # sample with replacement\n",
    "                         n_samples = len(good), # match number in majority class\n",
    "                         random_state = 27) # reproducible results\n",
    "\n",
    "# Combine majority and upsampled minority\n",
    "upsampled = pd.concat([good, bad_upsampled])\n",
    "upsampled['2017_code'].value_counts()"
   ]
  },
  {
   "cell_type": "code",
   "execution_count": 177,
   "metadata": {},
   "outputs": [
    {
     "data": {
      "text/plain": [
       "67.64705882352942"
      ]
     },
     "execution_count": 177,
     "metadata": {},
     "output_type": "execute_result"
    }
   ],
   "source": [
    "# Run the model on the upsample data\n",
    "model_log2 = LogisticRegression(C=1e5, solver='lbfgs').fit(upsampled.drop('2017_code', axis=1), \n",
    "                                                           upsampled['2017_code'])\n",
    "y_pred2 = model_log2.predict(X_test2) # Predict the test set\n",
    "\n",
    "model_accuracy_logistic2 = 100 * accuracy_score(y_test2, y_pred2) # Mode accuracy: 89.02%\n",
    "model_accuracy_logistic2 \n",
    "#f1_score(y_test2, y_pred2)\n",
    "# Save\n",
    "#with open('model_logistic.pickle', 'wb') as handle:\n",
    "#    pickle.dump(model_log2, handle, protocol=pickle.HIGHEST_PROTOCOL)\n",
    "    "
   ]
  },
  {
   "cell_type": "code",
   "execution_count": 175,
   "metadata": {},
   "outputs": [
    {
     "data": {
      "text/plain": [
       "76.47058823529412"
      ]
     },
     "execution_count": 175,
     "metadata": {},
     "output_type": "execute_result"
    }
   ],
   "source": [
    "# Try random forest\n",
    "model_rf = RandomForestClassifier(n_estimators = 100).fit(upsampled.drop('2017_code', axis=1), \n",
    "                                                           upsampled['2017_code'])\n",
    "y_pred_rf = model_rf.predict(X_test2)\n",
    "model_accuracy_rf = 100 * accuracy_score(y_test2, y_pred_rf)\n",
    "model_accuracy_rf\n",
    "#f1_score(y_test2, y_pred_rf)\n",
    "\n",
    "# Save\n",
    "#with open('model_random_forest.pickle', 'wb') as handle:\n",
    "#    pickle.dump(model_rf, handle, protocol=pickle.HIGHEST_PROTOCOL)\n",
    "    "
   ]
  },
  {
   "cell_type": "code",
   "execution_count": 176,
   "metadata": {},
   "outputs": [
    {
     "data": {
      "text/plain": [
       "56.61764705882353"
      ]
     },
     "execution_count": 176,
     "metadata": {},
     "output_type": "execute_result"
    }
   ],
   "source": [
    "# Try knn classifier\n",
    "model_knn = neighbors.KNeighborsClassifier(10).fit(upsampled.drop('2017_code', axis=1), \n",
    "                                                           upsampled['2017_code'])\n",
    "y_pred_knn = model_knn.predict(X_test)\n",
    "\n",
    "model_accuracy_knn = 100 * accuracy_score(y_test2, y_pred_knn)\n",
    "model_accuracy_knn\n",
    "#f1_score(y_test2, y_pred_knn)"
   ]
  },
  {
   "cell_type": "code",
   "execution_count": 189,
   "metadata": {},
   "outputs": [
    {
     "name": "stdout",
     "output_type": "stream",
     "text": [
      "('aggregate grade', 0.09860299296148459)\n",
      "('review count', 0.3128085143471753)\n",
      "('stars', 0.11521859142595747)\n",
      "('negative freq', 0.11148467884325476)\n",
      "('tips count', 0.28621189617881887)\n",
      "('price', 0.050653040881826476)\n",
      "('fast food', 0.025020285361482503)\n"
     ]
    },
    {
     "data": {
      "image/png": "[encoded data removed]",
      "text/plain": [
       "<Figure size 864x216 with 1 Axes>"
      ]
     },
     "metadata": {
      "needs_background": "light"
     },
     "output_type": "display_data"
    }
   ],
   "source": [
    "# Check the importance of predictors for the random forest model\n",
    "X_labels =  [ 'aggregate grade', 'review count', 'stars', 'negative freq', 'tips count', \n",
    "             'price', 'fast food']\n",
    "feat_importance_list = []\n",
    "for feature in zip(X_labels, model_rf.feature_importances_):\n",
    "    feat_importance_list.append(feature)\n",
    "    print(feature)\n",
    "df_feat_importance = pd.DataFrame(feat_importance_list)\n",
    "\n",
    "df_feat_importance\n",
    "df_feat_importance = df_feat_importance.sort_values(by=[1], ascending = False)\n",
    "# Plot feature importance\n",
    "fig_feature, ax_feature = plt.subplots(figsize = (12,3))\n",
    "ax_feature = sns.barplot(y = df_feat_importance.iloc[:,0], x = df_feat_importance.iloc[:,1],  color = 'grey', \n",
    "                         orient = 'h')\n",
    "ax_feature.tick_params(axis=\"x\", labelsize = 18)\n",
    "ax_feature.tick_params(axis=\"y\", labelsize = 18)\n",
    "ax_feature.set_xlabel('Relative feature importance', fontsize = 20, fontweight = 'bold')\n",
    "ax_feature.set_ylabel('Predictors', fontsize = 20, fontweight = 'bold')\n",
    "#plt.title('Predictors and their relative feature importance', fontsize = 20, fontweight = 'bold')\n",
    "ax_feature.set_xlim(0, 0.5) \n",
    "ax_feature.spines['right'].set_visible(False) \n",
    "ax_feature.spines['top'].set_visible(False)\n",
    "plt.savefig('/Users/kristenboyle/Documents/food_project/pictures/feature_importance_RF.png')"
   ]
  },
  {
   "cell_type": "code",
   "execution_count": 69,
   "metadata": {},
   "outputs": [
    {
     "data": {
      "text/plain": [
       "[('aggregate_grade', 0.10093823649806072),\n",
       " ('review_count', 0.30458372857327604),\n",
       " ('stars', 0.13724337645034076),\n",
       " ('negative_freq', 0.10181987841612795),\n",
       " ('tips_count', 0.26424967577974845),\n",
       " ('price', 0.06931485029391811),\n",
       " ('fast_food', 0.02185025398852797)]"
      ]
     },
     "execution_count": 69,
     "metadata": {},
     "output_type": "execute_result"
    }
   ],
   "source": [
    "# Check the importance of predictors for the logistic regression (2) model\n",
    "model_log2.coef_\n",
    "feat_importance_list"
   ]
  },
  {
   "cell_type": "code",
   "execution_count": 73,
   "metadata": {},
   "outputs": [
    {
     "data": {
      "text/html": [
       "<div>\n",
       "<style scoped>\n",
       "    .dataframe tbody tr th:only-of-type {\n",
       "        vertical-align: middle;\n",
       "    }\n",
       "\n",
       "    .dataframe tbody tr th {\n",
       "        vertical-align: top;\n",
       "    }\n",
       "\n",
       "    .dataframe thead th {\n",
       "        text-align: right;\n",
       "    }\n",
       "</style>\n",
       "<table border=\"1\" class=\"dataframe\">\n",
       "  <thead>\n",
       "    <tr style=\"text-align: right;\">\n",
       "      <th></th>\n",
       "      <th>aggregate_grade</th>\n",
       "      <th>review_count</th>\n",
       "      <th>stars</th>\n",
       "      <th>negative_freq</th>\n",
       "      <th>tips_count</th>\n",
       "      <th>price</th>\n",
       "      <th>fast_food</th>\n",
       "      <th>2017_code</th>\n",
       "    </tr>\n",
       "  </thead>\n",
       "  <tbody>\n",
       "    <tr>\n",
       "      <td>2670</td>\n",
       "      <td>0</td>\n",
       "      <td>28</td>\n",
       "      <td>4.0</td>\n",
       "      <td>2</td>\n",
       "      <td>5</td>\n",
       "      <td>0</td>\n",
       "      <td>0</td>\n",
       "      <td>1</td>\n",
       "    </tr>\n",
       "    <tr>\n",
       "      <td>2045</td>\n",
       "      <td>0</td>\n",
       "      <td>278</td>\n",
       "      <td>4.0</td>\n",
       "      <td>2</td>\n",
       "      <td>76</td>\n",
       "      <td>0</td>\n",
       "      <td>0</td>\n",
       "      <td>1</td>\n",
       "    </tr>\n",
       "    <tr>\n",
       "      <td>2670</td>\n",
       "      <td>0</td>\n",
       "      <td>28</td>\n",
       "      <td>4.0</td>\n",
       "      <td>2</td>\n",
       "      <td>5</td>\n",
       "      <td>0</td>\n",
       "      <td>0</td>\n",
       "      <td>1</td>\n",
       "    </tr>\n",
       "    <tr>\n",
       "      <td>4034</td>\n",
       "      <td>1</td>\n",
       "      <td>24</td>\n",
       "      <td>3.5</td>\n",
       "      <td>0</td>\n",
       "      <td>2</td>\n",
       "      <td>0</td>\n",
       "      <td>0</td>\n",
       "      <td>1</td>\n",
       "    </tr>\n",
       "    <tr>\n",
       "      <td>4044</td>\n",
       "      <td>0</td>\n",
       "      <td>7</td>\n",
       "      <td>3.0</td>\n",
       "      <td>1</td>\n",
       "      <td>7</td>\n",
       "      <td>0</td>\n",
       "      <td>0</td>\n",
       "      <td>1</td>\n",
       "    </tr>\n",
       "  </tbody>\n",
       "</table>\n",
       "</div>"
      ],
      "text/plain": [
       "      aggregate_grade  review_count  stars  negative_freq  tips_count  price  \\\n",
       "2670                0            28    4.0              2           5      0   \n",
       "2045                0           278    4.0              2          76      0   \n",
       "2670                0            28    4.0              2           5      0   \n",
       "4034                1            24    3.5              0           2      0   \n",
       "4044                0             7    3.0              1           7      0   \n",
       "\n",
       "      fast_food  2017_code  \n",
       "2670          0          1  \n",
       "2045          0          1  \n",
       "2670          0          1  \n",
       "4034          0          1  \n",
       "4044          0          1  "
      ]
     },
     "execution_count": 73,
     "metadata": {},
     "output_type": "execute_result"
    }
   ],
   "source": [
    "upsampled.tail()"
   ]
  },
  {
   "cell_type": "code",
   "execution_count": null,
   "metadata": {},
   "outputs": [],
   "source": []
  },
  {
   "cell_type": "code",
   "execution_count": null,
   "metadata": {},
   "outputs": [],
   "source": []
  },
  {
   "cell_type": "code",
   "execution_count": null,
   "metadata": {},
   "outputs": [],
   "source": []
  },
  {
   "cell_type": "code",
   "execution_count": null,
   "metadata": {},
   "outputs": [],
   "source": []
  },
  {
   "cell_type": "code",
   "execution_count": 96,
   "metadata": {},
   "outputs": [
    {
     "data": {
      "image/png": "[encoded data removed]",
      "text/plain": [
       "<Figure size 216x432 with 1 Axes>"
      ]
     },
     "metadata": {
      "needs_background": "light"
     },
     "output_type": "display_data"
    }
   ],
   "source": [
    "# EDA\n",
    "# Plot fast_food vs. insepction grade in 2017\n",
    "fig_fast, ax_fast = plt.subplots(figsize = (3,6))\n",
    "ax_fast = sns.barplot(x = df_all['2017_good_bad'], y = df_all['fast_food'])\n",
    "ax_fast.tick_params(axis=\"x\", labelsize = 18)\n",
    "ax_fast.tick_params(axis=\"y\", labelsize = 18)\n",
    "ax_fast.set_xlabel('Inspection grade', fontsize = 20, fontweight = 'bold')\n",
    "ax_fast.set_ylabel('Fast food', fontsize = 20, fontweight = 'bold')\n",
    "#ax_fast.set_ylim(0, 140) \n",
    "ax_fast.spines['right'].set_visible(False) \n",
    "ax_fast.spines['top'].set_visible(False)\n",
    "plt.savefig('/Users/kristenboyle/Documents/food_project/pictures/fast_food_vs_grade.png')"
   ]
  },
  {
   "cell_type": "code",
   "execution_count": 83,
   "metadata": {},
   "outputs": [
    {
     "data": {
      "image/png": "[encoded data removed]",
      "text/plain": [
       "<Figure size 216x432 with 1 Axes>"
      ]
     },
     "metadata": {
      "needs_background": "light"
     },
     "output_type": "display_data"
    }
   ],
   "source": [
    "# Plot price vs. insepction grade in 2017\n",
    "fig_price, ax_price = plt.subplots(figsize = (3,6))\n",
    "ax_price = sns.barplot(x = df_all['2017_good_bad'], y = df_all['price'])\n",
    "ax_price.tick_params(axis=\"x\", labelsize = 18)\n",
    "ax_price.tick_params(axis=\"y\", labelsize = 18)\n",
    "ax_price.set_xlabel('Inspection grade', fontsize = 20, fontweight = 'bold')\n",
    "ax_price.set_ylabel('Price', fontsize = 20, fontweight = 'bold')\n",
    "ax_price.set_ylim(0, 0.5) \n",
    "ax_price.spines['right'].set_visible(False) \n",
    "ax_price.spines['top'].set_visible(False)\n",
    "plt.savefig('/Users/kristenboyle/Documents/food_project/pictures/price_vs_grade.png')"
   ]
  },
  {
   "cell_type": "code",
   "execution_count": 97,
   "metadata": {},
   "outputs": [
    {
     "data": {
      "image/png": "[encoded data removed]",
      "text/plain": [
       "<Figure size 216x432 with 1 Axes>"
      ]
     },
     "metadata": {
      "needs_background": "light"
     },
     "output_type": "display_data"
    }
   ],
   "source": [
    "# Plot tips_count vs. insepction grade in 2017\n",
    "fig_tips_count, ax_price = plt.subplots(figsize = (3,6))\n",
    "ax_tips_count = sns.barplot(x = df_all['2017_good_bad'], y = df_all['tips_count'])\n",
    "ax_tips_count.tick_params(axis=\"x\", labelsize = 18)\n",
    "ax_tips_count.tick_params(axis=\"y\", labelsize = 18)\n",
    "ax_tips_count.set_xlabel('Inspection grade', fontsize = 20, fontweight = 'bold')\n",
    "ax_tips_count.set_ylabel('Number of tips', fontsize = 20, fontweight = 'bold')\n",
    "#ax_tips_count.set_ylim(0, 140) \n",
    "ax_tips_count.spines['right'].set_visible(False) \n",
    "ax_tips_count.spines['top'].set_visible(False)\n",
    "plt.savefig('/Users/kristenboyle/Documents/food_project/pictures/tips_count_vs_grade.png')"
   ]
  },
  {
   "cell_type": "code",
   "execution_count": null,
   "metadata": {},
   "outputs": [],
   "source": []
  },
  {
   "cell_type": "code",
   "execution_count": null,
   "metadata": {},
   "outputs": [],
   "source": []
  },
  {
   "cell_type": "code",
   "execution_count": null,
   "metadata": {},
   "outputs": [],
   "source": []
  },
  {
   "cell_type": "code",
   "execution_count": null,
   "metadata": {},
   "outputs": [],
   "source": [
    "\n"
   ]
  },
  {
   "cell_type": "code",
   "execution_count": null,
   "metadata": {},
   "outputs": [],
   "source": []
  },
  {
   "cell_type": "code",
   "execution_count": null,
   "metadata": {},
   "outputs": [],
   "source": []
  },
  {
   "cell_type": "code",
   "execution_count": 104,
   "metadata": {},
   "outputs": [],
   "source": [
    "#model_log_3 = LogisticRegression(C=1e5, solver='lbfgs').fit(upsampled_new.drop('2017_code', axis=1), \n",
    "#                                                           upsampled_new['2017_code'])\n",
    "#with open('model_log_3.pickle', 'wb') as handle:\n",
    "#    pickle.dump(model_log_3, handle, protocol=pickle.HIGHEST_PROTOCOL)\n",
    "    \n",
    "#y_pred_log_3 = model_log_3.predict(X_test_new)\n",
    "#f1_score(y_test_new, y_pred_log_3)\n",
    "#upsampled_new.head()\n",
    "#upsampled_new.shape"
   ]
  },
  {
   "cell_type": "code",
   "execution_count": 187,
   "metadata": {},
   "outputs": [
    {
     "data": {
      "text/html": [
       "<div>\n",
       "<style scoped>\n",
       "    .dataframe tbody tr th:only-of-type {\n",
       "        vertical-align: middle;\n",
       "    }\n",
       "\n",
       "    .dataframe tbody tr th {\n",
       "        vertical-align: top;\n",
       "    }\n",
       "\n",
       "    .dataframe thead th {\n",
       "        text-align: right;\n",
       "    }\n",
       "</style>\n",
       "<table border=\"1\" class=\"dataframe\">\n",
       "  <thead>\n",
       "    <tr style=\"text-align: right;\">\n",
       "      <th></th>\n",
       "      <th>aggregate_grade</th>\n",
       "      <th>review_count</th>\n",
       "      <th>stars</th>\n",
       "      <th>negative_freq</th>\n",
       "      <th>tips_count</th>\n",
       "      <th>price</th>\n",
       "      <th>fast_food</th>\n",
       "    </tr>\n",
       "    <tr>\n",
       "      <th>2017_code</th>\n",
       "      <th></th>\n",
       "      <th></th>\n",
       "      <th></th>\n",
       "      <th></th>\n",
       "      <th></th>\n",
       "      <th></th>\n",
       "      <th></th>\n",
       "    </tr>\n",
       "  </thead>\n",
       "  <tbody>\n",
       "    <tr>\n",
       "      <td>0</td>\n",
       "      <td>0.4</td>\n",
       "      <td>219.0</td>\n",
       "      <td>3.5</td>\n",
       "      <td>1.4</td>\n",
       "      <td>68.3</td>\n",
       "      <td>0.4</td>\n",
       "      <td>0.2</td>\n",
       "    </tr>\n",
       "    <tr>\n",
       "      <td>1</td>\n",
       "      <td>0.7</td>\n",
       "      <td>143.9</td>\n",
       "      <td>3.5</td>\n",
       "      <td>1.5</td>\n",
       "      <td>44.2</td>\n",
       "      <td>0.3</td>\n",
       "      <td>0.2</td>\n",
       "    </tr>\n",
       "  </tbody>\n",
       "</table>\n",
       "</div>"
      ],
      "text/plain": [
       "           aggregate_grade  review_count  stars  negative_freq  tips_count  \\\n",
       "2017_code                                                                    \n",
       "0                      0.4         219.0    3.5            1.4        68.3   \n",
       "1                      0.7         143.9    3.5            1.5        44.2   \n",
       "\n",
       "           price  fast_food  \n",
       "2017_code                    \n",
       "0            0.4        0.2  \n",
       "1            0.3        0.2  "
      ]
     },
     "execution_count": 187,
     "metadata": {},
     "output_type": "execute_result"
    }
   ],
   "source": [
    "# \n",
    "round(upsampled.groupby('2017_code').mean(), 1)"
   ]
  },
  {
   "cell_type": "code",
   "execution_count": null,
   "metadata": {},
   "outputs": [],
   "source": []
  },
  {
   "cell_type": "code",
   "execution_count": null,
   "metadata": {},
   "outputs": [],
   "source": []
  },
  {
   "cell_type": "code",
   "execution_count": null,
   "metadata": {},
   "outputs": [],
   "source": []
  },
  {
   "cell_type": "code",
   "execution_count": null,
   "metadata": {},
   "outputs": [],
   "source": []
  },
  {
   "cell_type": "code",
   "execution_count": 554,
   "metadata": {},
   "outputs": [
    {
     "name": "stdout",
     "output_type": "stream",
     "text": [
      "('aggregate grade', 0.6129122214898799)\n",
      "('review count', -0.002174262215187437)\n",
      "('stars', -0.029228833190043938)\n",
      "('word freq.', 0.0978502430514393)\n",
      "('tips count', 0.0060905355868951985)\n",
      "('price', -1.0453980299334715)\n",
      "('fast food', -0.5392390805441882)\n"
     ]
    },
    {
     "ename": "TypeError",
     "evalue": "'<' not supported between instances of 'str' and 'int'",
     "output_type": "error",
     "traceback": [
      "\u001b[0;31m---------------------------------------------------------------------------\u001b[0m",
      "\u001b[0;31mTypeError\u001b[0m                                 Traceback (most recent call last)",
      "\u001b[0;32m<ipython-input-554-78a09f3562f3>\u001b[0m in \u001b[0;36m<module>\u001b[0;34m\u001b[0m\n\u001b[1;32m     21\u001b[0m \u001b[0mdf_feat_importance_new\u001b[0m\u001b[0;34m\u001b[0m\u001b[0;34m\u001b[0m\u001b[0m\n\u001b[1;32m     22\u001b[0m \u001b[0mdf_feat_importance_new\u001b[0m \u001b[0;34m=\u001b[0m \u001b[0mdf_feat_importance_log3\u001b[0m\u001b[0;34m.\u001b[0m\u001b[0msort_values\u001b[0m\u001b[0;34m(\u001b[0m\u001b[0mby\u001b[0m\u001b[0;34m=\u001b[0m\u001b[0;34m[\u001b[0m\u001b[0;36m1\u001b[0m\u001b[0;34m]\u001b[0m\u001b[0;34m,\u001b[0m \u001b[0mascending\u001b[0m \u001b[0;34m=\u001b[0m \u001b[0;32mFalse\u001b[0m\u001b[0;34m)\u001b[0m\u001b[0;34m\u001b[0m\u001b[0;34m\u001b[0m\u001b[0m\n\u001b[0;32m---> 23\u001b[0;31m \u001b[0mdf_feat_importance_new\u001b[0m\u001b[0;34m.\u001b[0m\u001b[0miloc\u001b[0m\u001b[0;34m[\u001b[0m\u001b[0;34m:\u001b[0m\u001b[0;34m,\u001b[0m\u001b[0;36m2\u001b[0m\u001b[0;34m]\u001b[0m \u001b[0;34m=\u001b[0m  \u001b[0mdf_feat_importance_log3\u001b[0m\u001b[0;34m.\u001b[0m\u001b[0miloc\u001b[0m\u001b[0;34m[\u001b[0m\u001b[0;34m:\u001b[0m\u001b[0;34m,\u001b[0m\u001b[0;36m0\u001b[0m\u001b[0;34m]\u001b[0m\u001b[0;34m.\u001b[0m\u001b[0mapply\u001b[0m\u001b[0;34m(\u001b[0m\u001b[0mneg_pos\u001b[0m\u001b[0;34m)\u001b[0m\u001b[0;34m\u001b[0m\u001b[0;34m\u001b[0m\u001b[0m\n\u001b[0m\u001b[1;32m     24\u001b[0m \u001b[0;31m# Plot feature importance\u001b[0m\u001b[0;34m\u001b[0m\u001b[0;34m\u001b[0m\u001b[0;34m\u001b[0m\u001b[0m\n\u001b[1;32m     25\u001b[0m \u001b[0mfig_feature_new\u001b[0m\u001b[0;34m,\u001b[0m \u001b[0max_feature_new\u001b[0m \u001b[0;34m=\u001b[0m \u001b[0mplt\u001b[0m\u001b[0;34m.\u001b[0m\u001b[0msubplots\u001b[0m\u001b[0;34m(\u001b[0m\u001b[0mfigsize\u001b[0m \u001b[0;34m=\u001b[0m \u001b[0;34m(\u001b[0m\u001b[0;36m6\u001b[0m\u001b[0;34m,\u001b[0m\u001b[0;36m3\u001b[0m\u001b[0;34m)\u001b[0m\u001b[0;34m)\u001b[0m\u001b[0;34m\u001b[0m\u001b[0;34m\u001b[0m\u001b[0m\n",
      "\u001b[0;32m~/anaconda3/envs/food_venv/lib/python3.7/site-packages/pandas/core/series.py\u001b[0m in \u001b[0;36mapply\u001b[0;34m(self, func, convert_dtype, args, **kwds)\u001b[0m\n\u001b[1;32m   4040\u001b[0m             \u001b[0;32melse\u001b[0m\u001b[0;34m:\u001b[0m\u001b[0;34m\u001b[0m\u001b[0;34m\u001b[0m\u001b[0m\n\u001b[1;32m   4041\u001b[0m                 \u001b[0mvalues\u001b[0m \u001b[0;34m=\u001b[0m \u001b[0mself\u001b[0m\u001b[0;34m.\u001b[0m\u001b[0mastype\u001b[0m\u001b[0;34m(\u001b[0m\u001b[0mobject\u001b[0m\u001b[0;34m)\u001b[0m\u001b[0;34m.\u001b[0m\u001b[0mvalues\u001b[0m\u001b[0;34m\u001b[0m\u001b[0;34m\u001b[0m\u001b[0m\n\u001b[0;32m-> 4042\u001b[0;31m                 \u001b[0mmapped\u001b[0m \u001b[0;34m=\u001b[0m \u001b[0mlib\u001b[0m\u001b[0;34m.\u001b[0m\u001b[0mmap_infer\u001b[0m\u001b[0;34m(\u001b[0m\u001b[0mvalues\u001b[0m\u001b[0;34m,\u001b[0m \u001b[0mf\u001b[0m\u001b[0;34m,\u001b[0m \u001b[0mconvert\u001b[0m\u001b[0;34m=\u001b[0m\u001b[0mconvert_dtype\u001b[0m\u001b[0;34m)\u001b[0m\u001b[0;34m\u001b[0m\u001b[0;34m\u001b[0m\u001b[0m\n\u001b[0m\u001b[1;32m   4043\u001b[0m \u001b[0;34m\u001b[0m\u001b[0m\n\u001b[1;32m   4044\u001b[0m         \u001b[0;32mif\u001b[0m \u001b[0mlen\u001b[0m\u001b[0;34m(\u001b[0m\u001b[0mmapped\u001b[0m\u001b[0;34m)\u001b[0m \u001b[0;32mand\u001b[0m \u001b[0misinstance\u001b[0m\u001b[0;34m(\u001b[0m\u001b[0mmapped\u001b[0m\u001b[0;34m[\u001b[0m\u001b[0;36m0\u001b[0m\u001b[0;34m]\u001b[0m\u001b[0;34m,\u001b[0m \u001b[0mSeries\u001b[0m\u001b[0;34m)\u001b[0m\u001b[0;34m:\u001b[0m\u001b[0;34m\u001b[0m\u001b[0;34m\u001b[0m\u001b[0m\n",
      "\u001b[0;32mpandas/_libs/lib.pyx\u001b[0m in \u001b[0;36mpandas._libs.lib.map_infer\u001b[0;34m()\u001b[0m\n",
      "\u001b[0;32m<ipython-input-554-78a09f3562f3>\u001b[0m in \u001b[0;36mneg_pos\u001b[0;34m(x)\u001b[0m\n\u001b[1;32m     13\u001b[0m \u001b[0mdf_feat_importance_log3\u001b[0m \u001b[0;34m=\u001b[0m \u001b[0mpd\u001b[0m\u001b[0;34m.\u001b[0m\u001b[0mDataFrame\u001b[0m\u001b[0;34m(\u001b[0m\u001b[0mfeat_importance_log3\u001b[0m\u001b[0;34m)\u001b[0m\u001b[0;34m\u001b[0m\u001b[0;34m\u001b[0m\u001b[0m\n\u001b[1;32m     14\u001b[0m \u001b[0;32mdef\u001b[0m \u001b[0mneg_pos\u001b[0m\u001b[0;34m(\u001b[0m\u001b[0mx\u001b[0m\u001b[0;34m)\u001b[0m\u001b[0;34m:\u001b[0m\u001b[0;34m\u001b[0m\u001b[0;34m\u001b[0m\u001b[0m\n\u001b[0;32m---> 15\u001b[0;31m     \u001b[0;32mif\u001b[0m \u001b[0mx\u001b[0m \u001b[0;34m<\u001b[0m \u001b[0;36m0\u001b[0m\u001b[0;34m:\u001b[0m\u001b[0;34m\u001b[0m\u001b[0;34m\u001b[0m\u001b[0m\n\u001b[0m\u001b[1;32m     16\u001b[0m         \u001b[0my\u001b[0m \u001b[0;34m=\u001b[0m \u001b[0;36m0\u001b[0m\u001b[0;34m\u001b[0m\u001b[0;34m\u001b[0m\u001b[0m\n\u001b[1;32m     17\u001b[0m     \u001b[0;32melse\u001b[0m\u001b[0;34m:\u001b[0m\u001b[0;34m\u001b[0m\u001b[0;34m\u001b[0m\u001b[0m\n",
      "\u001b[0;31mTypeError\u001b[0m: '<' not supported between instances of 'str' and 'int'"
     ]
    }
   ],
   "source": [
    "# Check the importance of predictors for the logistic (new) model\n",
    "X_labels_new =  ['aggregate grade', 'review count', 'stars', 'word freq.', 'tips count', \n",
    "                 'price', 'fast food']\n",
    "\n",
    "model_coef = []\n",
    "for i in model_log_3.coef_[0]:\n",
    "    model_coef.append(i)\n",
    "    \n",
    "feat_importance_log3 = []\n",
    "for feature in zip(X_labels_new, model_coef):\n",
    "    feat_importance_log3.append(feature)\n",
    "    print(feature)\n",
    "df_feat_importance_log3 = pd.DataFrame(feat_importance_log3)\n",
    "def neg_pos(x):\n",
    "    if x < 0:\n",
    "        y = 0\n",
    "    else:\n",
    "        y = 1\n",
    "    return\n",
    "\n",
    "df_feat_importance_new\n",
    "df_feat_importance_new = df_feat_importance_log3.sort_values(by=[1], ascending = False)\n",
    "df_feat_importance_new.iloc[:,2] =  df_feat_importance_log3.iloc[:,0].apply(neg_pos)\n",
    "# Plot feature importance\n",
    "fig_feature_new, ax_feature_new = plt.subplots(figsize = (6,3))\n",
    "ax_feature_new = sns.barplot(y = df_feat_importance_log3.iloc[:,0], x = df_feat_importance_log3.iloc[:,1],  \n",
    "                             orient = 'h', hue = df_feat_importance_new['coef_sign'] )\n",
    "ax_feature_new.tick_params(axis=\"x\", labelsize = 18)\n",
    "ax_feature_new.tick_params(axis=\"y\", labelsize = 18)\n",
    "ax_feature_new.set_xlabel('Relative feature importance', fontsize = 20, fontweight = 'bold')\n",
    "ax_feature_new.set_ylabel('Predictors', fontsize = 20, fontweight = 'bold')\n",
    "plt.title('Predictors and their relative feature importance', fontsize = 20, fontweight = 'bold')\n",
    "#ax_feature_new.set_xlim(0, 0.7) \n",
    "ax_feature_new.spines['right'].set_visible(False) \n",
    "ax_feature_new.spines['top'].set_visible(False)\n",
    "\n",
    "\n",
    "    "
   ]
  },
  {
   "cell_type": "code",
   "execution_count": null,
   "metadata": {},
   "outputs": [],
   "source": []
  },
  {
   "cell_type": "code",
   "execution_count": null,
   "metadata": {},
   "outputs": [],
   "source": []
  },
  {
   "cell_type": "code",
   "execution_count": null,
   "metadata": {},
   "outputs": [],
   "source": []
  },
  {
   "cell_type": "code",
   "execution_count": null,
   "metadata": {},
   "outputs": [],
   "source": []
  },
  {
   "cell_type": "code",
   "execution_count": 105,
   "metadata": {},
   "outputs": [],
   "source": [
    "#df_all_no_duplicates= df_all.drop_duplicates(subset = 'address_x')\n",
    "#df_all_no_duplicates['2017_good_bad'].value_counts()"
   ]
  },
  {
   "cell_type": "code",
   "execution_count": 506,
   "metadata": {},
   "outputs": [
    {
     "data": {
      "text/plain": [
       "0.6146997929606624"
      ]
     },
     "execution_count": 506,
     "metadata": {},
     "output_type": "execute_result"
    }
   ],
   "source": [
    "# ROC curve\n",
    "#from sklearn.metrics import roc_auc_score, roc_curve\n",
    "#prob = model_log_3.predict_proba(X_test_new) # Probability estimates. \n",
    "# prob: 1st col for good restaurants (0), 2nd col for bad restaurants (1)\n",
    "#prob_of_bad = prob[:, 1] # \"The returned estimates for all classes are ordered by the label of classes.\"\n",
    "#AUC = roc_auc_score(y_test_new, prob_of_bad) \n",
    "#fpr, tpr, thresholds = roc_curve(y_test_new, prob_of_bad)\n",
    "\n",
    "#AUC"
   ]
  },
  {
   "cell_type": "code",
   "execution_count": 46,
   "metadata": {},
   "outputs": [],
   "source": [
    "# fig_roc, ax_roc = plt.subplots(figsize = (8,8))\n",
    "#ax_roc.plot(fpr, tpr, label = 'Test set')\n",
    "#ax_roc.plot(fpr_low, tpr_low, label = '250N_ 7°_0.3m/s')\n",
    "#ax_roc.plot([0, 1], [0, 1], color='black', lw= 2, linestyle='--')\n",
    "#ax_roc.legend()\n",
    "#ax_roc.set_ylabel('True positive rate (sensitivity)', fontsize='large', fontweight='bold')\n",
    "#ax_roc.set_xlabel('False positive rate (1-specificity)', fontsize='large', fontweight='bold')\n",
    "#ax_roc.set_xlim(-0.05,1.05)\n",
    "#ax_roc.set_ylim(-0.05,1.05)\n",
    "#ax_roc.tick_params(axis=\"x\", labelsize=12)\n",
    "#ax_roc.tick_params(axis=\"y\", labelsize=12)\n",
    "#ax_roc.set_title('ROC curves for the set of test parameters with highest and lowest AUC', \n",
    "#                 fontsize='large', fontweight='bold')\n",
    "#plt.savefig('/Users/arian/Documents/Data science project/Aim 1/ROC_curve.png')\n",
    "#plt.show()"
   ]
  },
  {
   "cell_type": "code",
   "execution_count": 167,
   "metadata": {},
   "outputs": [],
   "source": [
    "# Randomly assign 0 or 1 to the test data\n",
    "def rand_01(x):\n",
    "    y = random.randint(0,1)\n",
    "    return y\n",
    "\n",
    "y_test_dummy = y_test2.apply(rand_01)\n",
    "#y_test_dummy_classifier.value_counts()"
   ]
  },
  {
   "cell_type": "code",
   "execution_count": 168,
   "metadata": {},
   "outputs": [
    {
     "data": {
      "text/plain": [
       "50.0"
      ]
     },
     "execution_count": 168,
     "metadata": {},
     "output_type": "execute_result"
    }
   ],
   "source": [
    "# Check the accuracy of the random classifier\n",
    "model_accuracy_dummy = 100 * accuracy_score(y_test2, y_test_dummy)\n",
    "model_accuracy_dummy"
   ]
  },
  {
   "cell_type": "code",
   "execution_count": null,
   "metadata": {},
   "outputs": [],
   "source": []
  },
  {
   "cell_type": "code",
   "execution_count": null,
   "metadata": {},
   "outputs": [],
   "source": []
  },
  {
   "cell_type": "code",
   "execution_count": null,
   "metadata": {},
   "outputs": [],
   "source": [
    "\n"
   ]
  },
  {
   "cell_type": "code",
   "execution_count": null,
   "metadata": {},
   "outputs": [],
   "source": []
  },
  {
   "cell_type": "code",
   "execution_count": null,
   "metadata": {},
   "outputs": [],
   "source": []
  },
  {
   "cell_type": "code",
   "execution_count": null,
   "metadata": {},
   "outputs": [],
   "source": []
  },
  {
   "cell_type": "code",
   "execution_count": null,
   "metadata": {},
   "outputs": [],
   "source": []
  },
  {
   "cell_type": "code",
   "execution_count": null,
   "metadata": {},
   "outputs": [],
   "source": []
  },
  {
   "cell_type": "code",
   "execution_count": null,
   "metadata": {},
   "outputs": [],
   "source": []
  }
 ],
 "metadata": {
  "kernelspec": {
   "display_name": "Python 3",
   "language": "python",
   "name": "python3"
  },
  "language_info": {
   "codemirror_mode": {
    "name": "ipython",
    "version": 3
   },
   "file_extension": ".py",
   "mimetype": "text/x-python",
   "name": "python",
   "nbconvert_exporter": "python",
   "pygments_lexer": "ipython3",
   "version": "3.7.3"
  }
 },
 "nbformat": 4,
 "nbformat_minor": 2
}
