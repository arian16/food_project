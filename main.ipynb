{
 "cells": [
  {
   "cell_type": "code",
   "execution_count": 1,
   "metadata": {},
   "outputs": [],
   "source": [
    "# Import libraries\n",
    "import pandas as pd \n",
    "# Read tips dataset\n",
    "df_tip = pd.read_csv('/Users/kristenboyle/Downloads/yelp_dataset/tip.csv')"
   ]
  },
  {
   "cell_type": "code",
   "execution_count": 12,
   "metadata": {},
   "outputs": [
    {
     "data": {
      "text/html": [
       "<div>\n",
       "<style scoped>\n",
       "    .dataframe tbody tr th:only-of-type {\n",
       "        vertical-align: middle;\n",
       "    }\n",
       "\n",
       "    .dataframe tbody tr th {\n",
       "        vertical-align: top;\n",
       "    }\n",
       "\n",
       "    .dataframe thead th {\n",
       "        text-align: right;\n",
       "    }\n",
       "</style>\n",
       "<table border=\"1\" class=\"dataframe\">\n",
       "  <thead>\n",
       "    <tr style=\"text-align: right;\">\n",
       "      <th></th>\n",
       "      <th>compliment_count</th>\n",
       "      <th>date</th>\n",
       "      <th>user_id</th>\n",
       "      <th>business_id</th>\n",
       "      <th>text</th>\n",
       "    </tr>\n",
       "  </thead>\n",
       "  <tbody>\n",
       "    <tr>\n",
       "      <td>0</td>\n",
       "      <td>0</td>\n",
       "      <td>2014-03-27 03:51:24</td>\n",
       "      <td>UPw5DWs_b-e2JRBS-t37Ag</td>\n",
       "      <td>VaKXUpmWTTWDKbpJ3aQdMw</td>\n",
       "      <td>Great for watching games, ufc, and whatever el...</td>\n",
       "    </tr>\n",
       "    <tr>\n",
       "      <td>1</td>\n",
       "      <td>0</td>\n",
       "      <td>2013-05-25 06:00:56</td>\n",
       "      <td>Ocha4kZBHb4JK0lOWvE0sg</td>\n",
       "      <td>OPiPeoJiv92rENwbq76orA</td>\n",
       "      <td>Happy Hour 2-4 daily with 1/2 price drinks and...</td>\n",
       "    </tr>\n",
       "    <tr>\n",
       "      <td>2</td>\n",
       "      <td>0</td>\n",
       "      <td>2011-12-26 01:46:17</td>\n",
       "      <td>jRyO2V1pA4CdVVqCIOPc1Q</td>\n",
       "      <td>5KheTjYPu1HcQzQFtm4_vw</td>\n",
       "      <td>Good chips and salsa. Loud at times. Good serv...</td>\n",
       "    </tr>\n",
       "    <tr>\n",
       "      <td>3</td>\n",
       "      <td>0</td>\n",
       "      <td>2014-03-23 21:32:49</td>\n",
       "      <td>FuTJWFYm4UKqewaosss1KA</td>\n",
       "      <td>TkoyGi8J7YFjA6SbaRzrxg</td>\n",
       "      <td>The setting and decoration here is amazing. Co...</td>\n",
       "    </tr>\n",
       "    <tr>\n",
       "      <td>4</td>\n",
       "      <td>0</td>\n",
       "      <td>2012-10-06 00:19:27</td>\n",
       "      <td>LUlKtaM3nXd-E4N4uOk_fQ</td>\n",
       "      <td>AkL6Ous6A1atZejfZXn1Bg</td>\n",
       "      <td>Molly is definately taking a picture with Sant...</td>\n",
       "    </tr>\n",
       "  </tbody>\n",
       "</table>\n",
       "</div>"
      ],
      "text/plain": [
       "   compliment_count                 date                 user_id  \\\n",
       "0                 0  2014-03-27 03:51:24  UPw5DWs_b-e2JRBS-t37Ag   \n",
       "1                 0  2013-05-25 06:00:56  Ocha4kZBHb4JK0lOWvE0sg   \n",
       "2                 0  2011-12-26 01:46:17  jRyO2V1pA4CdVVqCIOPc1Q   \n",
       "3                 0  2014-03-23 21:32:49  FuTJWFYm4UKqewaosss1KA   \n",
       "4                 0  2012-10-06 00:19:27  LUlKtaM3nXd-E4N4uOk_fQ   \n",
       "\n",
       "              business_id                                               text  \n",
       "0  VaKXUpmWTTWDKbpJ3aQdMw  Great for watching games, ufc, and whatever el...  \n",
       "1  OPiPeoJiv92rENwbq76orA  Happy Hour 2-4 daily with 1/2 price drinks and...  \n",
       "2  5KheTjYPu1HcQzQFtm4_vw  Good chips and salsa. Loud at times. Good serv...  \n",
       "3  TkoyGi8J7YFjA6SbaRzrxg  The setting and decoration here is amazing. Co...  \n",
       "4  AkL6Ous6A1atZejfZXn1Bg  Molly is definately taking a picture with Sant...  "
      ]
     },
     "execution_count": 12,
     "metadata": {},
     "output_type": "execute_result"
    }
   ],
   "source": [
    "df_tip.shape\n",
    "df_tip.head()"
   ]
  },
  {
   "cell_type": "code",
   "execution_count": 3,
   "metadata": {},
   "outputs": [
    {
     "data": {
      "text/html": [
       "<div>\n",
       "<style scoped>\n",
       "    .dataframe tbody tr th:only-of-type {\n",
       "        vertical-align: middle;\n",
       "    }\n",
       "\n",
       "    .dataframe tbody tr th {\n",
       "        vertical-align: top;\n",
       "    }\n",
       "\n",
       "    .dataframe thead th {\n",
       "        text-align: right;\n",
       "    }\n",
       "</style>\n",
       "<table border=\"1\" class=\"dataframe\">\n",
       "  <thead>\n",
       "    <tr style=\"text-align: right;\">\n",
       "      <th></th>\n",
       "      <th>compliment_count</th>\n",
       "      <th>date</th>\n",
       "      <th>user_id</th>\n",
       "      <th>text</th>\n",
       "    </tr>\n",
       "    <tr>\n",
       "      <th>business_id</th>\n",
       "      <th></th>\n",
       "      <th></th>\n",
       "      <th></th>\n",
       "      <th></th>\n",
       "    </tr>\n",
       "  </thead>\n",
       "  <tbody>\n",
       "    <tr>\n",
       "      <td>--1UhMGODdWsrMastO9DZw</td>\n",
       "      <td>[0]</td>\n",
       "      <td>[2017-07-26 17:26:25]</td>\n",
       "      <td>[4YHZzwlxEMi7zWO6Osszdw]</td>\n",
       "      <td>[Delicious! One of the best burritos, salsa an...</td>\n",
       "    </tr>\n",
       "    <tr>\n",
       "      <td>--6MefnULPED_I942VcFNA</td>\n",
       "      <td>[0, 0, 0, 0, 0, 0, 0, 0, 0, 0, 0, 0, 0, 0]</td>\n",
       "      <td>[2013-03-24 01:12:20, 2014-07-11 15:48:40, 201...</td>\n",
       "      <td>[EiP1OFgs-XGcKZux0OKWIA, 2oMkzQcRL7-d7URt3Xo_X...</td>\n",
       "      <td>[BBQ pork is sold out early on Saturday, $5 lu...</td>\n",
       "    </tr>\n",
       "    <tr>\n",
       "      <td>--7zmmkVg-IMGaXbuVd0SQ</td>\n",
       "      <td>[0, 0, 0, 0, 0, 0, 0, 0, 0, 0, 0]</td>\n",
       "      <td>[2017-08-17 20:35:18, 2015-02-27 23:35:49, 201...</td>\n",
       "      <td>[Z7pFsGpIyLzMTZsXjTFF1A, Zqhl8pDShvMr2Vt1mIGC4...</td>\n",
       "      <td>[Good place to stop when traffic don't go., Fl...</td>\n",
       "    </tr>\n",
       "    <tr>\n",
       "      <td>--9QQLMTbFzLJ_oT-ON3Xw</td>\n",
       "      <td>[0, 0]</td>\n",
       "      <td>[2016-08-27 17:35:41, 2017-02-05 19:07:14]</td>\n",
       "      <td>[mfdb2wCYv7yiu0fyzFKMBg, mfdb2wCYv7yiu0fyzFKMBg]</td>\n",
       "      <td>[Tip? Don't get your hair cut here. If they're...</td>\n",
       "    </tr>\n",
       "    <tr>\n",
       "      <td>--9e1ONYQuAa-CB_Rrw7Tw</td>\n",
       "      <td>[0, 0, 0, 0, 0, 0, 0, 0, 0, 0, 0, 0, 0, 0, 0, ...</td>\n",
       "      <td>[2014-06-27 01:37:27, 2016-12-19 00:29:11, 201...</td>\n",
       "      <td>[LgFDWZTLi1w9OGi5BtKORg, q-v8elVPvKz0KvK69QSj1...</td>\n",
       "      <td>[Wine pairings for my prix fixe meal.  Mmmm, *...</td>\n",
       "    </tr>\n",
       "  </tbody>\n",
       "</table>\n",
       "</div>"
      ],
      "text/plain": [
       "                                                         compliment_count  \\\n",
       "business_id                                                                 \n",
       "--1UhMGODdWsrMastO9DZw                                                [0]   \n",
       "--6MefnULPED_I942VcFNA         [0, 0, 0, 0, 0, 0, 0, 0, 0, 0, 0, 0, 0, 0]   \n",
       "--7zmmkVg-IMGaXbuVd0SQ                  [0, 0, 0, 0, 0, 0, 0, 0, 0, 0, 0]   \n",
       "--9QQLMTbFzLJ_oT-ON3Xw                                             [0, 0]   \n",
       "--9e1ONYQuAa-CB_Rrw7Tw  [0, 0, 0, 0, 0, 0, 0, 0, 0, 0, 0, 0, 0, 0, 0, ...   \n",
       "\n",
       "                                                                     date  \\\n",
       "business_id                                                                 \n",
       "--1UhMGODdWsrMastO9DZw                              [2017-07-26 17:26:25]   \n",
       "--6MefnULPED_I942VcFNA  [2013-03-24 01:12:20, 2014-07-11 15:48:40, 201...   \n",
       "--7zmmkVg-IMGaXbuVd0SQ  [2017-08-17 20:35:18, 2015-02-27 23:35:49, 201...   \n",
       "--9QQLMTbFzLJ_oT-ON3Xw         [2016-08-27 17:35:41, 2017-02-05 19:07:14]   \n",
       "--9e1ONYQuAa-CB_Rrw7Tw  [2014-06-27 01:37:27, 2016-12-19 00:29:11, 201...   \n",
       "\n",
       "                                                                  user_id  \\\n",
       "business_id                                                                 \n",
       "--1UhMGODdWsrMastO9DZw                           [4YHZzwlxEMi7zWO6Osszdw]   \n",
       "--6MefnULPED_I942VcFNA  [EiP1OFgs-XGcKZux0OKWIA, 2oMkzQcRL7-d7URt3Xo_X...   \n",
       "--7zmmkVg-IMGaXbuVd0SQ  [Z7pFsGpIyLzMTZsXjTFF1A, Zqhl8pDShvMr2Vt1mIGC4...   \n",
       "--9QQLMTbFzLJ_oT-ON3Xw   [mfdb2wCYv7yiu0fyzFKMBg, mfdb2wCYv7yiu0fyzFKMBg]   \n",
       "--9e1ONYQuAa-CB_Rrw7Tw  [LgFDWZTLi1w9OGi5BtKORg, q-v8elVPvKz0KvK69QSj1...   \n",
       "\n",
       "                                                                     text  \n",
       "business_id                                                                \n",
       "--1UhMGODdWsrMastO9DZw  [Delicious! One of the best burritos, salsa an...  \n",
       "--6MefnULPED_I942VcFNA  [BBQ pork is sold out early on Saturday, $5 lu...  \n",
       "--7zmmkVg-IMGaXbuVd0SQ  [Good place to stop when traffic don't go., Fl...  \n",
       "--9QQLMTbFzLJ_oT-ON3Xw  [Tip? Don't get your hair cut here. If they're...  \n",
       "--9e1ONYQuAa-CB_Rrw7Tw  [Wine pairings for my prix fixe meal.  Mmmm, *...  "
      ]
     },
     "execution_count": 3,
     "metadata": {},
     "output_type": "execute_result"
    }
   ],
   "source": [
    "# Combine all the tips for each business\n",
    "df_tip2 = df_tip.groupby('business_id').agg(lambda x: x.tolist()) \n",
    "df_tip2.head()"
   ]
  },
  {
   "cell_type": "code",
   "execution_count": 13,
   "metadata": {},
   "outputs": [
    {
     "data": {
      "text/html": [
       "<div>\n",
       "<style scoped>\n",
       "    .dataframe tbody tr th:only-of-type {\n",
       "        vertical-align: middle;\n",
       "    }\n",
       "\n",
       "    .dataframe tbody tr th {\n",
       "        vertical-align: top;\n",
       "    }\n",
       "\n",
       "    .dataframe thead th {\n",
       "        text-align: right;\n",
       "    }\n",
       "</style>\n",
       "<table border=\"1\" class=\"dataframe\">\n",
       "  <thead>\n",
       "    <tr style=\"text-align: right;\">\n",
       "      <th></th>\n",
       "      <th>compliment_count</th>\n",
       "      <th>date</th>\n",
       "      <th>user_id</th>\n",
       "      <th>text</th>\n",
       "      <th>text_all</th>\n",
       "    </tr>\n",
       "    <tr>\n",
       "      <th>business_id</th>\n",
       "      <th></th>\n",
       "      <th></th>\n",
       "      <th></th>\n",
       "      <th></th>\n",
       "      <th></th>\n",
       "    </tr>\n",
       "  </thead>\n",
       "  <tbody>\n",
       "    <tr>\n",
       "      <td>--1UhMGODdWsrMastO9DZw</td>\n",
       "      <td>[0]</td>\n",
       "      <td>[2017-07-26 17:26:25]</td>\n",
       "      <td>[4YHZzwlxEMi7zWO6Osszdw]</td>\n",
       "      <td>[Delicious! One of the best burritos, salsa an...</td>\n",
       "      <td>Delicious! One of the best burritos, salsa and...</td>\n",
       "    </tr>\n",
       "    <tr>\n",
       "      <td>--6MefnULPED_I942VcFNA</td>\n",
       "      <td>[0, 0, 0, 0, 0, 0, 0, 0, 0, 0, 0, 0, 0, 0]</td>\n",
       "      <td>[2013-03-24 01:12:20, 2014-07-11 15:48:40, 201...</td>\n",
       "      <td>[EiP1OFgs-XGcKZux0OKWIA, 2oMkzQcRL7-d7URt3Xo_X...</td>\n",
       "      <td>[BBQ pork is sold out early on Saturday, $5 lu...</td>\n",
       "      <td>BBQ pork is sold out early on Saturday;$5 lunc...</td>\n",
       "    </tr>\n",
       "    <tr>\n",
       "      <td>--7zmmkVg-IMGaXbuVd0SQ</td>\n",
       "      <td>[0, 0, 0, 0, 0, 0, 0, 0, 0, 0, 0]</td>\n",
       "      <td>[2017-08-17 20:35:18, 2015-02-27 23:35:49, 201...</td>\n",
       "      <td>[Z7pFsGpIyLzMTZsXjTFF1A, Zqhl8pDShvMr2Vt1mIGC4...</td>\n",
       "      <td>[Good place to stop when traffic don't go., Fl...</td>\n",
       "      <td>Good place to stop when traffic don't go.;Flig...</td>\n",
       "    </tr>\n",
       "    <tr>\n",
       "      <td>--9QQLMTbFzLJ_oT-ON3Xw</td>\n",
       "      <td>[0, 0]</td>\n",
       "      <td>[2016-08-27 17:35:41, 2017-02-05 19:07:14]</td>\n",
       "      <td>[mfdb2wCYv7yiu0fyzFKMBg, mfdb2wCYv7yiu0fyzFKMBg]</td>\n",
       "      <td>[Tip? Don't get your hair cut here. If they're...</td>\n",
       "      <td>Tip? Don't get your hair cut here. If they're ...</td>\n",
       "    </tr>\n",
       "    <tr>\n",
       "      <td>--9e1ONYQuAa-CB_Rrw7Tw</td>\n",
       "      <td>[0, 0, 0, 0, 0, 0, 0, 0, 0, 0, 0, 0, 0, 0, 0, ...</td>\n",
       "      <td>[2014-06-27 01:37:27, 2016-12-19 00:29:11, 201...</td>\n",
       "      <td>[LgFDWZTLi1w9OGi5BtKORg, q-v8elVPvKz0KvK69QSj1...</td>\n",
       "      <td>[Wine pairings for my prix fixe meal.  Mmmm, *...</td>\n",
       "      <td>Wine pairings for my prix fixe meal.  Mmmm;*Cu...</td>\n",
       "    </tr>\n",
       "  </tbody>\n",
       "</table>\n",
       "</div>"
      ],
      "text/plain": [
       "                                                         compliment_count  \\\n",
       "business_id                                                                 \n",
       "--1UhMGODdWsrMastO9DZw                                                [0]   \n",
       "--6MefnULPED_I942VcFNA         [0, 0, 0, 0, 0, 0, 0, 0, 0, 0, 0, 0, 0, 0]   \n",
       "--7zmmkVg-IMGaXbuVd0SQ                  [0, 0, 0, 0, 0, 0, 0, 0, 0, 0, 0]   \n",
       "--9QQLMTbFzLJ_oT-ON3Xw                                             [0, 0]   \n",
       "--9e1ONYQuAa-CB_Rrw7Tw  [0, 0, 0, 0, 0, 0, 0, 0, 0, 0, 0, 0, 0, 0, 0, ...   \n",
       "\n",
       "                                                                     date  \\\n",
       "business_id                                                                 \n",
       "--1UhMGODdWsrMastO9DZw                              [2017-07-26 17:26:25]   \n",
       "--6MefnULPED_I942VcFNA  [2013-03-24 01:12:20, 2014-07-11 15:48:40, 201...   \n",
       "--7zmmkVg-IMGaXbuVd0SQ  [2017-08-17 20:35:18, 2015-02-27 23:35:49, 201...   \n",
       "--9QQLMTbFzLJ_oT-ON3Xw         [2016-08-27 17:35:41, 2017-02-05 19:07:14]   \n",
       "--9e1ONYQuAa-CB_Rrw7Tw  [2014-06-27 01:37:27, 2016-12-19 00:29:11, 201...   \n",
       "\n",
       "                                                                  user_id  \\\n",
       "business_id                                                                 \n",
       "--1UhMGODdWsrMastO9DZw                           [4YHZzwlxEMi7zWO6Osszdw]   \n",
       "--6MefnULPED_I942VcFNA  [EiP1OFgs-XGcKZux0OKWIA, 2oMkzQcRL7-d7URt3Xo_X...   \n",
       "--7zmmkVg-IMGaXbuVd0SQ  [Z7pFsGpIyLzMTZsXjTFF1A, Zqhl8pDShvMr2Vt1mIGC4...   \n",
       "--9QQLMTbFzLJ_oT-ON3Xw   [mfdb2wCYv7yiu0fyzFKMBg, mfdb2wCYv7yiu0fyzFKMBg]   \n",
       "--9e1ONYQuAa-CB_Rrw7Tw  [LgFDWZTLi1w9OGi5BtKORg, q-v8elVPvKz0KvK69QSj1...   \n",
       "\n",
       "                                                                     text  \\\n",
       "business_id                                                                 \n",
       "--1UhMGODdWsrMastO9DZw  [Delicious! One of the best burritos, salsa an...   \n",
       "--6MefnULPED_I942VcFNA  [BBQ pork is sold out early on Saturday, $5 lu...   \n",
       "--7zmmkVg-IMGaXbuVd0SQ  [Good place to stop when traffic don't go., Fl...   \n",
       "--9QQLMTbFzLJ_oT-ON3Xw  [Tip? Don't get your hair cut here. If they're...   \n",
       "--9e1ONYQuAa-CB_Rrw7Tw  [Wine pairings for my prix fixe meal.  Mmmm, *...   \n",
       "\n",
       "                                                                 text_all  \n",
       "business_id                                                                \n",
       "--1UhMGODdWsrMastO9DZw  Delicious! One of the best burritos, salsa and...  \n",
       "--6MefnULPED_I942VcFNA  BBQ pork is sold out early on Saturday;$5 lunc...  \n",
       "--7zmmkVg-IMGaXbuVd0SQ  Good place to stop when traffic don't go.;Flig...  \n",
       "--9QQLMTbFzLJ_oT-ON3Xw  Tip? Don't get your hair cut here. If they're ...  \n",
       "--9e1ONYQuAa-CB_Rrw7Tw  Wine pairings for my prix fixe meal.  Mmmm;*Cu...  "
      ]
     },
     "execution_count": 13,
     "metadata": {},
     "output_type": "execute_result"
    }
   ],
   "source": [
    "# Convert each row (list of tips) for \"text\" column to a single string separated by \";\"\n",
    "df_tip2['text_all'] = df_tip2['text'].str.join(';')\n",
    "df_tip2.head()"
   ]
  },
  {
   "cell_type": "code",
   "execution_count": 14,
   "metadata": {},
   "outputs": [],
   "source": [
    "# Generate word vectors using Word2Vec \n",
    "# Import all necessary modules \n",
    "from nltk.tokenize import sent_tokenize, word_tokenize   \n",
    "import gensim \n",
    "from gensim.models import Word2Vec"
   ]
  },
  {
   "cell_type": "code",
   "execution_count": 15,
   "metadata": {},
   "outputs": [
    {
     "data": {
      "text/html": [
       "<div>\n",
       "<style scoped>\n",
       "    .dataframe tbody tr th:only-of-type {\n",
       "        vertical-align: middle;\n",
       "    }\n",
       "\n",
       "    .dataframe tbody tr th {\n",
       "        vertical-align: top;\n",
       "    }\n",
       "\n",
       "    .dataframe thead th {\n",
       "        text-align: right;\n",
       "    }\n",
       "</style>\n",
       "<table border=\"1\" class=\"dataframe\">\n",
       "  <thead>\n",
       "    <tr style=\"text-align: right;\">\n",
       "      <th></th>\n",
       "      <th>compliment_count</th>\n",
       "      <th>date</th>\n",
       "      <th>user_id</th>\n",
       "      <th>text</th>\n",
       "      <th>text_all</th>\n",
       "    </tr>\n",
       "    <tr>\n",
       "      <th>business_id</th>\n",
       "      <th></th>\n",
       "      <th></th>\n",
       "      <th></th>\n",
       "      <th></th>\n",
       "      <th></th>\n",
       "    </tr>\n",
       "  </thead>\n",
       "  <tbody>\n",
       "    <tr>\n",
       "      <td>--1UhMGODdWsrMastO9DZw</td>\n",
       "      <td>[0]</td>\n",
       "      <td>[2017-07-26 17:26:25]</td>\n",
       "      <td>[4YHZzwlxEMi7zWO6Osszdw]</td>\n",
       "      <td>[Delicious! One of the best burritos, salsa an...</td>\n",
       "      <td>Delicious! One of the best burritos, salsa and...</td>\n",
       "    </tr>\n",
       "    <tr>\n",
       "      <td>--6MefnULPED_I942VcFNA</td>\n",
       "      <td>[0, 0, 0, 0, 0, 0, 0, 0, 0, 0, 0, 0, 0, 0]</td>\n",
       "      <td>[2013-03-24 01:12:20, 2014-07-11 15:48:40, 201...</td>\n",
       "      <td>[EiP1OFgs-XGcKZux0OKWIA, 2oMkzQcRL7-d7URt3Xo_X...</td>\n",
       "      <td>[BBQ pork is sold out early on Saturday, $5 lu...</td>\n",
       "      <td>BBQ pork is sold out early on Saturday;$5 lunc...</td>\n",
       "    </tr>\n",
       "    <tr>\n",
       "      <td>--7zmmkVg-IMGaXbuVd0SQ</td>\n",
       "      <td>[0, 0, 0, 0, 0, 0, 0, 0, 0, 0, 0]</td>\n",
       "      <td>[2017-08-17 20:35:18, 2015-02-27 23:35:49, 201...</td>\n",
       "      <td>[Z7pFsGpIyLzMTZsXjTFF1A, Zqhl8pDShvMr2Vt1mIGC4...</td>\n",
       "      <td>[Good place to stop when traffic don't go., Fl...</td>\n",
       "      <td>Good place to stop when traffic don't go.;Flig...</td>\n",
       "    </tr>\n",
       "    <tr>\n",
       "      <td>--9QQLMTbFzLJ_oT-ON3Xw</td>\n",
       "      <td>[0, 0]</td>\n",
       "      <td>[2016-08-27 17:35:41, 2017-02-05 19:07:14]</td>\n",
       "      <td>[mfdb2wCYv7yiu0fyzFKMBg, mfdb2wCYv7yiu0fyzFKMBg]</td>\n",
       "      <td>[Tip? Don't get your hair cut here. If they're...</td>\n",
       "      <td>Tip? Don't get your hair cut here. If they're ...</td>\n",
       "    </tr>\n",
       "    <tr>\n",
       "      <td>--9e1ONYQuAa-CB_Rrw7Tw</td>\n",
       "      <td>[0, 0, 0, 0, 0, 0, 0, 0, 0, 0, 0, 0, 0, 0, 0, ...</td>\n",
       "      <td>[2014-06-27 01:37:27, 2016-12-19 00:29:11, 201...</td>\n",
       "      <td>[LgFDWZTLi1w9OGi5BtKORg, q-v8elVPvKz0KvK69QSj1...</td>\n",
       "      <td>[Wine pairings for my prix fixe meal.  Mmmm, *...</td>\n",
       "      <td>Wine pairings for my prix fixe meal.  Mmmm;*Cu...</td>\n",
       "    </tr>\n",
       "  </tbody>\n",
       "</table>\n",
       "</div>"
      ],
      "text/plain": [
       "                                                         compliment_count  \\\n",
       "business_id                                                                 \n",
       "--1UhMGODdWsrMastO9DZw                                                [0]   \n",
       "--6MefnULPED_I942VcFNA         [0, 0, 0, 0, 0, 0, 0, 0, 0, 0, 0, 0, 0, 0]   \n",
       "--7zmmkVg-IMGaXbuVd0SQ                  [0, 0, 0, 0, 0, 0, 0, 0, 0, 0, 0]   \n",
       "--9QQLMTbFzLJ_oT-ON3Xw                                             [0, 0]   \n",
       "--9e1ONYQuAa-CB_Rrw7Tw  [0, 0, 0, 0, 0, 0, 0, 0, 0, 0, 0, 0, 0, 0, 0, ...   \n",
       "\n",
       "                                                                     date  \\\n",
       "business_id                                                                 \n",
       "--1UhMGODdWsrMastO9DZw                              [2017-07-26 17:26:25]   \n",
       "--6MefnULPED_I942VcFNA  [2013-03-24 01:12:20, 2014-07-11 15:48:40, 201...   \n",
       "--7zmmkVg-IMGaXbuVd0SQ  [2017-08-17 20:35:18, 2015-02-27 23:35:49, 201...   \n",
       "--9QQLMTbFzLJ_oT-ON3Xw         [2016-08-27 17:35:41, 2017-02-05 19:07:14]   \n",
       "--9e1ONYQuAa-CB_Rrw7Tw  [2014-06-27 01:37:27, 2016-12-19 00:29:11, 201...   \n",
       "\n",
       "                                                                  user_id  \\\n",
       "business_id                                                                 \n",
       "--1UhMGODdWsrMastO9DZw                           [4YHZzwlxEMi7zWO6Osszdw]   \n",
       "--6MefnULPED_I942VcFNA  [EiP1OFgs-XGcKZux0OKWIA, 2oMkzQcRL7-d7URt3Xo_X...   \n",
       "--7zmmkVg-IMGaXbuVd0SQ  [Z7pFsGpIyLzMTZsXjTFF1A, Zqhl8pDShvMr2Vt1mIGC4...   \n",
       "--9QQLMTbFzLJ_oT-ON3Xw   [mfdb2wCYv7yiu0fyzFKMBg, mfdb2wCYv7yiu0fyzFKMBg]   \n",
       "--9e1ONYQuAa-CB_Rrw7Tw  [LgFDWZTLi1w9OGi5BtKORg, q-v8elVPvKz0KvK69QSj1...   \n",
       "\n",
       "                                                                     text  \\\n",
       "business_id                                                                 \n",
       "--1UhMGODdWsrMastO9DZw  [Delicious! One of the best burritos, salsa an...   \n",
       "--6MefnULPED_I942VcFNA  [BBQ pork is sold out early on Saturday, $5 lu...   \n",
       "--7zmmkVg-IMGaXbuVd0SQ  [Good place to stop when traffic don't go., Fl...   \n",
       "--9QQLMTbFzLJ_oT-ON3Xw  [Tip? Don't get your hair cut here. If they're...   \n",
       "--9e1ONYQuAa-CB_Rrw7Tw  [Wine pairings for my prix fixe meal.  Mmmm, *...   \n",
       "\n",
       "                                                                 text_all  \n",
       "business_id                                                                \n",
       "--1UhMGODdWsrMastO9DZw  Delicious! One of the best burritos, salsa and...  \n",
       "--6MefnULPED_I942VcFNA  BBQ pork is sold out early on Saturday;$5 lunc...  \n",
       "--7zmmkVg-IMGaXbuVd0SQ  Good place to stop when traffic don't go.;Flig...  \n",
       "--9QQLMTbFzLJ_oT-ON3Xw  Tip? Don't get your hair cut here. If they're ...  \n",
       "--9e1ONYQuAa-CB_Rrw7Tw  Wine pairings for my prix fixe meal.  Mmmm;*Cu...  "
      ]
     },
     "execution_count": 15,
     "metadata": {},
     "output_type": "execute_result"
    }
   ],
   "source": [
    "df_tip2.head()"
   ]
  },
  {
   "cell_type": "code",
   "execution_count": 16,
   "metadata": {},
   "outputs": [
    {
     "name": "stderr",
     "output_type": "stream",
     "text": [
      "[nltk_data] Downloading package stopwords to\n",
      "[nltk_data]     /Users/kristenboyle/nltk_data...\n",
      "[nltk_data]   Package stopwords is already up-to-date!\n"
     ]
    }
   ],
   "source": [
    "import nltk\n",
    "nltk.download('stopwords')\n",
    "from nltk.corpus import stopwords\n",
    "# The below function removes the stop words and tokenize the sentence\n",
    "def preprocess(text):\n",
    "    tokens = gensim.utils.simple_preprocess(text)\n",
    "    stop_words = stopwords.words('english')\n",
    "    return [tok for tok in tokens if tok not in stop_words]\n",
    "\n",
    "## Example on how to preprocess\n",
    "#a = pd.DataFrame({'A': ['banana was here', 'I ate a red apple'], 'B': [3, 4]})\n",
    "#test = a.A.tolist()\n",
    "#test2 = [gensim.utils.simple_preprocess(sentence) for sentence in test]\n",
    "#test2\n",
    "#a = pd.DataFrame({'A': test2})\n",
    "#a\n",
    "#test3 = [preprocess(sentence) for sentence in test]\n",
    "#test3\n",
    "##"
   ]
  },
  {
   "cell_type": "code",
   "execution_count": 17,
   "metadata": {},
   "outputs": [
    {
     "data": {
      "text/plain": [
       "business_id\n",
       "--1UhMGODdWsrMastO9DZw    [delicious, one, best, burritos, salsa, vegeta...\n",
       "--6MefnULPED_I942VcFNA    [bbq, pork, sold, early, saturday, lunch, spec...\n",
       "--7zmmkVg-IMGaXbuVd0SQ    [good, place, stop, traffic, go, flights, beer...\n",
       "--9QQLMTbFzLJ_oT-ON3Xw    [tip, get, hair, cut, busy, get, rushed, hairc...\n",
       "--9e1ONYQuAa-CB_Rrw7Tw    [wine, pairings, prix, fixe, meal, mmmm, curre...\n",
       "Name: text_clean, dtype: object"
      ]
     },
     "execution_count": 17,
     "metadata": {},
     "output_type": "execute_result"
    }
   ],
   "source": [
    "# Clean and tokenize\n",
    "df_tip2 = df_tip2.dropna() # Remove NaNs\n",
    "desired_series = df_tip2.text_all.tolist()\n",
    "series_token = [preprocess(sentence) for sentence in desired_series]\n",
    "df_tip2['text_clean'] = series_token\n",
    "df_tip2['text_clean'].head()"
   ]
  },
  {
   "cell_type": "code",
   "execution_count": 18,
   "metadata": {},
   "outputs": [
    {
     "name": "stderr",
     "output_type": "stream",
     "text": [
      "/Users/kristenboyle/anaconda3/envs/food_venv/lib/python3.7/site-packages/smart_open/smart_open_lib.py:398: UserWarning: This function is deprecated, use smart_open.open instead. See the migration notes for details: https://github.com/RaRe-Technologies/smart_open/blob/master/README.rst#migrating-to-the-new-open-function\n",
      "  'See the migration notes for details: %s' % _MIGRATION_NOTES_URL\n"
     ]
    }
   ],
   "source": [
    "# Word2vec model\n",
    "model = Word2Vec(df_tip2['text_clean'], size=50, window=5, min_count=1, workers=4)\n",
    "model.save(\"word2vec.model\")"
   ]
  },
  {
   "cell_type": "code",
   "execution_count": 19,
   "metadata": {},
   "outputs": [
    {
     "name": "stdout",
     "output_type": "stream",
     "text": [
      "Cosine similarity between 'roach' and 'bug':  -0.004141968029103252\n"
     ]
    },
    {
     "name": "stderr",
     "output_type": "stream",
     "text": [
      "/Users/kristenboyle/anaconda3/envs/food_venv/lib/python3.7/site-packages/ipykernel_launcher.py:3: DeprecationWarning: Call to deprecated `similarity` (Method will be removed in 4.0.0, use self.wv.similarity() instead).\n",
      "  This is separate from the ipykernel package so we can avoid doing imports until\n"
     ]
    }
   ],
   "source": [
    "# Predict the similarity between words based on the Word2vec model\n",
    "print(\"Cosine similarity between 'roach' \" + \"and 'bug': \", \n",
    "      model.similarity('roach', 'clean'))"
   ]
  },
  {
   "cell_type": "code",
   "execution_count": 20,
   "metadata": {},
   "outputs": [
    {
     "name": "stderr",
     "output_type": "stream",
     "text": [
      "/Users/kristenboyle/anaconda3/envs/food_venv/lib/python3.7/site-packages/IPython/core/interactiveshell.py:3058: DtypeWarning: Columns (17,32,49) have mixed types. Specify dtype option on import or set low_memory=False.\n",
      "  interactivity=interactivity, compiler=compiler, result=result)\n"
     ]
    }
   ],
   "source": [
    "# Load ratings, stars, etc. for businesses\n",
    "df_business = pd.read_csv('/Users/kristenboyle/Downloads/yelp_dataset/business.csv')"
   ]
  },
  {
   "cell_type": "code",
   "execution_count": 21,
   "metadata": {},
   "outputs": [],
   "source": [
    "# Food inspection data\n",
    "df_inspection = pd.read_csv('/Users/kristenboyle/Downloads/restaurant-inspections-1.csv')"
   ]
  },
  {
   "cell_type": "code",
   "execution_count": 22,
   "metadata": {},
   "outputs": [
    {
     "data": {
      "text/plain": [
       "Index(['attributes.AgesAllowed', 'hours.Thursday', 'attributes.CoatCheck',\n",
       "       'attributes.BusinessParking', 'attributes.GoodForMeal',\n",
       "       'attributes.Alcohol', 'attributes.RestaurantsTableService',\n",
       "       'attributes.RestaurantsTakeOut', 'attributes.RestaurantsDelivery',\n",
       "       'attributes.Music', 'hours.Wednesday', 'attributes.Ambience',\n",
       "       'attributes.HasTV', 'address', 'review_count',\n",
       "       'attributes.RestaurantsPriceRange2', 'attributes.HairSpecializesIn',\n",
       "       'attributes.RestaurantsCounterService', 'attributes.BestNights',\n",
       "       'business_id', 'attributes.DietaryRestrictions',\n",
       "       'attributes.RestaurantsReservations', 'categories', 'latitude',\n",
       "       'attributes.Corkage', 'attributes.BusinessAcceptsBitcoin',\n",
       "       'attributes.OutdoorSeating', 'hours.Tuesday', 'attributes.Smoking',\n",
       "       'attributes.Caters', 'attributes.BusinessAcceptsCreditCards',\n",
       "       'attributes.RestaurantsAttire', 'attributes.Open24Hours', 'name',\n",
       "       'attributes.WheelchairAccessible', 'state', 'attributes.DogsAllowed',\n",
       "       'stars', 'attributes.AcceptsInsurance', 'attributes.DriveThru', 'city',\n",
       "       'attributes.HappyHour', 'hours.Monday', 'attributes',\n",
       "       'attributes.RestaurantsGoodForGroups', 'attributes.ByAppointmentOnly',\n",
       "       'attributes.BikeParking', 'attributes.GoodForKids', 'is_open',\n",
       "       'attributes.BYOB', 'postal_code', 'hours.Friday',\n",
       "       'attributes.GoodForDancing', 'attributes.WiFi', 'hours.Sunday',\n",
       "       'attributes.NoiseLevel', 'hours.Saturday', 'longitude', 'hours',\n",
       "       'attributes.BYOBCorkage'],\n",
       "      dtype='object')"
      ]
     },
     "execution_count": 22,
     "metadata": {},
     "output_type": "execute_result"
    }
   ],
   "source": [
    "# df_business: separate businesses in Las Vegas from other cities\n",
    "df_business1 = df_business[df_business['city'] == \"Las Vegas\"]\n",
    "df_business1['city'].unique()\n",
    "df_business1.columns"
   ]
  },
  {
   "cell_type": "code",
   "execution_count": 27,
   "metadata": {},
   "outputs": [
    {
     "data": {
      "text/html": [
       "<div>\n",
       "<style scoped>\n",
       "    .dataframe tbody tr th:only-of-type {\n",
       "        vertical-align: middle;\n",
       "    }\n",
       "\n",
       "    .dataframe tbody tr th {\n",
       "        vertical-align: top;\n",
       "    }\n",
       "\n",
       "    .dataframe thead th {\n",
       "        text-align: right;\n",
       "    }\n",
       "</style>\n",
       "<table border=\"1\" class=\"dataframe\">\n",
       "  <thead>\n",
       "    <tr style=\"text-align: right;\">\n",
       "      <th></th>\n",
       "      <th>business_id</th>\n",
       "      <th>name</th>\n",
       "      <th>stars</th>\n",
       "      <th>review_count</th>\n",
       "      <th>categories</th>\n",
       "      <th>attributes.RestaurantsPriceRange2</th>\n",
       "      <th>address</th>\n",
       "    </tr>\n",
       "  </thead>\n",
       "  <tbody>\n",
       "    <tr>\n",
       "      <td>7</td>\n",
       "      <td>gbQN7vr_caG_A1ugSmGhWg</td>\n",
       "      <td>Supercuts</td>\n",
       "      <td>3.5</td>\n",
       "      <td>3</td>\n",
       "      <td>Hair Salons, Hair Stylists, Barbers, Men's Hai...</td>\n",
       "      <td>3</td>\n",
       "      <td>4545 E Tropicana Rd Ste 8, Tropicana</td>\n",
       "    </tr>\n",
       "    <tr>\n",
       "      <td>17</td>\n",
       "      <td>PZ-LZzSlhSe9utkQYU8pFg</td>\n",
       "      <td>Carluccio's Tivoli Gardens</td>\n",
       "      <td>4.0</td>\n",
       "      <td>40</td>\n",
       "      <td>Restaurants, Italian</td>\n",
       "      <td>2</td>\n",
       "      <td>1775 E Tropicana Ave, Ste 29</td>\n",
       "    </tr>\n",
       "    <tr>\n",
       "      <td>22</td>\n",
       "      <td>KWywu2tTEPWmR9JnBc0WyQ</td>\n",
       "      <td>Hunk Mansion</td>\n",
       "      <td>4.0</td>\n",
       "      <td>107</td>\n",
       "      <td>Nightlife, Arts &amp; Entertainment, Bars, Strip C...</td>\n",
       "      <td>2</td>\n",
       "      <td>6007 Dean Martin Dr</td>\n",
       "    </tr>\n",
       "    <tr>\n",
       "      <td>24</td>\n",
       "      <td>BsMdebN4nZySpGTfXr-7yg</td>\n",
       "      <td>Maurices</td>\n",
       "      <td>5.0</td>\n",
       "      <td>4</td>\n",
       "      <td>Women's Clothing, Shopping, Accessories, Fashi...</td>\n",
       "      <td>2</td>\n",
       "      <td>7981 W Tropical Pkwy, Ste 120</td>\n",
       "    </tr>\n",
       "    <tr>\n",
       "      <td>25</td>\n",
       "      <td>tstimHoMcYbkSC4eBA1wEg</td>\n",
       "      <td>Maria's Mexican Restaurant &amp; Bakery</td>\n",
       "      <td>4.5</td>\n",
       "      <td>184</td>\n",
       "      <td>Mexican, Restaurants, Patisserie/Cake Shop, Fo...</td>\n",
       "      <td>1</td>\n",
       "      <td>6055 E Lake Mead Blvd</td>\n",
       "    </tr>\n",
       "  </tbody>\n",
       "</table>\n",
       "</div>"
      ],
      "text/plain": [
       "               business_id                                 name  stars  \\\n",
       "7   gbQN7vr_caG_A1ugSmGhWg                            Supercuts    3.5   \n",
       "17  PZ-LZzSlhSe9utkQYU8pFg           Carluccio's Tivoli Gardens    4.0   \n",
       "22  KWywu2tTEPWmR9JnBc0WyQ                         Hunk Mansion    4.0   \n",
       "24  BsMdebN4nZySpGTfXr-7yg                             Maurices    5.0   \n",
       "25  tstimHoMcYbkSC4eBA1wEg  Maria's Mexican Restaurant & Bakery    4.5   \n",
       "\n",
       "    review_count                                         categories  \\\n",
       "7              3  Hair Salons, Hair Stylists, Barbers, Men's Hai...   \n",
       "17            40                               Restaurants, Italian   \n",
       "22           107  Nightlife, Arts & Entertainment, Bars, Strip C...   \n",
       "24             4  Women's Clothing, Shopping, Accessories, Fashi...   \n",
       "25           184  Mexican, Restaurants, Patisserie/Cake Shop, Fo...   \n",
       "\n",
       "   attributes.RestaurantsPriceRange2                               address  \n",
       "7                                  3  4545 E Tropicana Rd Ste 8, Tropicana  \n",
       "17                                 2          1775 E Tropicana Ave, Ste 29  \n",
       "22                                 2                   6007 Dean Martin Dr  \n",
       "24                                 2         7981 W Tropical Pkwy, Ste 120  \n",
       "25                                 1                 6055 E Lake Mead Blvd  "
      ]
     },
     "execution_count": 27,
     "metadata": {},
     "output_type": "execute_result"
    }
   ],
   "source": [
    "# Create a df with only a subset of features\n",
    "df_business2 = df_business1.loc[:, ['business_id', 'name', 'stars', 'review_count', 'categories', \n",
    "                                    'attributes.RestaurantsPriceRange2', 'address'] ]\n",
    "df_business2 = df_business2.dropna()\n",
    "df_business2.head()"
   ]
  },
  {
   "cell_type": "code",
   "execution_count": 25,
   "metadata": {},
   "outputs": [
    {
     "name": "stderr",
     "output_type": "stream",
     "text": [
      "/Users/kristenboyle/anaconda3/envs/food_venv/lib/python3.7/site-packages/pandas/core/indexing.py:494: SettingWithCopyWarning: \n",
      "A value is trying to be set on a copy of a slice from a DataFrame.\n",
      "Try using .loc[row_indexer,col_indexer] = value instead\n",
      "\n",
      "See the caveats in the documentation: http://pandas.pydata.org/pandas-docs/stable/user_guide/indexing.html#returning-a-view-versus-a-copy\n",
      "  self.obj[item] = s\n"
     ]
    },
    {
     "data": {
      "text/html": [
       "<div>\n",
       "<style scoped>\n",
       "    .dataframe tbody tr th:only-of-type {\n",
       "        vertical-align: middle;\n",
       "    }\n",
       "\n",
       "    .dataframe tbody tr th {\n",
       "        vertical-align: top;\n",
       "    }\n",
       "\n",
       "    .dataframe thead th {\n",
       "        text-align: right;\n",
       "    }\n",
       "</style>\n",
       "<table border=\"1\" class=\"dataframe\">\n",
       "  <thead>\n",
       "    <tr style=\"text-align: right;\">\n",
       "      <th></th>\n",
       "      <th>business_id</th>\n",
       "      <th>name</th>\n",
       "      <th>stars</th>\n",
       "      <th>review_count</th>\n",
       "      <th>categories</th>\n",
       "      <th>attributes.RestaurantsPriceRange2</th>\n",
       "      <th>address</th>\n",
       "    </tr>\n",
       "  </thead>\n",
       "  <tbody>\n",
       "    <tr>\n",
       "      <td>17</td>\n",
       "      <td>PZ-LZzSlhSe9utkQYU8pFg</td>\n",
       "      <td>carluccio's tivoli gardens</td>\n",
       "      <td>4.0</td>\n",
       "      <td>40</td>\n",
       "      <td>Restaurants, Italian</td>\n",
       "      <td>2</td>\n",
       "      <td>1775 E Tropicana Ave, Ste 29</td>\n",
       "    </tr>\n",
       "    <tr>\n",
       "      <td>25</td>\n",
       "      <td>tstimHoMcYbkSC4eBA1wEg</td>\n",
       "      <td>maria's mexican restaurant &amp; bakery</td>\n",
       "      <td>4.5</td>\n",
       "      <td>184</td>\n",
       "      <td>Mexican, Restaurants, Patisserie/Cake Shop, Fo...</td>\n",
       "      <td>1</td>\n",
       "      <td>6055 E Lake Mead Blvd</td>\n",
       "    </tr>\n",
       "    <tr>\n",
       "      <td>75</td>\n",
       "      <td>kANF0dbeoW34s2vwh6Umfw</td>\n",
       "      <td>dairy queen</td>\n",
       "      <td>2.0</td>\n",
       "      <td>33</td>\n",
       "      <td>Fast Food, Food, Restaurants, Ice Cream &amp; Froz...</td>\n",
       "      <td>1</td>\n",
       "      <td>6125 Spring Mountain Rd</td>\n",
       "    </tr>\n",
       "    <tr>\n",
       "      <td>135</td>\n",
       "      <td>bJP4l_BGq2CudEu0m-wNjg</td>\n",
       "      <td>artisan fine dining room</td>\n",
       "      <td>2.0</td>\n",
       "      <td>3</td>\n",
       "      <td>Restaurants, Pizza, Italian, American (New)</td>\n",
       "      <td>4</td>\n",
       "      <td>Artisan Hotel, 1501 W Sahara Ave</td>\n",
       "    </tr>\n",
       "    <tr>\n",
       "      <td>173</td>\n",
       "      <td>v7ZFEEqJBg_r8NCwHRP_2A</td>\n",
       "      <td>bistro divino</td>\n",
       "      <td>4.5</td>\n",
       "      <td>3</td>\n",
       "      <td>Food, Pizza, Wine Bars, Bars, Restaurants, Nig...</td>\n",
       "      <td>2</td>\n",
       "      <td>241 W Charleston Blvd</td>\n",
       "    </tr>\n",
       "  </tbody>\n",
       "</table>\n",
       "</div>"
      ],
      "text/plain": [
       "                business_id                                 name  stars  \\\n",
       "17   PZ-LZzSlhSe9utkQYU8pFg           carluccio's tivoli gardens    4.0   \n",
       "25   tstimHoMcYbkSC4eBA1wEg  maria's mexican restaurant & bakery    4.5   \n",
       "75   kANF0dbeoW34s2vwh6Umfw                          dairy queen    2.0   \n",
       "135  bJP4l_BGq2CudEu0m-wNjg             artisan fine dining room    2.0   \n",
       "173  v7ZFEEqJBg_r8NCwHRP_2A                        bistro divino    4.5   \n",
       "\n",
       "     review_count                                         categories  \\\n",
       "17             40                               Restaurants, Italian   \n",
       "25            184  Mexican, Restaurants, Patisserie/Cake Shop, Fo...   \n",
       "75             33  Fast Food, Food, Restaurants, Ice Cream & Froz...   \n",
       "135             3        Restaurants, Pizza, Italian, American (New)   \n",
       "173             3  Food, Pizza, Wine Bars, Bars, Restaurants, Nig...   \n",
       "\n",
       "    attributes.RestaurantsPriceRange2                           address  \n",
       "17                                  2      1775 E Tropicana Ave, Ste 29  \n",
       "25                                  1             6055 E Lake Mead Blvd  \n",
       "75                                  1           6125 Spring Mountain Rd  \n",
       "135                                 4  Artisan Hotel, 1501 W Sahara Ave  \n",
       "173                                 2             241 W Charleston Blvd  "
      ]
     },
     "execution_count": 25,
     "metadata": {},
     "output_type": "execute_result"
    }
   ],
   "source": [
    "# Includes businesses if \"Restaurants\" exist in the \"categoris\" column\n",
    "df_business3 = df_business2[df_business2['categories'].str.contains('Restaurants')]\n",
    "# Clean the restaurant names\n",
    "df_business3.loc[:,'name'] = df_business3.loc[:,'name'].str.lower()\n",
    "df_business3.head()\n",
    "#df_business3.shape"
   ]
  },
  {
   "cell_type": "code",
   "execution_count": 42,
   "metadata": {},
   "outputs": [
    {
     "data": {
      "text/html": [
       "<div>\n",
       "<style scoped>\n",
       "    .dataframe tbody tr th:only-of-type {\n",
       "        vertical-align: middle;\n",
       "    }\n",
       "\n",
       "    .dataframe tbody tr th {\n",
       "        vertical-align: top;\n",
       "    }\n",
       "\n",
       "    .dataframe thead th {\n",
       "        text-align: right;\n",
       "    }\n",
       "</style>\n",
       "<table border=\"1\" class=\"dataframe\">\n",
       "  <thead>\n",
       "    <tr style=\"text-align: right;\">\n",
       "      <th></th>\n",
       "      <th>Serial Number</th>\n",
       "      <th>Permit Number</th>\n",
       "      <th>Restaurant Name</th>\n",
       "      <th>Location Name</th>\n",
       "      <th>Category Name</th>\n",
       "      <th>Address</th>\n",
       "      <th>City</th>\n",
       "      <th>State</th>\n",
       "      <th>Zip</th>\n",
       "      <th>Current Demerits</th>\n",
       "      <th>...</th>\n",
       "      <th>Inspection Time</th>\n",
       "      <th>Employee ID</th>\n",
       "      <th>Inspection Type</th>\n",
       "      <th>Inspection Demerits</th>\n",
       "      <th>Inspection Grade</th>\n",
       "      <th>Permit Status</th>\n",
       "      <th>Inspection Result</th>\n",
       "      <th>Violations</th>\n",
       "      <th>Record Updated</th>\n",
       "      <th>Location 1</th>\n",
       "    </tr>\n",
       "  </thead>\n",
       "  <tbody>\n",
       "    <tr>\n",
       "      <td>148330</td>\n",
       "      <td>DAYI06QJ2</td>\n",
       "      <td>PR0017255</td>\n",
       "      <td>Subway #35507</td>\n",
       "      <td>Subway #35507</td>\n",
       "      <td>Restaurant</td>\n",
       "      <td>6770 N Durango Dr</td>\n",
       "      <td>Las Vegas</td>\n",
       "      <td>Nevada</td>\n",
       "      <td>89149-4497</td>\n",
       "      <td>8</td>\n",
       "      <td>...</td>\n",
       "      <td>12/22/2016 09:30:00 AM</td>\n",
       "      <td>EE7000860</td>\n",
       "      <td>Re-inspection</td>\n",
       "      <td>0</td>\n",
       "      <td>A</td>\n",
       "      <td>A</td>\n",
       "      <td>'A' Grade</td>\n",
       "      <td>2910,2930</td>\n",
       "      <td>12/22/2016 09:46:04 AM</td>\n",
       "      <td>(36.284018, 115.287246)</td>\n",
       "    </tr>\n",
       "    <tr>\n",
       "      <td>148331</td>\n",
       "      <td>DAYI0MOQT</td>\n",
       "      <td>PR0100603</td>\n",
       "      <td>CENTERPLATE CLUB LEVEL RESTAURANT REMOTE SERVI...</td>\n",
       "      <td>CENTERPLATE @ CASHMAN</td>\n",
       "      <td>Caterer</td>\n",
       "      <td>850 N LAS VEGAS</td>\n",
       "      <td>Las Vegas</td>\n",
       "      <td>Nevada</td>\n",
       "      <td>89101</td>\n",
       "      <td>0</td>\n",
       "      <td>...</td>\n",
       "      <td>03/25/2017 11:25:00 AM</td>\n",
       "      <td>EE7001145</td>\n",
       "      <td>Routine Inspection</td>\n",
       "      <td>0</td>\n",
       "      <td>A</td>\n",
       "      <td>A</td>\n",
       "      <td>'A' Grade</td>\n",
       "      <td>NaN</td>\n",
       "      <td>03/25/2017 01:18:42 PM</td>\n",
       "      <td>(36.1800444, 115.131106)</td>\n",
       "    </tr>\n",
       "    <tr>\n",
       "      <td>148332</td>\n",
       "      <td>DAZZG9K1Z</td>\n",
       "      <td>PR0000007</td>\n",
       "      <td>McDonald's Restaurant 31454</td>\n",
       "      <td>McDonald's Restaurant 31454</td>\n",
       "      <td>Restaurant</td>\n",
       "      <td>10590 Southern Highlands Pkwy</td>\n",
       "      <td>Las Vegas</td>\n",
       "      <td>Nevada</td>\n",
       "      <td>89141-4373</td>\n",
       "      <td>3</td>\n",
       "      <td>...</td>\n",
       "      <td>06/02/2017 09:55:00 AM</td>\n",
       "      <td>EE7001088</td>\n",
       "      <td>Routine Inspection</td>\n",
       "      <td>3</td>\n",
       "      <td>A</td>\n",
       "      <td>A</td>\n",
       "      <td>'A' Grade</td>\n",
       "      <td>215,2912</td>\n",
       "      <td>06/02/2017 10:38:42 AM</td>\n",
       "      <td>(35.9972358, 115.2069332)</td>\n",
       "    </tr>\n",
       "    <tr>\n",
       "      <td>148333</td>\n",
       "      <td>DAZZIWEAM</td>\n",
       "      <td>PR0109205</td>\n",
       "      <td>CROMWELL GIADA BAR</td>\n",
       "      <td>CROMWELL LAS VEGAS, THE</td>\n",
       "      <td>Bar / Tavern</td>\n",
       "      <td>3595 S Las Vegas Blvd</td>\n",
       "      <td>Las Vegas</td>\n",
       "      <td>Nevada</td>\n",
       "      <td>89109-8918</td>\n",
       "      <td>0</td>\n",
       "      <td>...</td>\n",
       "      <td>05/23/2017 01:30:00 PM</td>\n",
       "      <td>EE7001108</td>\n",
       "      <td>Routine Inspection</td>\n",
       "      <td>0</td>\n",
       "      <td>A</td>\n",
       "      <td>A</td>\n",
       "      <td>'A' Grade</td>\n",
       "      <td>2928</td>\n",
       "      <td>05/23/2017 02:10:02 PM</td>\n",
       "      <td>(36.1150489, 115.1718307)</td>\n",
       "    </tr>\n",
       "    <tr>\n",
       "      <td>148334</td>\n",
       "      <td>DAZZKMVJT</td>\n",
       "      <td>PR0115611</td>\n",
       "      <td>SBS CONCESSION STAND #11</td>\n",
       "      <td>SAM BOYD STADIUM</td>\n",
       "      <td>Snack Bar</td>\n",
       "      <td>7000 RUSSELL</td>\n",
       "      <td>Las Vegas</td>\n",
       "      <td>Nevada</td>\n",
       "      <td>89122</td>\n",
       "      <td>6</td>\n",
       "      <td>...</td>\n",
       "      <td>02/08/2017 06:10:00 PM</td>\n",
       "      <td>EE7001020</td>\n",
       "      <td>Routine Inspection</td>\n",
       "      <td>6</td>\n",
       "      <td>A</td>\n",
       "      <td>A</td>\n",
       "      <td>'A' Grade</td>\n",
       "      <td>215,2930,2955</td>\n",
       "      <td>02/08/2017 06:43:02 PM</td>\n",
       "      <td>(36.086048, 115.1793068)</td>\n",
       "    </tr>\n",
       "  </tbody>\n",
       "</table>\n",
       "<p>5 rows × 23 columns</p>\n",
       "</div>"
      ],
      "text/plain": [
       "       Serial Number Permit Number  \\\n",
       "148330     DAYI06QJ2     PR0017255   \n",
       "148331     DAYI0MOQT     PR0100603   \n",
       "148332     DAZZG9K1Z     PR0000007   \n",
       "148333     DAZZIWEAM     PR0109205   \n",
       "148334     DAZZKMVJT     PR0115611   \n",
       "\n",
       "                                          Restaurant Name  \\\n",
       "148330                                      Subway #35507   \n",
       "148331  CENTERPLATE CLUB LEVEL RESTAURANT REMOTE SERVI...   \n",
       "148332                        McDonald's Restaurant 31454   \n",
       "148333                                 CROMWELL GIADA BAR   \n",
       "148334                           SBS CONCESSION STAND #11   \n",
       "\n",
       "                      Location Name Category Name  \\\n",
       "148330                Subway #35507    Restaurant   \n",
       "148331        CENTERPLATE @ CASHMAN       Caterer   \n",
       "148332  McDonald's Restaurant 31454    Restaurant   \n",
       "148333      CROMWELL LAS VEGAS, THE  Bar / Tavern   \n",
       "148334             SAM BOYD STADIUM     Snack Bar   \n",
       "\n",
       "                              Address       City   State         Zip  \\\n",
       "148330              6770 N Durango Dr  Las Vegas  Nevada  89149-4497   \n",
       "148331                850 N LAS VEGAS  Las Vegas  Nevada       89101   \n",
       "148332  10590 Southern Highlands Pkwy  Las Vegas  Nevada  89141-4373   \n",
       "148333          3595 S Las Vegas Blvd  Las Vegas  Nevada  89109-8918   \n",
       "148334                   7000 RUSSELL  Las Vegas  Nevada       89122   \n",
       "\n",
       "        Current Demerits  ...         Inspection Time Employee ID  \\\n",
       "148330                 8  ...  12/22/2016 09:30:00 AM   EE7000860   \n",
       "148331                 0  ...  03/25/2017 11:25:00 AM   EE7001145   \n",
       "148332                 3  ...  06/02/2017 09:55:00 AM   EE7001088   \n",
       "148333                 0  ...  05/23/2017 01:30:00 PM   EE7001108   \n",
       "148334                 6  ...  02/08/2017 06:10:00 PM   EE7001020   \n",
       "\n",
       "           Inspection Type Inspection Demerits Inspection Grade Permit Status  \\\n",
       "148330       Re-inspection                   0                A             A   \n",
       "148331  Routine Inspection                   0                A             A   \n",
       "148332  Routine Inspection                   3                A             A   \n",
       "148333  Routine Inspection                   0                A             A   \n",
       "148334  Routine Inspection                   6                A             A   \n",
       "\n",
       "        Inspection Result     Violations          Record Updated  \\\n",
       "148330          'A' Grade      2910,2930  12/22/2016 09:46:04 AM   \n",
       "148331          'A' Grade            NaN  03/25/2017 01:18:42 PM   \n",
       "148332          'A' Grade       215,2912  06/02/2017 10:38:42 AM   \n",
       "148333          'A' Grade           2928  05/23/2017 02:10:02 PM   \n",
       "148334          'A' Grade  215,2930,2955  02/08/2017 06:43:02 PM   \n",
       "\n",
       "                       Location 1  \n",
       "148330    (36.284018, 115.287246)  \n",
       "148331   (36.1800444, 115.131106)  \n",
       "148332  (35.9972358, 115.2069332)  \n",
       "148333  (36.1150489, 115.1718307)  \n",
       "148334   (36.086048, 115.1793068)  \n",
       "\n",
       "[5 rows x 23 columns]"
      ]
     },
     "execution_count": 42,
     "metadata": {},
     "output_type": "execute_result"
    }
   ],
   "source": [
    "# Food inspection data\n",
    "df_inspection.tail(5)"
   ]
  },
  {
   "cell_type": "code",
   "execution_count": 40,
   "metadata": {},
   "outputs": [],
   "source": [
    "# Separate inspection grade beased on year\n",
    "df_inspection_2017 = df_inspection[df_inspection['Record Updated'].str.contains('2017')]\n",
    "df_inspection_2016 = df_inspection[df_inspection['Record Updated'].str.contains('2016')]\n",
    "df_inspection_2015 = df_inspection[df_inspection['Record Updated'].str.contains('2015')]\n",
    "df_inspection_2014 = df_inspection[df_inspection['Record Updated'].str.contains('2014')]\n",
    "df_inspection_2013 = df_inspection[df_inspection['Record Updated'].str.contains('2013')]\n",
    "df_inspection_2012 = df_inspection[df_inspection['Record Updated'].str.contains('2012')]"
   ]
  },
  {
   "cell_type": "code",
   "execution_count": 35,
   "metadata": {},
   "outputs": [
    {
     "data": {
      "text/plain": [
       "(18035, 23)"
      ]
     },
     "execution_count": 35,
     "metadata": {},
     "output_type": "execute_result"
    }
   ],
   "source": [
    "# Check the number of observations per year\n",
    "df_inspection_2017.shape\n",
    "df_inspection_2016.shape\n",
    "df_inspection_2015.shape\n",
    "df_inspection_2014.shape\n",
    "df_inspection_2013.shape\n",
    "df_inspection_2012.shape # Seems like 2012 data in not available"
   ]
  },
  {
   "cell_type": "code",
   "execution_count": 73,
   "metadata": {},
   "outputs": [],
   "source": [
    "# Combine all the inspection throughtout the year\n",
    "df_inspection_2017vr2 = df_inspection_2017.groupby('Address').agg(lambda x: x.tolist()) \n",
    "df_inspection_2016vr2 = df_inspection_2016.groupby('Address').agg(lambda x: x.tolist()) \n",
    "df_inspection_2015vr2 = df_inspection_2015.groupby('Address').agg(lambda x: x.tolist()) \n",
    "df_inspection_2014vr2 = df_inspection_2014.groupby('Address').agg(lambda x: x.tolist()) \n",
    "df_inspection_2013vr2 = df_inspection_2013.groupby('Address').agg(lambda x: x.tolist()) "
   ]
  },
  {
   "cell_type": "code",
   "execution_count": 75,
   "metadata": {},
   "outputs": [],
   "source": [
    "# Take the mode of inspection grade for each inspection throughtout the year\n",
    "from statistics import mode, StatisticsError\n",
    "import random \n",
    "\n",
    "def find_mode(input_list):\n",
    "    try: \n",
    "        x = mode(input_list)\n",
    "    except StatisticsError: # If the list is bimodal, then take a random element \n",
    "        x = random.choice(input_list)\n",
    "    return x\n",
    "        \n",
    "df_inspection_2017vr2['mode'] = df_inspection_2017vr2['Inspection Grade'].apply(find_mode)\n",
    "df_inspection_2016vr2['mode'] = df_inspection_2016vr2['Inspection Grade'].apply(find_mode)\n",
    "df_inspection_2015vr2['mode'] = df_inspection_2015vr2['Inspection Grade'].apply(find_mode)\n",
    "df_inspection_2014vr2['mode'] = df_inspection_2014vr2['Inspection Grade'].apply(find_mode)\n",
    "df_inspection_2013vr2['mode'] = df_inspection_2013vr2['Inspection Grade'].apply(find_mode)"
   ]
  },
  {
   "cell_type": "code",
   "execution_count": 106,
   "metadata": {},
   "outputs": [
    {
     "data": {
      "text/plain": [
       "Index(['Serial Number', 'Permit Number', 'Restaurant Name', 'Location Name',\n",
       "       'Category Name', 'City', 'State', 'Zip', 'Current Demerits',\n",
       "       'Current Grade', 'Date Current', 'Inspection Date', 'Inspection Time',\n",
       "       'Employee ID', 'Inspection Type', 'Inspection Demerits',\n",
       "       'Inspection Grade', 'Permit Status', 'Inspection Result', 'Violations',\n",
       "       'Record Updated', 'Location 1', 'mode', 'address'],\n",
       "      dtype='object')"
      ]
     },
     "execution_count": 106,
     "metadata": {},
     "output_type": "execute_result"
    }
   ],
   "source": [
    "# Index is based on address, make it a column too\n",
    "df_inspection_2017vr2['address'] = df_inspection_2017vr2.index\n",
    "df_inspection_2016vr2['address'] = df_inspection_2016vr2.index\n",
    "df_inspection_2015vr2['address'] = df_inspection_2015vr2.index\n",
    "df_inspection_2014vr2['address'] = df_inspection_2014vr2.index\n",
    "df_inspection_2013vr2['address'] = df_inspection_2013vr2.index\n",
    "df_inspection_2017vr2.columns"
   ]
  },
  {
   "cell_type": "code",
   "execution_count": 107,
   "metadata": {},
   "outputs": [],
   "source": [
    "# Take a  subset of columns \n",
    "df_inspection_2017vr3 = df_inspection_2017vr2.loc[:, ['Restaurant Name', 'mode', 'address']]\n",
    "df_inspection_2016vr3 = df_inspection_2016vr2.loc[:, ['Restaurant Name', 'mode', 'address']]\n",
    "df_inspection_2015vr3 = df_inspection_2015vr2.loc[:, ['Restaurant Name', 'mode', 'address']]\n",
    "df_inspection_2014vr3 = df_inspection_2014vr2.loc[:, ['Restaurant Name', 'mode', 'address']]\n",
    "df_inspection_2013vr3 = df_inspection_2013vr2.loc[:, ['Restaurant Name', 'mode', 'address']]\n",
    "\n",
    "def pick_one(input_list):\n",
    "    x = random.choice(input_list)\n",
    "    return x\n",
    "\n",
    "# \"Restaurant Name\" is a list, pick one name (the list presumably is made of the same name)\n",
    "df_inspection_2017vr3['Restaurant Name'] = df_inspection_2017vr3['Restaurant Name'].apply(pick_one)\n",
    "df_inspection_2016vr3['Restaurant Name'] = df_inspection_2016vr3['Restaurant Name'].apply(pick_one)\n",
    "df_inspection_2015vr3['Restaurant Name'] = df_inspection_2015vr3['Restaurant Name'].apply(pick_one)\n",
    "df_inspection_2014vr3['Restaurant Name'] = df_inspection_2014vr3['Restaurant Name'].apply(pick_one)\n",
    "df_inspection_2013vr3['Restaurant Name'] = df_inspection_2013vr3['Restaurant Name'].apply(pick_one)"
   ]
  },
  {
   "cell_type": "code",
   "execution_count": 109,
   "metadata": {},
   "outputs": [
    {
     "data": {
      "text/html": [
       "<div>\n",
       "<style scoped>\n",
       "    .dataframe tbody tr th:only-of-type {\n",
       "        vertical-align: middle;\n",
       "    }\n",
       "\n",
       "    .dataframe tbody tr th {\n",
       "        vertical-align: top;\n",
       "    }\n",
       "\n",
       "    .dataframe thead th {\n",
       "        text-align: right;\n",
       "    }\n",
       "</style>\n",
       "<table border=\"1\" class=\"dataframe\">\n",
       "  <thead>\n",
       "    <tr style=\"text-align: right;\">\n",
       "      <th></th>\n",
       "      <th>Restaurant Name</th>\n",
       "      <th>mode</th>\n",
       "      <th>address</th>\n",
       "    </tr>\n",
       "    <tr>\n",
       "      <th>Address</th>\n",
       "      <th></th>\n",
       "      <th></th>\n",
       "      <th></th>\n",
       "    </tr>\n",
       "  </thead>\n",
       "  <tbody>\n",
       "    <tr>\n",
       "      <td>#1 Main St</td>\n",
       "      <td>Gold Strike New Steak House</td>\n",
       "      <td>A</td>\n",
       "      <td>#1 Main St</td>\n",
       "    </tr>\n",
       "    <tr>\n",
       "      <td>1 Bonnie Springs Rd</td>\n",
       "      <td>Bonnie Springs Ranch Restaurant</td>\n",
       "      <td>A</td>\n",
       "      <td>1 Bonnie Springs Rd</td>\n",
       "    </tr>\n",
       "    <tr>\n",
       "      <td>1 Cascata Way</td>\n",
       "      <td>Cascata Golf Club Restaurant</td>\n",
       "      <td>A</td>\n",
       "      <td>1 Cascata Way</td>\n",
       "    </tr>\n",
       "    <tr>\n",
       "      <td>1 Club Side Dr</td>\n",
       "      <td>Anthem Country Club Snack Bar</td>\n",
       "      <td>A</td>\n",
       "      <td>1 Club Side Dr</td>\n",
       "    </tr>\n",
       "    <tr>\n",
       "      <td>1 Clubhouse Dr</td>\n",
       "      <td>Tony's Pro Shop Bar</td>\n",
       "      <td>A</td>\n",
       "      <td>1 Clubhouse Dr</td>\n",
       "    </tr>\n",
       "  </tbody>\n",
       "</table>\n",
       "</div>"
      ],
      "text/plain": [
       "                                     Restaurant Name mode              address\n",
       "Address                                                                       \n",
       "#1 Main St               Gold Strike New Steak House    A           #1 Main St\n",
       "1 Bonnie Springs Rd  Bonnie Springs Ranch Restaurant    A  1 Bonnie Springs Rd\n",
       "1 Cascata Way           Cascata Golf Club Restaurant    A        1 Cascata Way\n",
       "1 Club Side Dr         Anthem Country Club Snack Bar    A       1 Club Side Dr\n",
       "1 Clubhouse Dr                   Tony's Pro Shop Bar    A       1 Clubhouse Dr"
      ]
     },
     "execution_count": 109,
     "metadata": {},
     "output_type": "execute_result"
    }
   ],
   "source": [
    "df_inspection_2016vr3.head()"
   ]
  },
  {
   "cell_type": "code",
   "execution_count": 115,
   "metadata": {},
   "outputs": [],
   "source": [
    "# Merge inspection from each year\n",
    "df_inspection_year = pd.merge(df_inspection_2017vr3, df_inspection_2016vr3, on = 'address')"
   ]
  },
  {
   "cell_type": "code",
   "execution_count": 117,
   "metadata": {},
   "outputs": [
    {
     "data": {
      "text/html": [
       "<div>\n",
       "<style scoped>\n",
       "    .dataframe tbody tr th:only-of-type {\n",
       "        vertical-align: middle;\n",
       "    }\n",
       "\n",
       "    .dataframe tbody tr th {\n",
       "        vertical-align: top;\n",
       "    }\n",
       "\n",
       "    .dataframe thead th {\n",
       "        text-align: right;\n",
       "    }\n",
       "</style>\n",
       "<table border=\"1\" class=\"dataframe\">\n",
       "  <thead>\n",
       "    <tr style=\"text-align: right;\">\n",
       "      <th></th>\n",
       "      <th>name</th>\n",
       "      <th>2017</th>\n",
       "      <th>address</th>\n",
       "      <th>2016</th>\n",
       "    </tr>\n",
       "  </thead>\n",
       "  <tbody>\n",
       "    <tr>\n",
       "      <td>0</td>\n",
       "      <td>Gold Strike Main Bar - Stage Bar</td>\n",
       "      <td>A</td>\n",
       "      <td>#1 Main St</td>\n",
       "      <td>A</td>\n",
       "    </tr>\n",
       "    <tr>\n",
       "      <td>1</td>\n",
       "      <td>Bonnie Springs Saloon</td>\n",
       "      <td>A</td>\n",
       "      <td>1 Bonnie Springs Rd</td>\n",
       "      <td>A</td>\n",
       "    </tr>\n",
       "    <tr>\n",
       "      <td>2</td>\n",
       "      <td>Cascata Golf Course Cart #2</td>\n",
       "      <td>A</td>\n",
       "      <td>1 Cascata Way</td>\n",
       "      <td>A</td>\n",
       "    </tr>\n",
       "    <tr>\n",
       "      <td>3</td>\n",
       "      <td>Anthem Country Club Clubhouse Restaurant</td>\n",
       "      <td>A</td>\n",
       "      <td>1 Club Side Dr</td>\n",
       "      <td>A</td>\n",
       "    </tr>\n",
       "    <tr>\n",
       "      <td>4</td>\n",
       "      <td>Tony's Pro Shop 15th Snack Shack</td>\n",
       "      <td>A</td>\n",
       "      <td>1 Clubhouse Dr</td>\n",
       "      <td>A</td>\n",
       "    </tr>\n",
       "  </tbody>\n",
       "</table>\n",
       "</div>"
      ],
      "text/plain": [
       "                                       name 2017              address 2016\n",
       "0          Gold Strike Main Bar - Stage Bar    A           #1 Main St    A\n",
       "1                     Bonnie Springs Saloon    A  1 Bonnie Springs Rd    A\n",
       "2               Cascata Golf Course Cart #2    A        1 Cascata Way    A\n",
       "3  Anthem Country Club Clubhouse Restaurant    A       1 Club Side Dr    A\n",
       "4          Tony's Pro Shop 15th Snack Shack    A       1 Clubhouse Dr    A"
      ]
     },
     "execution_count": 117,
     "metadata": {},
     "output_type": "execute_result"
    }
   ],
   "source": [
    "df_inspection_year = df_inspection_year.drop(columns=['Restaurant Name_y'])\n",
    "df_inspection_year = df_inspection_year.rename(columns={\"Restaurant Name_x\": \"name\", \"mode_x\": \"2017\", \n",
    "                                                        \"mode_y\": \"2016\"})\n"
   ]
  },
  {
   "cell_type": "code",
   "execution_count": 145,
   "metadata": {},
   "outputs": [
    {
     "data": {
      "text/html": [
       "<div>\n",
       "<style scoped>\n",
       "    .dataframe tbody tr th:only-of-type {\n",
       "        vertical-align: middle;\n",
       "    }\n",
       "\n",
       "    .dataframe tbody tr th {\n",
       "        vertical-align: top;\n",
       "    }\n",
       "\n",
       "    .dataframe thead th {\n",
       "        text-align: right;\n",
       "    }\n",
       "</style>\n",
       "<table border=\"1\" class=\"dataframe\">\n",
       "  <thead>\n",
       "    <tr style=\"text-align: right;\">\n",
       "      <th></th>\n",
       "      <th>name</th>\n",
       "      <th>2017</th>\n",
       "      <th>address</th>\n",
       "      <th>2016</th>\n",
       "      <th>Restaurant Name</th>\n",
       "      <th>mode</th>\n",
       "    </tr>\n",
       "  </thead>\n",
       "  <tbody>\n",
       "    <tr>\n",
       "      <td>0</td>\n",
       "      <td>Gold Strike Main Bar - Stage Bar</td>\n",
       "      <td>A</td>\n",
       "      <td>#1 Main St</td>\n",
       "      <td>A</td>\n",
       "      <td>Gold Strike Steakhouse Service Bar</td>\n",
       "      <td>A</td>\n",
       "    </tr>\n",
       "    <tr>\n",
       "      <td>1</td>\n",
       "      <td>Bonnie Springs Saloon</td>\n",
       "      <td>A</td>\n",
       "      <td>1 Bonnie Springs Rd</td>\n",
       "      <td>A</td>\n",
       "      <td>BONNIE SPRINGS SALOON SUPP KITCHEN</td>\n",
       "      <td>A</td>\n",
       "    </tr>\n",
       "    <tr>\n",
       "      <td>2</td>\n",
       "      <td>Cascata Golf Course Cart #2</td>\n",
       "      <td>A</td>\n",
       "      <td>1 Cascata Way</td>\n",
       "      <td>A</td>\n",
       "      <td>Cascata Golf Club Bar</td>\n",
       "      <td>A</td>\n",
       "    </tr>\n",
       "    <tr>\n",
       "      <td>3</td>\n",
       "      <td>Anthem Country Club Clubhouse Restaurant</td>\n",
       "      <td>A</td>\n",
       "      <td>1 Club Side Dr</td>\n",
       "      <td>A</td>\n",
       "      <td>Anthem Country Club Clubhouse Restaurant</td>\n",
       "      <td>A</td>\n",
       "    </tr>\n",
       "    <tr>\n",
       "      <td>4</td>\n",
       "      <td>Tony's Pro Shop 15th Snack Shack</td>\n",
       "      <td>A</td>\n",
       "      <td>1 Clubhouse Dr</td>\n",
       "      <td>A</td>\n",
       "      <td>Tony's Pro Shop Snack Bar</td>\n",
       "      <td>A</td>\n",
       "    </tr>\n",
       "  </tbody>\n",
       "</table>\n",
       "</div>"
      ],
      "text/plain": [
       "                                       name 2017              address 2016  \\\n",
       "0          Gold Strike Main Bar - Stage Bar    A           #1 Main St    A   \n",
       "1                     Bonnie Springs Saloon    A  1 Bonnie Springs Rd    A   \n",
       "2               Cascata Golf Course Cart #2    A        1 Cascata Way    A   \n",
       "3  Anthem Country Club Clubhouse Restaurant    A       1 Club Side Dr    A   \n",
       "4          Tony's Pro Shop 15th Snack Shack    A       1 Clubhouse Dr    A   \n",
       "\n",
       "                            Restaurant Name mode  \n",
       "0        Gold Strike Steakhouse Service Bar    A  \n",
       "1        BONNIE SPRINGS SALOON SUPP KITCHEN    A  \n",
       "2                     Cascata Golf Club Bar    A  \n",
       "3  Anthem Country Club Clubhouse Restaurant    A  \n",
       "4                 Tony's Pro Shop Snack Bar    A  "
      ]
     },
     "execution_count": 145,
     "metadata": {},
     "output_type": "execute_result"
    }
   ],
   "source": [
    "df_inspection_year_2 = pd.merge(df_inspection_year, df_inspection_2015vr3, on = 'address')\n",
    "df_inspection_year_2.head()"
   ]
  },
  {
   "cell_type": "code",
   "execution_count": 146,
   "metadata": {},
   "outputs": [
    {
     "data": {
      "text/html": [
       "<div>\n",
       "<style scoped>\n",
       "    .dataframe tbody tr th:only-of-type {\n",
       "        vertical-align: middle;\n",
       "    }\n",
       "\n",
       "    .dataframe tbody tr th {\n",
       "        vertical-align: top;\n",
       "    }\n",
       "\n",
       "    .dataframe thead th {\n",
       "        text-align: right;\n",
       "    }\n",
       "</style>\n",
       "<table border=\"1\" class=\"dataframe\">\n",
       "  <thead>\n",
       "    <tr style=\"text-align: right;\">\n",
       "      <th></th>\n",
       "      <th>name</th>\n",
       "      <th>2017</th>\n",
       "      <th>address</th>\n",
       "      <th>2016</th>\n",
       "      <th>2015</th>\n",
       "    </tr>\n",
       "  </thead>\n",
       "  <tbody>\n",
       "    <tr>\n",
       "      <td>0</td>\n",
       "      <td>Gold Strike Main Bar - Stage Bar</td>\n",
       "      <td>A</td>\n",
       "      <td>#1 Main St</td>\n",
       "      <td>A</td>\n",
       "      <td>A</td>\n",
       "    </tr>\n",
       "    <tr>\n",
       "      <td>1</td>\n",
       "      <td>Bonnie Springs Saloon</td>\n",
       "      <td>A</td>\n",
       "      <td>1 Bonnie Springs Rd</td>\n",
       "      <td>A</td>\n",
       "      <td>A</td>\n",
       "    </tr>\n",
       "    <tr>\n",
       "      <td>2</td>\n",
       "      <td>Cascata Golf Course Cart #2</td>\n",
       "      <td>A</td>\n",
       "      <td>1 Cascata Way</td>\n",
       "      <td>A</td>\n",
       "      <td>A</td>\n",
       "    </tr>\n",
       "    <tr>\n",
       "      <td>3</td>\n",
       "      <td>Anthem Country Club Clubhouse Restaurant</td>\n",
       "      <td>A</td>\n",
       "      <td>1 Club Side Dr</td>\n",
       "      <td>A</td>\n",
       "      <td>A</td>\n",
       "    </tr>\n",
       "    <tr>\n",
       "      <td>4</td>\n",
       "      <td>Tony's Pro Shop 15th Snack Shack</td>\n",
       "      <td>A</td>\n",
       "      <td>1 Clubhouse Dr</td>\n",
       "      <td>A</td>\n",
       "      <td>A</td>\n",
       "    </tr>\n",
       "  </tbody>\n",
       "</table>\n",
       "</div>"
      ],
      "text/plain": [
       "                                       name 2017              address 2016  \\\n",
       "0          Gold Strike Main Bar - Stage Bar    A           #1 Main St    A   \n",
       "1                     Bonnie Springs Saloon    A  1 Bonnie Springs Rd    A   \n",
       "2               Cascata Golf Course Cart #2    A        1 Cascata Way    A   \n",
       "3  Anthem Country Club Clubhouse Restaurant    A       1 Club Side Dr    A   \n",
       "4          Tony's Pro Shop 15th Snack Shack    A       1 Clubhouse Dr    A   \n",
       "\n",
       "  2015  \n",
       "0    A  \n",
       "1    A  \n",
       "2    A  \n",
       "3    A  \n",
       "4    A  "
      ]
     },
     "execution_count": 146,
     "metadata": {},
     "output_type": "execute_result"
    }
   ],
   "source": [
    "df_inspection_year_2 = df_inspection_year_2.drop(columns=['Restaurant Name'])\n",
    "df_inspection_year_2 = df_inspection_year_2.rename(columns={\"mode\": \"2015\"})\n",
    "df_inspection_year_2.head()"
   ]
  },
  {
   "cell_type": "code",
   "execution_count": 147,
   "metadata": {},
   "outputs": [
    {
     "data": {
      "text/html": [
       "<div>\n",
       "<style scoped>\n",
       "    .dataframe tbody tr th:only-of-type {\n",
       "        vertical-align: middle;\n",
       "    }\n",
       "\n",
       "    .dataframe tbody tr th {\n",
       "        vertical-align: top;\n",
       "    }\n",
       "\n",
       "    .dataframe thead th {\n",
       "        text-align: right;\n",
       "    }\n",
       "</style>\n",
       "<table border=\"1\" class=\"dataframe\">\n",
       "  <thead>\n",
       "    <tr style=\"text-align: right;\">\n",
       "      <th></th>\n",
       "      <th>name</th>\n",
       "      <th>2017</th>\n",
       "      <th>address</th>\n",
       "      <th>2016</th>\n",
       "      <th>2015</th>\n",
       "      <th>2014</th>\n",
       "    </tr>\n",
       "  </thead>\n",
       "  <tbody>\n",
       "    <tr>\n",
       "      <td>0</td>\n",
       "      <td>Gold Strike Main Bar - Stage Bar</td>\n",
       "      <td>A</td>\n",
       "      <td>#1 Main St</td>\n",
       "      <td>A</td>\n",
       "      <td>A</td>\n",
       "      <td>A</td>\n",
       "    </tr>\n",
       "    <tr>\n",
       "      <td>1</td>\n",
       "      <td>Bonnie Springs Saloon</td>\n",
       "      <td>A</td>\n",
       "      <td>1 Bonnie Springs Rd</td>\n",
       "      <td>A</td>\n",
       "      <td>A</td>\n",
       "      <td>A</td>\n",
       "    </tr>\n",
       "    <tr>\n",
       "      <td>2</td>\n",
       "      <td>Cascata Golf Course Cart #2</td>\n",
       "      <td>A</td>\n",
       "      <td>1 Cascata Way</td>\n",
       "      <td>A</td>\n",
       "      <td>A</td>\n",
       "      <td>A</td>\n",
       "    </tr>\n",
       "    <tr>\n",
       "      <td>3</td>\n",
       "      <td>Anthem Country Club Clubhouse Restaurant</td>\n",
       "      <td>A</td>\n",
       "      <td>1 Club Side Dr</td>\n",
       "      <td>A</td>\n",
       "      <td>A</td>\n",
       "      <td>A</td>\n",
       "    </tr>\n",
       "    <tr>\n",
       "      <td>4</td>\n",
       "      <td>Tony's Pro Shop 15th Snack Shack</td>\n",
       "      <td>A</td>\n",
       "      <td>1 Clubhouse Dr</td>\n",
       "      <td>A</td>\n",
       "      <td>A</td>\n",
       "      <td>A</td>\n",
       "    </tr>\n",
       "  </tbody>\n",
       "</table>\n",
       "</div>"
      ],
      "text/plain": [
       "                                       name 2017              address 2016  \\\n",
       "0          Gold Strike Main Bar - Stage Bar    A           #1 Main St    A   \n",
       "1                     Bonnie Springs Saloon    A  1 Bonnie Springs Rd    A   \n",
       "2               Cascata Golf Course Cart #2    A        1 Cascata Way    A   \n",
       "3  Anthem Country Club Clubhouse Restaurant    A       1 Club Side Dr    A   \n",
       "4          Tony's Pro Shop 15th Snack Shack    A       1 Clubhouse Dr    A   \n",
       "\n",
       "  2015 2014  \n",
       "0    A    A  \n",
       "1    A    A  \n",
       "2    A    A  \n",
       "3    A    A  \n",
       "4    A    A  "
      ]
     },
     "execution_count": 147,
     "metadata": {},
     "output_type": "execute_result"
    }
   ],
   "source": [
    "df_inspection_year_3 = pd.merge(df_inspection_year_2, df_inspection_2014vr3, on = 'address')\n",
    "df_inspection_year_3 = df_inspection_year_3.drop(columns=['Restaurant Name'])\n",
    "df_inspection_year_3 = df_inspection_year_3.rename(columns={\"mode\": \"2014\"})\n",
    "df_inspection_year_3.head()"
   ]
  },
  {
   "cell_type": "code",
   "execution_count": 148,
   "metadata": {},
   "outputs": [
    {
     "data": {
      "text/html": [
       "<div>\n",
       "<style scoped>\n",
       "    .dataframe tbody tr th:only-of-type {\n",
       "        vertical-align: middle;\n",
       "    }\n",
       "\n",
       "    .dataframe tbody tr th {\n",
       "        vertical-align: top;\n",
       "    }\n",
       "\n",
       "    .dataframe thead th {\n",
       "        text-align: right;\n",
       "    }\n",
       "</style>\n",
       "<table border=\"1\" class=\"dataframe\">\n",
       "  <thead>\n",
       "    <tr style=\"text-align: right;\">\n",
       "      <th></th>\n",
       "      <th>name</th>\n",
       "      <th>2017</th>\n",
       "      <th>address</th>\n",
       "      <th>2016</th>\n",
       "      <th>2015</th>\n",
       "      <th>2014</th>\n",
       "      <th>2013</th>\n",
       "    </tr>\n",
       "  </thead>\n",
       "  <tbody>\n",
       "    <tr>\n",
       "      <td>0</td>\n",
       "      <td>Gold Strike Main Bar - Stage Bar</td>\n",
       "      <td>A</td>\n",
       "      <td>#1 Main St</td>\n",
       "      <td>A</td>\n",
       "      <td>A</td>\n",
       "      <td>A</td>\n",
       "      <td>A</td>\n",
       "    </tr>\n",
       "    <tr>\n",
       "      <td>1</td>\n",
       "      <td>Bonnie Springs Saloon</td>\n",
       "      <td>A</td>\n",
       "      <td>1 Bonnie Springs Rd</td>\n",
       "      <td>A</td>\n",
       "      <td>A</td>\n",
       "      <td>A</td>\n",
       "      <td>A</td>\n",
       "    </tr>\n",
       "    <tr>\n",
       "      <td>2</td>\n",
       "      <td>Cascata Golf Course Cart #2</td>\n",
       "      <td>A</td>\n",
       "      <td>1 Cascata Way</td>\n",
       "      <td>A</td>\n",
       "      <td>A</td>\n",
       "      <td>A</td>\n",
       "      <td>A</td>\n",
       "    </tr>\n",
       "    <tr>\n",
       "      <td>3</td>\n",
       "      <td>Anthem Country Club Clubhouse Restaurant</td>\n",
       "      <td>A</td>\n",
       "      <td>1 Club Side Dr</td>\n",
       "      <td>A</td>\n",
       "      <td>A</td>\n",
       "      <td>A</td>\n",
       "      <td>A</td>\n",
       "    </tr>\n",
       "    <tr>\n",
       "      <td>4</td>\n",
       "      <td>Tony's Pro Shop 15th Snack Shack</td>\n",
       "      <td>A</td>\n",
       "      <td>1 Clubhouse Dr</td>\n",
       "      <td>A</td>\n",
       "      <td>A</td>\n",
       "      <td>A</td>\n",
       "      <td>A</td>\n",
       "    </tr>\n",
       "  </tbody>\n",
       "</table>\n",
       "</div>"
      ],
      "text/plain": [
       "                                       name 2017              address 2016  \\\n",
       "0          Gold Strike Main Bar - Stage Bar    A           #1 Main St    A   \n",
       "1                     Bonnie Springs Saloon    A  1 Bonnie Springs Rd    A   \n",
       "2               Cascata Golf Course Cart #2    A        1 Cascata Way    A   \n",
       "3  Anthem Country Club Clubhouse Restaurant    A       1 Club Side Dr    A   \n",
       "4          Tony's Pro Shop 15th Snack Shack    A       1 Clubhouse Dr    A   \n",
       "\n",
       "  2015 2014 2013  \n",
       "0    A    A    A  \n",
       "1    A    A    A  \n",
       "2    A    A    A  \n",
       "3    A    A    A  \n",
       "4    A    A    A  "
      ]
     },
     "execution_count": 148,
     "metadata": {},
     "output_type": "execute_result"
    }
   ],
   "source": [
    "df_inspection_year_4 = pd.merge(df_inspection_year_3, df_inspection_2013vr3, on = 'address')\n",
    "df_inspection_year_4 = df_inspection_year_4.drop(columns=['Restaurant Name'])\n",
    "df_inspection_year_4 = df_inspection_year_4.rename(columns={\"mode\": \"2013\"})\n",
    "df_inspection_year_4.head()"
   ]
  },
  {
   "cell_type": "code",
   "execution_count": 159,
   "metadata": {},
   "outputs": [
    {
     "data": {
      "text/plain": [
       "Index(['business_id', 'compliment_count', 'date', 'user_id', 'text',\n",
       "       'text_all', 'text_clean', 'name', 'stars', 'review_count', 'categories',\n",
       "       'attributes.RestaurantsPriceRange2', 'address'],\n",
       "      dtype='object')"
      ]
     },
     "execution_count": 159,
     "metadata": {},
     "output_type": "execute_result"
    }
   ],
   "source": [
    "# Join business dataset with df_tip2\n",
    "#df_business3\n",
    "#df_tip2['text_clean']\n",
    "df_customer = pd.merge(df_tip2, df_business3, on = 'business_id')\n",
    "df_customer.columns"
   ]
  },
  {
   "cell_type": "code",
   "execution_count": 160,
   "metadata": {},
   "outputs": [],
   "source": [
    "# Join df_customer with df_inspection_year_4\n",
    "df_inspection_year_4['name'] = df_inspection_year_4['name'].str.lower()\n",
    "df_customer['name'] = df_customer['name'].str.lower()\n",
    "df_all = pd.merge(df_inspection_year_4, df_customer, on = 'name')"
   ]
  },
  {
   "cell_type": "code",
   "execution_count": 161,
   "metadata": {},
   "outputs": [
    {
     "data": {
      "text/plain": [
       "(4002, 19)"
      ]
     },
     "execution_count": 161,
     "metadata": {},
     "output_type": "execute_result"
    }
   ],
   "source": [
    "df_all.shape"
   ]
  },
  {
   "cell_type": "code",
   "execution_count": 164,
   "metadata": {},
   "outputs": [
    {
     "data": {
      "text/plain": [
       "(4002, 19)"
      ]
     },
     "execution_count": 164,
     "metadata": {},
     "output_type": "execute_result"
    }
   ],
   "source": [
    "df_all.shape"
   ]
  },
  {
   "cell_type": "code",
   "execution_count": 163,
   "metadata": {},
   "outputs": [
    {
     "data": {
      "text/plain": [
       "Index(['name', '2017', 'address_x', '2016', '2015', '2014', '2013',\n",
       "       'business_id', 'compliment_count', 'date', 'user_id', 'text',\n",
       "       'text_all', 'text_clean', 'stars', 'review_count', 'categories',\n",
       "       'attributes.RestaurantsPriceRange2', 'address_y'],\n",
       "      dtype='object')"
      ]
     },
     "execution_count": 163,
     "metadata": {},
     "output_type": "execute_result"
    }
   ],
   "source": [
    "df_all.columns"
   ]
  },
  {
   "cell_type": "code",
   "execution_count": 165,
   "metadata": {},
   "outputs": [],
   "source": [
    "# Word2vec model\n",
    "#model = Word2Vec(df_all['text_clean'], size = 100, window=5, min_count=1, workers=4)\n",
    "#model.save(\"word2vec.model\")"
   ]
  },
  {
   "cell_type": "code",
   "execution_count": 229,
   "metadata": {},
   "outputs": [
    {
     "name": "stdout",
     "output_type": "stream",
     "text": [
      "Cosine similarity between '1st' and '2nd':  0.859968637427287\n"
     ]
    },
    {
     "name": "stderr",
     "output_type": "stream",
     "text": [
      "/Users/kristenboyle/anaconda3/envs/food_venv/lib/python3.7/site-packages/ipykernel_launcher.py:3: DeprecationWarning: Call to deprecated `n_similarity` (Method will be removed in 4.0.0, use self.wv.n_similarity() instead).\n",
      "  This is separate from the ipykernel package so we can avoid doing imports until\n"
     ]
    }
   ],
   "source": [
    "# Predict the similarity between words based on the Word2vec model\n",
    "#print(\"Cosine similarity between '1st' \" + \"and '2nd': \", \n",
    " #     model.n_similarity(['clean', 'apple'], ['food', 'clean']))"
   ]
  },
  {
   "cell_type": "code",
   "execution_count": 240,
   "metadata": {},
   "outputs": [
    {
     "data": {
      "text/plain": [
       "0    [stopped, lunch, older, lady, greeting, custom...\n",
       "1    [charge, rice, lunch, buffet, monday, saturday...\n",
       "2    [found, place, accident, good, food, service, ...\n",
       "3    [drive, thru, yes, homeless, guy, hangs, drive...\n",
       "4    [carne, asada, super, nachos, bizness, cent, c...\n",
       "Name: text_clean, dtype: object"
      ]
     },
     "execution_count": 240,
     "metadata": {},
     "output_type": "execute_result"
    }
   ],
   "source": [
    "#df_temp = df_all[df_all['text_all'].str.contains('roaches')] \n",
    "#df_temp['text_all'].head(100)\n",
    "#df_temp.to_csv('/Users/kristenboyle/Documents/food_project/check.csv')\n",
    "df_all['text_clean'].head()"
   ]
  },
  {
   "cell_type": "code",
   "execution_count": 326,
   "metadata": {},
   "outputs": [
    {
     "data": {
      "text/html": [
       "<div>\n",
       "<style scoped>\n",
       "    .dataframe tbody tr th:only-of-type {\n",
       "        vertical-align: middle;\n",
       "    }\n",
       "\n",
       "    .dataframe tbody tr th {\n",
       "        vertical-align: top;\n",
       "    }\n",
       "\n",
       "    .dataframe thead th {\n",
       "        text-align: right;\n",
       "    }\n",
       "</style>\n",
       "<table border=\"1\" class=\"dataframe\">\n",
       "  <thead>\n",
       "    <tr style=\"text-align: right;\">\n",
       "      <th></th>\n",
       "      <th>text_clean</th>\n",
       "    </tr>\n",
       "  </thead>\n",
       "  <tbody>\n",
       "    <tr>\n",
       "      <td>0</td>\n",
       "      <td>[illness, nausea, vomit, vomitting, diarrhea, ...</td>\n",
       "    </tr>\n",
       "  </tbody>\n",
       "</table>\n",
       "</div>"
      ],
      "text/plain": [
       "                                          text_clean\n",
       "0  [illness, nausea, vomit, vomitting, diarrhea, ..."
      ]
     },
     "execution_count": 326,
     "metadata": {},
     "output_type": "execute_result"
    }
   ],
   "source": [
    "negative_words = pd.read_csv('/Users/kristenboyle/Documents/food_project/negative_words.csv', header = None)\n",
    "negative_words_list = negative_words.iloc[:, 0].tolist()\n",
    "negative_words_list[0:5]\n",
    "df_negative = pd.DataFrame({'text_clean': [negative_words_list]})\n",
    "df_negative"
   ]
  },
  {
   "cell_type": "code",
   "execution_count": 294,
   "metadata": {},
   "outputs": [
    {
     "data": {
      "text/html": [
       "<div>\n",
       "<style scoped>\n",
       "    .dataframe tbody tr th:only-of-type {\n",
       "        vertical-align: middle;\n",
       "    }\n",
       "\n",
       "    .dataframe tbody tr th {\n",
       "        vertical-align: top;\n",
       "    }\n",
       "\n",
       "    .dataframe thead th {\n",
       "        text-align: right;\n",
       "    }\n",
       "</style>\n",
       "<table border=\"1\" class=\"dataframe\">\n",
       "  <thead>\n",
       "    <tr style=\"text-align: right;\">\n",
       "      <th></th>\n",
       "      <th>text_clean</th>\n",
       "      <th>text_all</th>\n",
       "    </tr>\n",
       "  </thead>\n",
       "  <tbody>\n",
       "    <tr>\n",
       "      <td>0</td>\n",
       "      <td>[stopped, lunch, older, lady, greeting, custom...</td>\n",
       "      <td>I stopped in here for lunch, but the older lad...</td>\n",
       "    </tr>\n",
       "    <tr>\n",
       "      <td>1</td>\n",
       "      <td>[charge, rice, lunch, buffet, monday, saturday...</td>\n",
       "      <td>They charge $2 for rice!;Lunch buffet Monday -...</td>\n",
       "    </tr>\n",
       "    <tr>\n",
       "      <td>2</td>\n",
       "      <td>[found, place, accident, good, food, service, ...</td>\n",
       "      <td>Found this place by accident. Good food and se...</td>\n",
       "    </tr>\n",
       "    <tr>\n",
       "      <td>3</td>\n",
       "      <td>[drive, thru, yes, homeless, guy, hangs, drive...</td>\n",
       "      <td>Has a drive thru! Yes! But there's a homeless ...</td>\n",
       "    </tr>\n",
       "    <tr>\n",
       "      <td>4</td>\n",
       "      <td>[carne, asada, super, nachos, bizness, cent, c...</td>\n",
       "      <td>The carne asada super nachos.are the bizness!;...</td>\n",
       "    </tr>\n",
       "  </tbody>\n",
       "</table>\n",
       "</div>"
      ],
      "text/plain": [
       "                                          text_clean  \\\n",
       "0  [stopped, lunch, older, lady, greeting, custom...   \n",
       "1  [charge, rice, lunch, buffet, monday, saturday...   \n",
       "2  [found, place, accident, good, food, service, ...   \n",
       "3  [drive, thru, yes, homeless, guy, hangs, drive...   \n",
       "4  [carne, asada, super, nachos, bizness, cent, c...   \n",
       "\n",
       "                                            text_all  \n",
       "0  I stopped in here for lunch, but the older lad...  \n",
       "1  They charge $2 for rice!;Lunch buffet Monday -...  \n",
       "2  Found this place by accident. Good food and se...  \n",
       "3  Has a drive thru! Yes! But there's a homeless ...  \n",
       "4  The carne asada super nachos.are the bizness!;...  "
      ]
     },
     "execution_count": 294,
     "metadata": {},
     "output_type": "execute_result"
    }
   ],
   "source": [
    "# Create series of text_all including the negative words (last row) to put it in the word2vec\n",
    "df_text = df_all.loc[:,['text_clean', 'text_all']]\n",
    "#text.columns = ['text_clean']\n",
    "df_text.head()"
   ]
  },
  {
   "cell_type": "code",
   "execution_count": 296,
   "metadata": {},
   "outputs": [
    {
     "name": "stderr",
     "output_type": "stream",
     "text": [
      "/Users/kristenboyle/anaconda3/envs/food_venv/lib/python3.7/site-packages/pandas/core/frame.py:7123: FutureWarning: Sorting because non-concatenation axis is not aligned. A future version\n",
      "of pandas will change to not sort by default.\n",
      "\n",
      "To accept the future behavior, pass 'sort=False'.\n",
      "\n",
      "To retain the current behavior and silence the warning, pass 'sort=True'.\n",
      "\n",
      "  sort=sort,\n"
     ]
    },
    {
     "data": {
      "text/html": [
       "<div>\n",
       "<style scoped>\n",
       "    .dataframe tbody tr th:only-of-type {\n",
       "        vertical-align: middle;\n",
       "    }\n",
       "\n",
       "    .dataframe tbody tr th {\n",
       "        vertical-align: top;\n",
       "    }\n",
       "\n",
       "    .dataframe thead th {\n",
       "        text-align: right;\n",
       "    }\n",
       "</style>\n",
       "<table border=\"1\" class=\"dataframe\">\n",
       "  <thead>\n",
       "    <tr style=\"text-align: right;\">\n",
       "      <th></th>\n",
       "      <th>text_all</th>\n",
       "      <th>text_clean</th>\n",
       "    </tr>\n",
       "  </thead>\n",
       "  <tbody>\n",
       "    <tr>\n",
       "      <td>0</td>\n",
       "      <td>I stopped in here for lunch, but the older lad...</td>\n",
       "      <td>[stopped, lunch, older, lady, greeting, custom...</td>\n",
       "    </tr>\n",
       "    <tr>\n",
       "      <td>1</td>\n",
       "      <td>They charge $2 for rice!;Lunch buffet Monday -...</td>\n",
       "      <td>[charge, rice, lunch, buffet, monday, saturday...</td>\n",
       "    </tr>\n",
       "    <tr>\n",
       "      <td>2</td>\n",
       "      <td>Found this place by accident. Good food and se...</td>\n",
       "      <td>[found, place, accident, good, food, service, ...</td>\n",
       "    </tr>\n",
       "    <tr>\n",
       "      <td>3</td>\n",
       "      <td>Has a drive thru! Yes! But there's a homeless ...</td>\n",
       "      <td>[drive, thru, yes, homeless, guy, hangs, drive...</td>\n",
       "    </tr>\n",
       "    <tr>\n",
       "      <td>4</td>\n",
       "      <td>The carne asada super nachos.are the bizness!;...</td>\n",
       "      <td>[carne, asada, super, nachos, bizness, cent, c...</td>\n",
       "    </tr>\n",
       "    <tr>\n",
       "      <td>...</td>\n",
       "      <td>...</td>\n",
       "      <td>...</td>\n",
       "    </tr>\n",
       "    <tr>\n",
       "      <td>3998</td>\n",
       "      <td>Their Pumpkin Concretes has a slice of pumpkin...</td>\n",
       "      <td>[pumpkin, concretes, slice, pumpkin, pie, blen...</td>\n",
       "    </tr>\n",
       "    <tr>\n",
       "      <td>3999</td>\n",
       "      <td>Delicious food;Opening 1/24 in the former A&amp;W/...</td>\n",
       "      <td>[delicious, food, opening, former, long, john,...</td>\n",
       "    </tr>\n",
       "    <tr>\n",
       "      <td>4000</td>\n",
       "      <td>1/2 lb Siopao and Mami is their specialty;Thei...</td>\n",
       "      <td>[lb, siopao, mami, specialty, sago, gulaman, p...</td>\n",
       "    </tr>\n",
       "    <tr>\n",
       "      <td>4001</td>\n",
       "      <td>A poor man's wingstop.;First timers;A little e...</td>\n",
       "      <td>[poor, man, wingstop, first, timers, little, e...</td>\n",
       "    </tr>\n",
       "    <tr>\n",
       "      <td>0</td>\n",
       "      <td>NaN</td>\n",
       "      <td>[words, illness, nausea, vomit, diarrhea, cram...</td>\n",
       "    </tr>\n",
       "  </tbody>\n",
       "</table>\n",
       "<p>4003 rows × 2 columns</p>\n",
       "</div>"
      ],
      "text/plain": [
       "                                               text_all  \\\n",
       "0     I stopped in here for lunch, but the older lad...   \n",
       "1     They charge $2 for rice!;Lunch buffet Monday -...   \n",
       "2     Found this place by accident. Good food and se...   \n",
       "3     Has a drive thru! Yes! But there's a homeless ...   \n",
       "4     The carne asada super nachos.are the bizness!;...   \n",
       "...                                                 ...   \n",
       "3998  Their Pumpkin Concretes has a slice of pumpkin...   \n",
       "3999  Delicious food;Opening 1/24 in the former A&W/...   \n",
       "4000  1/2 lb Siopao and Mami is their specialty;Thei...   \n",
       "4001  A poor man's wingstop.;First timers;A little e...   \n",
       "0                                                   NaN   \n",
       "\n",
       "                                             text_clean  \n",
       "0     [stopped, lunch, older, lady, greeting, custom...  \n",
       "1     [charge, rice, lunch, buffet, monday, saturday...  \n",
       "2     [found, place, accident, good, food, service, ...  \n",
       "3     [drive, thru, yes, homeless, guy, hangs, drive...  \n",
       "4     [carne, asada, super, nachos, bizness, cent, c...  \n",
       "...                                                 ...  \n",
       "3998  [pumpkin, concretes, slice, pumpkin, pie, blen...  \n",
       "3999  [delicious, food, opening, former, long, john,...  \n",
       "4000  [lb, siopao, mami, specialty, sago, gulaman, p...  \n",
       "4001  [poor, man, wingstop, first, timers, little, e...  \n",
       "0     [words, illness, nausea, vomit, diarrhea, cram...  \n",
       "\n",
       "[4003 rows x 2 columns]"
      ]
     },
     "execution_count": 296,
     "metadata": {},
     "output_type": "execute_result"
    }
   ],
   "source": [
    "# Add df_negative to the last row\n",
    "df_text.append(df_negative)\n",
    "#type(df_text)\n"
   ]
  },
  {
   "cell_type": "code",
   "execution_count": 297,
   "metadata": {},
   "outputs": [],
   "source": [
    "# Word2vec model\n",
    "model = Word2Vec(df_text['text_clean'], size = 100, window=5, min_count=1, workers=4)\n",
    "model.save(\"word2vec.model\")"
   ]
  },
  {
   "cell_type": "code",
   "execution_count": 313,
   "metadata": {},
   "outputs": [
    {
     "name": "stdout",
     "output_type": "stream",
     "text": [
      "Cosine similarity between '1st' and '2nd':  0.16348075254883457\n"
     ]
    },
    {
     "name": "stderr",
     "output_type": "stream",
     "text": [
      "/Users/kristenboyle/anaconda3/envs/food_venv/lib/python3.7/site-packages/ipykernel_launcher.py:3: DeprecationWarning: Call to deprecated `similarity` (Method will be removed in 4.0.0, use self.wv.similarity() instead).\n",
      "  This is separate from the ipykernel package so we can avoid doing imports until\n"
     ]
    }
   ],
   "source": [
    "# Predict the similarity between words based on the Word2vec model\n",
    "print(\"Cosine similarity between '1st' \" + \"and '2nd': \", \n",
    "      model.similarity('apple', 'hot'))"
   ]
  },
  {
   "cell_type": "code",
   "execution_count": 327,
   "metadata": {},
   "outputs": [],
   "source": [
    "# check if the text_clean column has any of the negative words\n",
    "def word_finder(x):\n",
    "    result = [elem for elem in negative_words_list if(elem in x)]\n",
    "    return result\n",
    "\n",
    "df_all['negative_word'] = df_all['text_clean'].apply(word_finder)"
   ]
  },
  {
   "cell_type": "code",
   "execution_count": 329,
   "metadata": {},
   "outputs": [
    {
     "data": {
      "text/plain": [
       "3992                                    []\n",
       "3993                                    []\n",
       "3994                                [suck]\n",
       "3995               [dirty, horrible, sick]\n",
       "3996                         [dirty, sick]\n",
       "3997    [fever, spider, gross, disgusting]\n",
       "3998                            [horrible]\n",
       "3999                                    []\n",
       "4000                            [inedible]\n",
       "4001                                    []\n",
       "Name: negative_word, dtype: object"
      ]
     },
     "execution_count": 329,
     "metadata": {},
     "output_type": "execute_result"
    }
   ],
   "source": [
    "df_all['negative_word'].tail(10)"
   ]
  },
  {
   "cell_type": "code",
   "execution_count": 330,
   "metadata": {},
   "outputs": [],
   "source": [
    "# Find the number of negative words based on the length of each row from 'negative_word'\n",
    "def freq_finder(x):\n",
    "    y = len(x)\n",
    "    return y\n",
    "\n",
    "df_all['negative_freq'] = df_all['negative_word'].apply(freq_finder)"
   ]
  },
  {
   "cell_type": "code",
   "execution_count": 340,
   "metadata": {},
   "outputs": [
    {
     "data": {
      "text/plain": [
       "0     2161\n",
       "1      901\n",
       "2      545\n",
       "3      186\n",
       "4      140\n",
       "5       27\n",
       "6       23\n",
       "7        6\n",
       "10       5\n",
       "8        5\n",
       "13       2\n",
       "9        1\n",
       "Name: negative_freq, dtype: int64"
      ]
     },
     "execution_count": 340,
     "metadata": {},
     "output_type": "execute_result"
    }
   ],
   "source": [
    "df_all.loc[:, ['negative_word', 'negative_freq']].head()\n",
    "df_all['negative_freq'].value_counts()"
   ]
  },
  {
   "cell_type": "code",
   "execution_count": 341,
   "metadata": {},
   "outputs": [
    {
     "name": "stdout",
     "output_type": "stream",
     "text": [
      "<class 'pandas.core.frame.DataFrame'>\n",
      "Int64Index: 4002 entries, 0 to 4001\n",
      "Data columns (total 21 columns):\n",
      "name                                 4002 non-null object\n",
      "2017                                 4002 non-null object\n",
      "address_x                            4002 non-null object\n",
      "2016                                 4002 non-null object\n",
      "2015                                 3763 non-null object\n",
      "2014                                 3998 non-null object\n",
      "2013                                 4001 non-null object\n",
      "business_id                          4002 non-null object\n",
      "compliment_count                     4002 non-null object\n",
      "date                                 4002 non-null object\n",
      "user_id                              4002 non-null object\n",
      "text                                 4002 non-null object\n",
      "text_all                             4002 non-null object\n",
      "text_clean                           4002 non-null object\n",
      "stars                                4002 non-null float64\n",
      "review_count                         4002 non-null int64\n",
      "categories                           4002 non-null object\n",
      "attributes.RestaurantsPriceRange2    4002 non-null object\n",
      "address_y                            4002 non-null object\n",
      "negative_word                        4002 non-null object\n",
      "negative_freq                        4002 non-null int64\n",
      "dtypes: float64(1), int64(2), object(18)\n",
      "memory usage: 847.8+ KB\n"
     ]
    }
   ],
   "source": [
    "df_all.info()"
   ]
  },
  {
   "cell_type": "code",
   "execution_count": 343,
   "metadata": {},
   "outputs": [
    {
     "data": {
      "image/png": "[encoded data removed]",
      "text/plain": [
       "<Figure size 432x288 with 1 Axes>"
      ]
     },
     "metadata": {
      "needs_background": "light"
     },
     "output_type": "display_data"
    }
   ],
   "source": [
    "import matplotlib.pyplot as plt\n",
    "import seaborn as sns\n",
    "%matplotlib inline\n",
    "ax1 = sns.barplot(x = df_all[\"2017\"], y = df_all[\"negative_freq\"], color = 'grey')"
   ]
  },
  {
   "cell_type": "code",
   "execution_count": 352,
   "metadata": {},
   "outputs": [
    {
     "data": {
      "text/plain": [
       "2017\n",
       "A    0.886413\n",
       "B    0.855469\n",
       "C    1.017544\n",
       "X    1.111111\n",
       "Name: negative_freq, dtype: float64"
      ]
     },
     "execution_count": 352,
     "metadata": {},
     "output_type": "execute_result"
    }
   ],
   "source": [
    "df_all[\"negative_freq\"].groupby(df_all[\"2017\"]).mean()"
   ]
  },
  {
   "cell_type": "code",
   "execution_count": 351,
   "metadata": {},
   "outputs": [
    {
     "data": {
      "image/png": "[encoded data removed]",
      "text/plain": [
       "<Figure size 432x288 with 1 Axes>"
      ]
     },
     "metadata": {
      "needs_background": "light"
     },
     "output_type": "display_data"
    }
   ],
   "source": [
    "ax1 = sns.scatterplot(x = df_all[\"stars\"], y = df_all[\"negative_freq\"], color = 'grey')"
   ]
  },
  {
   "cell_type": "code",
   "execution_count": 355,
   "metadata": {},
   "outputs": [
    {
     "data": {
      "text/plain": [
       "A    3680\n",
       "B     256\n",
       "C      57\n",
       "X       9\n",
       "Name: 2017, dtype: int64"
      ]
     },
     "execution_count": 355,
     "metadata": {},
     "output_type": "execute_result"
    }
   ],
   "source": [
    "df_all[\"2017\"].value_counts() # 92% of the observations belong to A"
   ]
  },
  {
   "cell_type": "code",
   "execution_count": 365,
   "metadata": {},
   "outputs": [
    {
     "data": {
      "text/plain": [
       "0    3680\n",
       "1     322\n",
       "Name: 2017_code, dtype: int64"
      ]
     },
     "execution_count": 365,
     "metadata": {},
     "output_type": "execute_result"
    }
   ],
   "source": [
    "# Enode 2017 into: 0 for A; 1 for B, C and X\n",
    "def label_to_numeric(x):\n",
    "    if x == \"A\":\n",
    "        y = 0\n",
    "    else:\n",
    "        y = 1\n",
    "    return y\n",
    "    \n",
    "df_all['2017_code'] = df_all['2017'].apply(label_to_numeric)\n",
    "df_all['2017_code'].value_counts()"
   ]
  },
  {
   "cell_type": "code",
   "execution_count": 422,
   "metadata": {},
   "outputs": [],
   "source": [
    "# Create predictor df\n",
    "df_X = df_all.loc[:, ['stars', 'review_count', 'negative_freq', 'attributes.RestaurantsPriceRange2']]\n",
    "from sklearn import preprocessing\n",
    "le = preprocessing.LabelEncoder()\n",
    "le.fit(df_X['attributes.RestaurantsPriceRange2'])\n",
    "df_X['attributes.RestaurantsPriceRange2'] = le.transform(df_X['attributes.RestaurantsPriceRange2'])"
   ]
  },
  {
   "cell_type": "code",
   "execution_count": 423,
   "metadata": {},
   "outputs": [
    {
     "data": {
      "text/html": [
       "<div>\n",
       "<style scoped>\n",
       "    .dataframe tbody tr th:only-of-type {\n",
       "        vertical-align: middle;\n",
       "    }\n",
       "\n",
       "    .dataframe tbody tr th {\n",
       "        vertical-align: top;\n",
       "    }\n",
       "\n",
       "    .dataframe thead th {\n",
       "        text-align: right;\n",
       "    }\n",
       "</style>\n",
       "<table border=\"1\" class=\"dataframe\">\n",
       "  <thead>\n",
       "    <tr style=\"text-align: right;\">\n",
       "      <th></th>\n",
       "      <th>stars</th>\n",
       "      <th>review_count</th>\n",
       "      <th>negative_freq</th>\n",
       "      <th>price</th>\n",
       "    </tr>\n",
       "  </thead>\n",
       "  <tbody>\n",
       "    <tr>\n",
       "      <td>0</td>\n",
       "      <td>4.0</td>\n",
       "      <td>41</td>\n",
       "      <td>0</td>\n",
       "      <td>0</td>\n",
       "    </tr>\n",
       "    <tr>\n",
       "      <td>1</td>\n",
       "      <td>4.5</td>\n",
       "      <td>103</td>\n",
       "      <td>2</td>\n",
       "      <td>0</td>\n",
       "    </tr>\n",
       "    <tr>\n",
       "      <td>2</td>\n",
       "      <td>2.5</td>\n",
       "      <td>14</td>\n",
       "      <td>2</td>\n",
       "      <td>1</td>\n",
       "    </tr>\n",
       "    <tr>\n",
       "      <td>3</td>\n",
       "      <td>2.5</td>\n",
       "      <td>18</td>\n",
       "      <td>3</td>\n",
       "      <td>0</td>\n",
       "    </tr>\n",
       "    <tr>\n",
       "      <td>4</td>\n",
       "      <td>4.0</td>\n",
       "      <td>9</td>\n",
       "      <td>0</td>\n",
       "      <td>0</td>\n",
       "    </tr>\n",
       "  </tbody>\n",
       "</table>\n",
       "</div>"
      ],
      "text/plain": [
       "   stars  review_count  negative_freq  price\n",
       "0    4.0            41              0      0\n",
       "1    4.5           103              2      0\n",
       "2    2.5            14              2      1\n",
       "3    2.5            18              3      0\n",
       "4    4.0             9              0      0"
      ]
     },
     "execution_count": 423,
     "metadata": {},
     "output_type": "execute_result"
    }
   ],
   "source": [
    "df_X.columns = ['stars', 'review_count', 'negative_freq', 'price']\n",
    "df_X.head()"
   ]
  },
  {
   "cell_type": "code",
   "execution_count": 424,
   "metadata": {},
   "outputs": [],
   "source": [
    "# Response variable\n",
    "df_y = df_all[\"2017_code\"].values"
   ]
  },
  {
   "cell_type": "code",
   "execution_count": 426,
   "metadata": {},
   "outputs": [
    {
     "ename": "AttributeError",
     "evalue": "'numpy.ndarray' object has no attribute 'values'",
     "output_type": "error",
     "traceback": [
      "\u001b[0;31m---------------------------------------------------------------------------\u001b[0m",
      "\u001b[0;31mAttributeError\u001b[0m                            Traceback (most recent call last)",
      "\u001b[0;32m<ipython-input-426-f96c3b854f7f>\u001b[0m in \u001b[0;36m<module>\u001b[0;34m\u001b[0m\n\u001b[1;32m      2\u001b[0m \u001b[0;32mimport\u001b[0m \u001b[0mnumpy\u001b[0m \u001b[0;32mas\u001b[0m \u001b[0mnp\u001b[0m\u001b[0;34m\u001b[0m\u001b[0;34m\u001b[0m\u001b[0m\n\u001b[1;32m      3\u001b[0m \u001b[0mX\u001b[0m \u001b[0;34m=\u001b[0m \u001b[0mdf_X\u001b[0m\u001b[0;34m\u001b[0m\u001b[0;34m\u001b[0m\u001b[0m\n\u001b[0;32m----> 4\u001b[0;31m \u001b[0my\u001b[0m \u001b[0;34m=\u001b[0m \u001b[0mdf_y\u001b[0m\u001b[0;34m.\u001b[0m\u001b[0mvalues\u001b[0m\u001b[0;34m\u001b[0m\u001b[0;34m\u001b[0m\u001b[0m\n\u001b[0m",
      "\u001b[0;31mAttributeError\u001b[0m: 'numpy.ndarray' object has no attribute 'values'"
     ]
    }
   ],
   "source": [
    "# Change df to np array\n",
    "import numpy as np\n",
    "X = df_X\n",
    "y = df_y.values"
   ]
  },
  {
   "cell_type": "code",
   "execution_count": 427,
   "metadata": {},
   "outputs": [
    {
     "data": {
      "text/plain": [
       "91.9080919080919"
      ]
     },
     "execution_count": 427,
     "metadata": {},
     "output_type": "execute_result"
    }
   ],
   "source": [
    "# Model development\n",
    "from sklearn.model_selection import train_test_split\n",
    "from sklearn.linear_model import LogisticRegression\n",
    "from sklearn.metrics import accuracy_score\n",
    "\n",
    "X_train, X_test, y_train, y_test = train_test_split(X, y, test_size = 0.25, random_state = 27)\n",
    "\n",
    "model_log = LogisticRegression(C=1e5, solver='lbfgs').fit(X_train, y_train)\n",
    " \n",
    "# Predict the test set\n",
    "y_pred = model_log.predict(X_test)\n",
    "\n",
    "# Mode accuracy\n",
    "model_accuracy_logistic = 100 * accuracy_score(y_test, y_pred)\n",
    "model_accuracy_logistic"
   ]
  },
  {
   "cell_type": "code",
   "execution_count": 428,
   "metadata": {},
   "outputs": [
    {
     "data": {
      "text/plain": [
       "91.5084915084915"
      ]
     },
     "execution_count": 428,
     "metadata": {},
     "output_type": "execute_result"
    }
   ],
   "source": [
    "from sklearn.ensemble import RandomForestClassifier\n",
    "model_rf = RandomForestClassifier(n_estimators = 100).fit(X_train, y_train)\n",
    "# Predict the test set\n",
    "y_pred = model_rf.predict(X_test)\n",
    "\n",
    "# Mode accuracy\n",
    "model_accuracy_rf = 100 * accuracy_score(y_test, y_pred)\n",
    "model_accuracy_rf"
   ]
  },
  {
   "cell_type": "code",
   "execution_count": 429,
   "metadata": {},
   "outputs": [
    {
     "data": {
      "text/plain": [
       "91.9080919080919"
      ]
     },
     "execution_count": 429,
     "metadata": {},
     "output_type": "execute_result"
    }
   ],
   "source": [
    "from sklearn import neighbors\n",
    "model_knn = neighbors.KNeighborsClassifier(10).fit(X_train, y_train)\n",
    "\n",
    "# Predict the test set\n",
    "y_pred = model_knn.predict(X_test)\n",
    "\n",
    "# Mode accuracy\n",
    "model_accuracy_knn = 100 * accuracy_score(y_test, y_pred)\n",
    "model_accuracy_knn"
   ]
  },
  {
   "cell_type": "code",
   "execution_count": 430,
   "metadata": {},
   "outputs": [
    {
     "ename": "TypeError",
     "evalue": "cannot concatenate object of type '<class 'numpy.ndarray'>'; only Series and DataFrame objs are valid",
     "output_type": "error",
     "traceback": [
      "\u001b[0;31m---------------------------------------------------------------------------\u001b[0m",
      "\u001b[0;31mTypeError\u001b[0m                                 Traceback (most recent call last)",
      "\u001b[0;32m<ipython-input-430-d222f8952264>\u001b[0m in \u001b[0;36m<module>\u001b[0;34m\u001b[0m\n\u001b[1;32m      4\u001b[0m \u001b[0mX_train\u001b[0m\u001b[0;34m,\u001b[0m \u001b[0mX_test\u001b[0m\u001b[0;34m,\u001b[0m \u001b[0my_train\u001b[0m\u001b[0;34m,\u001b[0m \u001b[0my_test\u001b[0m \u001b[0;34m=\u001b[0m \u001b[0mtrain_test_split\u001b[0m\u001b[0;34m(\u001b[0m\u001b[0mdf_X\u001b[0m\u001b[0;34m,\u001b[0m \u001b[0mdf_y\u001b[0m\u001b[0;34m,\u001b[0m \u001b[0mtest_size\u001b[0m \u001b[0;34m=\u001b[0m \u001b[0;36m0.25\u001b[0m\u001b[0;34m,\u001b[0m \u001b[0mrandom_state\u001b[0m \u001b[0;34m=\u001b[0m \u001b[0;36m27\u001b[0m\u001b[0;34m)\u001b[0m\u001b[0;34m\u001b[0m\u001b[0;34m\u001b[0m\u001b[0m\n\u001b[1;32m      5\u001b[0m \u001b[0;31m# Concatenate our training data back together\u001b[0m\u001b[0;34m\u001b[0m\u001b[0;34m\u001b[0m\u001b[0;34m\u001b[0m\u001b[0m\n\u001b[0;32m----> 6\u001b[0;31m \u001b[0mX\u001b[0m \u001b[0;34m=\u001b[0m \u001b[0mpd\u001b[0m\u001b[0;34m.\u001b[0m\u001b[0mconcat\u001b[0m\u001b[0;34m(\u001b[0m\u001b[0;34m[\u001b[0m\u001b[0mX_train\u001b[0m\u001b[0;34m,\u001b[0m \u001b[0my_train\u001b[0m\u001b[0;34m]\u001b[0m\u001b[0;34m,\u001b[0m \u001b[0maxis\u001b[0m\u001b[0;34m=\u001b[0m\u001b[0;36m1\u001b[0m\u001b[0;34m)\u001b[0m\u001b[0;34m\u001b[0m\u001b[0;34m\u001b[0m\u001b[0m\n\u001b[0m\u001b[1;32m      7\u001b[0m \u001b[0;34m\u001b[0m\u001b[0m\n\u001b[1;32m      8\u001b[0m \u001b[0;31m# Separate minority and majority classes\u001b[0m\u001b[0;34m\u001b[0m\u001b[0;34m\u001b[0m\u001b[0;34m\u001b[0m\u001b[0m\n",
      "\u001b[0;32m~/anaconda3/envs/food_venv/lib/python3.7/site-packages/pandas/core/reshape/concat.py\u001b[0m in \u001b[0;36mconcat\u001b[0;34m(objs, axis, join, join_axes, ignore_index, keys, levels, names, verify_integrity, sort, copy)\u001b[0m\n\u001b[1;32m    253\u001b[0m         \u001b[0mverify_integrity\u001b[0m\u001b[0;34m=\u001b[0m\u001b[0mverify_integrity\u001b[0m\u001b[0;34m,\u001b[0m\u001b[0;34m\u001b[0m\u001b[0;34m\u001b[0m\u001b[0m\n\u001b[1;32m    254\u001b[0m         \u001b[0mcopy\u001b[0m\u001b[0;34m=\u001b[0m\u001b[0mcopy\u001b[0m\u001b[0;34m,\u001b[0m\u001b[0;34m\u001b[0m\u001b[0;34m\u001b[0m\u001b[0m\n\u001b[0;32m--> 255\u001b[0;31m         \u001b[0msort\u001b[0m\u001b[0;34m=\u001b[0m\u001b[0msort\u001b[0m\u001b[0;34m,\u001b[0m\u001b[0;34m\u001b[0m\u001b[0;34m\u001b[0m\u001b[0m\n\u001b[0m\u001b[1;32m    256\u001b[0m     )\n\u001b[1;32m    257\u001b[0m \u001b[0;34m\u001b[0m\u001b[0m\n",
      "\u001b[0;32m~/anaconda3/envs/food_venv/lib/python3.7/site-packages/pandas/core/reshape/concat.py\u001b[0m in \u001b[0;36m__init__\u001b[0;34m(self, objs, axis, join, join_axes, keys, levels, names, ignore_index, verify_integrity, copy, sort)\u001b[0m\n\u001b[1;32m    330\u001b[0m                     \u001b[0;34m\" only Series and DataFrame objs are valid\"\u001b[0m\u001b[0;34m.\u001b[0m\u001b[0mformat\u001b[0m\u001b[0;34m(\u001b[0m\u001b[0mtype\u001b[0m\u001b[0;34m(\u001b[0m\u001b[0mobj\u001b[0m\u001b[0;34m)\u001b[0m\u001b[0;34m)\u001b[0m\u001b[0;34m\u001b[0m\u001b[0;34m\u001b[0m\u001b[0m\n\u001b[1;32m    331\u001b[0m                 )\n\u001b[0;32m--> 332\u001b[0;31m                 \u001b[0;32mraise\u001b[0m \u001b[0mTypeError\u001b[0m\u001b[0;34m(\u001b[0m\u001b[0mmsg\u001b[0m\u001b[0;34m)\u001b[0m\u001b[0;34m\u001b[0m\u001b[0;34m\u001b[0m\u001b[0m\n\u001b[0m\u001b[1;32m    333\u001b[0m \u001b[0;34m\u001b[0m\u001b[0m\n\u001b[1;32m    334\u001b[0m             \u001b[0;31m# consolidate\u001b[0m\u001b[0;34m\u001b[0m\u001b[0;34m\u001b[0m\u001b[0;34m\u001b[0m\u001b[0m\n",
      "\u001b[0;31mTypeError\u001b[0m: cannot concatenate object of type '<class 'numpy.ndarray'>'; only Series and DataFrame objs are valid"
     ]
    }
   ],
   "source": [
    "# Oversampling minority class\n",
    "from sklearn.utils import resample\n",
    "\n",
    "X_train, X_test, y_train, y_test = train_test_split(df_X, df_y, test_size = 0.25, random_state = 27)\n",
    "# Concatenate our training data back together\n",
    "X = pd.concat([X_train, y_train], axis=1)\n",
    "\n",
    "# Separate minority and majority classes\n",
    "good = X[df_y == 0]\n",
    "bad = X[df_y == 1]\n",
    "\n",
    "# upsample minority\n",
    "bad_upsampled = resample(bad, replace = True, # sample with replacement\n",
    "                         n_samples = len(good), # match number in majority class\n",
    "                         random_state = 27) # reproducible results\n",
    "\n",
    "# Combine majority and upsampled minority\n",
    "upsampled = pd.concat([good, bad_upsampled])\n",
    "upsampled.head()"
   ]
  },
  {
   "cell_type": "code",
   "execution_count": 446,
   "metadata": {},
   "outputs": [],
   "source": [
    "X_train = upsampled.loc[:, ['stars', 'review_count', 'negative_freq', 'price']]\n",
    "y_train = upsampled['2017_code']\n",
    "\n",
    "model_log = LogisticRegression(C=1e5, solver='lbfgs').fit(X_train, y_train)\n",
    " \n",
    "# Predict the test set\n",
    "y_pred2 = model_log.predict(X_test)\n",
    "\n",
    "# Mode accuracy\n",
    "model_accuracy_logistic2 = 100 * accuracy_score(y_test, y_pred2)\n",
    "model_accuracy_logistic2\n",
    "\n",
    "import pickle\n",
    "# saving\n",
    "with open('model_logistic.pickle', 'wb') as handle:\n",
    "    pickle.dump(model_log, handle, protocol=pickle.HIGHEST_PROTOCOL)"
   ]
  },
  {
   "cell_type": "code",
   "execution_count": 432,
   "metadata": {},
   "outputs": [
    {
     "data": {
      "text/plain": [
       "1    2740\n",
       "0    2740\n",
       "Name: 2017_code, dtype: int64"
      ]
     },
     "execution_count": 432,
     "metadata": {},
     "output_type": "execute_result"
    }
   ],
   "source": [
    "upsampled['2017_code'].value_counts()"
   ]
  },
  {
   "cell_type": "code",
   "execution_count": 433,
   "metadata": {},
   "outputs": [
    {
     "data": {
      "text/plain": [
       "62.637362637362635"
      ]
     },
     "execution_count": 433,
     "metadata": {},
     "output_type": "execute_result"
    }
   ],
   "source": [
    "\n",
    "model_knn = neighbors.KNeighborsClassifier(10).fit(X_train, y_train)\n",
    "\n",
    "# Predict the test set\n",
    "y_pred2 = model_knn.predict(X_test)\n",
    "\n",
    "# Mode accuracy\n",
    "model_accuracy_knn2 = 100 * accuracy_score(y_test, y_pred2)\n",
    "model_accuracy_knn2"
   ]
  },
  {
   "cell_type": "code",
   "execution_count": 434,
   "metadata": {},
   "outputs": [
    {
     "data": {
      "text/plain": [
       "57.24275724275725"
      ]
     },
     "execution_count": 434,
     "metadata": {},
     "output_type": "execute_result"
    }
   ],
   "source": [
    "model_rf = RandomForestClassifier(n_estimators = 100).fit(X_train, y_train)\n",
    "# Predict the test set\n",
    "y_pred2 = model_rf.predict(X_test)\n",
    "\n",
    "# Mode accuracy\n",
    "model_accuracy_rf2 = 100 * accuracy_score(y_test, y_pred2)\n",
    "model_accuracy_rf2"
   ]
  },
  {
   "cell_type": "code",
   "execution_count": 438,
   "metadata": {},
   "outputs": [
    {
     "data": {
      "text/plain": [
       "(940,)"
      ]
     },
     "execution_count": 438,
     "metadata": {},
     "output_type": "execute_result"
    }
   ],
   "source": [
    "a  = y_test\n",
    "a_good = a[a==0]\n",
    "a_bad = a[a==1]\n",
    "a_good.shape"
   ]
  },
  {
   "cell_type": "code",
   "execution_count": 440,
   "metadata": {},
   "outputs": [
    {
     "data": {
      "text/plain": [
       "(61,)"
      ]
     },
     "execution_count": 440,
     "metadata": {},
     "output_type": "execute_result"
    }
   ],
   "source": [
    "a_bad.shape"
   ]
  },
  {
   "cell_type": "code",
   "execution_count": 447,
   "metadata": {},
   "outputs": [
    {
     "data": {
      "text/html": [
       "<div>\n",
       "<style scoped>\n",
       "    .dataframe tbody tr th:only-of-type {\n",
       "        vertical-align: middle;\n",
       "    }\n",
       "\n",
       "    .dataframe tbody tr th {\n",
       "        vertical-align: top;\n",
       "    }\n",
       "\n",
       "    .dataframe thead th {\n",
       "        text-align: right;\n",
       "    }\n",
       "</style>\n",
       "<table border=\"1\" class=\"dataframe\">\n",
       "  <thead>\n",
       "    <tr style=\"text-align: right;\">\n",
       "      <th></th>\n",
       "      <th>stars</th>\n",
       "      <th>review_count</th>\n",
       "      <th>negative_freq</th>\n",
       "      <th>price</th>\n",
       "    </tr>\n",
       "  </thead>\n",
       "  <tbody>\n",
       "    <tr>\n",
       "      <td>3019</td>\n",
       "      <td>2.5</td>\n",
       "      <td>51</td>\n",
       "      <td>0</td>\n",
       "      <td>0</td>\n",
       "    </tr>\n",
       "    <tr>\n",
       "      <td>642</td>\n",
       "      <td>2.5</td>\n",
       "      <td>151</td>\n",
       "      <td>2</td>\n",
       "      <td>0</td>\n",
       "    </tr>\n",
       "    <tr>\n",
       "      <td>1307</td>\n",
       "      <td>3.5</td>\n",
       "      <td>64</td>\n",
       "      <td>0</td>\n",
       "      <td>0</td>\n",
       "    </tr>\n",
       "    <tr>\n",
       "      <td>412</td>\n",
       "      <td>2.5</td>\n",
       "      <td>52</td>\n",
       "      <td>2</td>\n",
       "      <td>0</td>\n",
       "    </tr>\n",
       "    <tr>\n",
       "      <td>91</td>\n",
       "      <td>3.5</td>\n",
       "      <td>71</td>\n",
       "      <td>1</td>\n",
       "      <td>0</td>\n",
       "    </tr>\n",
       "  </tbody>\n",
       "</table>\n",
       "</div>"
      ],
      "text/plain": [
       "      stars  review_count  negative_freq  price\n",
       "3019    2.5            51              0      0\n",
       "642     2.5           151              2      0\n",
       "1307    3.5            64              0      0\n",
       "412     2.5            52              2      0\n",
       "91      3.5            71              1      0"
      ]
     },
     "execution_count": 447,
     "metadata": {},
     "output_type": "execute_result"
    }
   ],
   "source": [
    "X_test[0:5]"
   ]
  },
  {
   "cell_type": "code",
   "execution_count": 448,
   "metadata": {},
   "outputs": [
    {
     "data": {
      "text/plain": [
       "pandas.core.frame.DataFrame"
      ]
     },
     "execution_count": 448,
     "metadata": {},
     "output_type": "execute_result"
    }
   ],
   "source": [
    "type(X_test)"
   ]
  },
  {
   "cell_type": "code",
   "execution_count": 449,
   "metadata": {},
   "outputs": [
    {
     "data": {
      "text/plain": [
       "array([0, 0, 0, ..., 0, 0, 0])"
      ]
     },
     "execution_count": 449,
     "metadata": {},
     "output_type": "execute_result"
    }
   ],
   "source": [
    "y_pred"
   ]
  },
  {
   "cell_type": "code",
   "execution_count": null,
   "metadata": {},
   "outputs": [],
   "source": []
  }
 ],
 "metadata": {
  "kernelspec": {
   "display_name": "Python 3",
   "language": "python",
   "name": "python3"
  },
  "language_info": {
   "codemirror_mode": {
    "name": "ipython",
    "version": 3
   },
   "file_extension": ".py",
   "mimetype": "text/x-python",
   "name": "python",
   "nbconvert_exporter": "python",
   "pygments_lexer": "ipython3",
   "version": "3.7.3"
  }
 },
 "nbformat": 4,
 "nbformat_minor": 2
}
